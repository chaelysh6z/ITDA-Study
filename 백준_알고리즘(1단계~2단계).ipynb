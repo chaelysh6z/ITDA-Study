{
  "nbformat": 4,
  "nbformat_minor": 0,
  "metadata": {
    "colab": {
      "name": "백준 알고리즘(1단계~2단계).ipynb",
      "provenance": [],
      "collapsed_sections": [],
      "authorship_tag": "ABX9TyOBg/UXBJoNb6sGblIAwHre",
      "include_colab_link": true
    },
    "kernelspec": {
      "name": "python3",
      "display_name": "Python 3"
    },
    "language_info": {
      "name": "python"
    }
  },
  "cells": [
    {
      "cell_type": "markdown",
      "metadata": {
        "id": "view-in-github",
        "colab_type": "text"
      },
      "source": [
        "<a href=\"https://colab.research.google.com/github/chaelysh6z/ITDA-Study/blob/main/%EB%B0%B1%EC%A4%80_%EB%8B%A8%EA%B3%84%EB%B3%84%EB%A1%9C_%ED%92%80%EC%96%B4%EB%B3%B4%EA%B8%B0(1%EB%8B%A8%EA%B3%84~2%EB%8B%A8%EA%B3%84).ipynb\" target=\"_parent\"><img src=\"https://colab.research.google.com/assets/colab-badge.svg\" alt=\"Open In Colab\"/></a>"
      ]
    },
    {
      "cell_type": "markdown",
      "metadata": {
        "id": "JFYiNfFTkzNV"
      },
      "source": [
        "# **백준 알고리즘(1단계~2단계)**"
      ]
    },
    {
      "cell_type": "markdown",
      "metadata": {
        "id": "zfRxQiIZeZpL"
      },
      "source": [
        "## **1단계 - 입출력과 사칙연산**"
      ]
    },
    {
      "cell_type": "markdown",
      "metadata": {
        "id": "1OlRp3Ceene0"
      },
      "source": [
        "### **1. Hello World**\n",
        "Hello World!를 출력하시오."
      ]
    },
    {
      "cell_type": "code",
      "metadata": {
        "colab": {
          "base_uri": "https://localhost:8080/"
        },
        "id": "O_uaw5IkcaPi",
        "outputId": "8b32a02b-ff65-4b0f-c020-e8fceb3e0872"
      },
      "source": [
        "print(\"Hello World!\")"
      ],
      "execution_count": 20,
      "outputs": [
        {
          "output_type": "stream",
          "name": "stdout",
          "text": [
            "Hello World!\n"
          ]
        }
      ]
    },
    {
      "cell_type": "markdown",
      "metadata": {
        "id": "hSVmGvPWe6oX"
      },
      "source": [
        "### **2. We love kriii**\n",
        "ACM-ICPC 인터넷 예선, Regional, 그리고 World Finals까지 이미 2회씩 진출해버린 kriii는 미련을 버리지 못하고 왠지 모르게 올해에도 파주 World Finals 준비 캠프에 참여했다.\n",
        "\n",
        "대회를 뜰 줄 모르는 지박령 kriii를 위해서 격려의 문구를 출력해주자."
      ]
    },
    {
      "cell_type": "code",
      "metadata": {
        "colab": {
          "base_uri": "https://localhost:8080/"
        },
        "id": "UeIaPJkXfcQ1",
        "outputId": "cd1bdb51-851c-43de-e30d-435273f7db47"
      },
      "source": [
        "print(\"강한친구 대한육군\\n강한친구 대한육군\")"
      ],
      "execution_count": null,
      "outputs": [
        {
          "output_type": "stream",
          "name": "stdout",
          "text": [
            "강한친구 대한육군\n",
            "강한친구 대한육군\n"
          ]
        }
      ]
    },
    {
      "cell_type": "markdown",
      "metadata": {
        "id": "lmkM8eXRfkNO"
      },
      "source": [
        "### **3. 고양이**\n",
        "아래 예제와 같이 고양이를 출력하시오."
      ]
    },
    {
      "cell_type": "code",
      "metadata": {
        "colab": {
          "base_uri": "https://localhost:8080/"
        },
        "id": "kcLsUT0Vfxxr",
        "outputId": "98d5a02e-f457-4c41-d087-e4751f70267e"
      },
      "source": [
        "print(\"\\\\    /\\\\\")\n",
        "print(\" )  ( ')\")\n",
        "print(\"(  /  )\")\n",
        "print(\" \\\\(__)|\")"
      ],
      "execution_count": null,
      "outputs": [
        {
          "output_type": "stream",
          "name": "stdout",
          "text": [
            "\\    /\\\n",
            " )  ( ')\n",
            "(  /  )\n",
            " \\(__)|\n"
          ]
        }
      ]
    },
    {
      "cell_type": "markdown",
      "metadata": {
        "id": "JjGYWCI1gPQy"
      },
      "source": [
        "### **4. 개**\n",
        "아래 예제와 같이 개를 출력하시오."
      ]
    },
    {
      "cell_type": "code",
      "metadata": {
        "colab": {
          "base_uri": "https://localhost:8080/"
        },
        "id": "UU5VPj80gYO5",
        "outputId": "f3a64f9f-38a3-4209-e256-be5837fde1b9"
      },
      "source": [
        "print(\"|\\\\_/|\")\n",
        "print(\"|q p|   /}\")\n",
        "print(\"( 0 )\\\"\\\"\\\"\\\\\")\n",
        "print(\"|\\\"^\\\"`    |\")\n",
        "print(\"||_/=\\\\\\\\__|\")"
      ],
      "execution_count": null,
      "outputs": [
        {
          "output_type": "stream",
          "name": "stdout",
          "text": [
            "|\\_/|\n",
            "|q p|   /}\n",
            "( 0 )\"\"\"\\\n",
            "|\"^\"`    |\n",
            "||_/=\\\\__|\n"
          ]
        }
      ]
    },
    {
      "cell_type": "markdown",
      "metadata": {
        "id": "x2T-oKC8gapJ"
      },
      "source": [
        "### **5. A+B**\n",
        "두 정수 A와 B를 입력받은 다음, A+B를 출력하는 프로그램을 작성하시오."
      ]
    },
    {
      "cell_type": "code",
      "metadata": {
        "colab": {
          "base_uri": "https://localhost:8080/"
        },
        "id": "wwO54DfJgp5g",
        "outputId": "f92865d9-dbb3-43b1-cb45-ee31d260a0c8"
      },
      "source": [
        "a, b = map(int, input().split())\n",
        "print(a+b)"
      ],
      "execution_count": null,
      "outputs": [
        {
          "output_type": "stream",
          "name": "stdout",
          "text": [
            "2 3\n",
            "5\n"
          ]
        }
      ]
    },
    {
      "cell_type": "markdown",
      "metadata": {
        "id": "FGw4AiUvguB_"
      },
      "source": [
        "### **6. A-B**\n",
        "두 정수 A와 B를 입력받은 다음, A-B를 출력하는 프로그램을 작성하시오."
      ]
    },
    {
      "cell_type": "code",
      "metadata": {
        "colab": {
          "base_uri": "https://localhost:8080/"
        },
        "id": "eKNQ0PUwg0PG",
        "outputId": "c452e31f-17cd-4394-90b6-c5e52f42bdd5"
      },
      "source": [
        "a, b = map(int, input().split())\n",
        "print(a - b)"
      ],
      "execution_count": null,
      "outputs": [
        {
          "output_type": "stream",
          "name": "stdout",
          "text": [
            "5 3\n",
            "2\n"
          ]
        }
      ]
    },
    {
      "cell_type": "markdown",
      "metadata": {
        "id": "jcd_YjCnhC2k"
      },
      "source": [
        "### **7. A×B**\n",
        "두 정수 A와 B를 입력받은 다음, A×B를 출력하는 프로그램을 작성하시오."
      ]
    },
    {
      "cell_type": "code",
      "metadata": {
        "colab": {
          "base_uri": "https://localhost:8080/"
        },
        "id": "1ygPG2i7hLZt",
        "outputId": "735ee286-1893-4fab-c3a1-129847ffcb6b"
      },
      "source": [
        "a, b = map(int, input().split())\n",
        "print(a * b)"
      ],
      "execution_count": null,
      "outputs": [
        {
          "output_type": "stream",
          "name": "stdout",
          "text": [
            "2 3\n",
            "6\n"
          ]
        }
      ]
    },
    {
      "cell_type": "markdown",
      "metadata": {
        "id": "oUjSGXsqhQK-"
      },
      "source": [
        "### **8. A/B**\n",
        "두 정수 A와 B를 입력받은 다음, A/B를 출력하는 프로그램을 작성하시오."
      ]
    },
    {
      "cell_type": "code",
      "metadata": {
        "colab": {
          "base_uri": "https://localhost:8080/"
        },
        "id": "iQdVP2M9hdRm",
        "outputId": "dda5a75f-3341-4b88-a9d0-5119a964c5d5"
      },
      "source": [
        "a, b = map(int, input().split())\n",
        "print(a / b)"
      ],
      "execution_count": null,
      "outputs": [
        {
          "output_type": "stream",
          "name": "stdout",
          "text": [
            "6 3\n",
            "2.0\n"
          ]
        }
      ]
    },
    {
      "cell_type": "markdown",
      "metadata": {
        "id": "S58HUzCohonS"
      },
      "source": [
        "### **9. 사칙연산**\n",
        "두 자연수 A와 B가 주어진다. 이때, A+B, A-B, A*B, A/B(몫), A%B(나머지)를 출력하는 프로그램을 작성하시오. "
      ]
    },
    {
      "cell_type": "code",
      "metadata": {
        "colab": {
          "base_uri": "https://localhost:8080/"
        },
        "id": "5Fet-51fhwGB",
        "outputId": "820ee2c9-6c97-4ed9-96aa-07b4a24b7c76"
      },
      "source": [
        "a, b = map(int,input().split())\n",
        "print(a + b)\n",
        "print(a - b)\n",
        "print(a * b)\n",
        "print(a // b)\n",
        "print(a % b)"
      ],
      "execution_count": null,
      "outputs": [
        {
          "output_type": "stream",
          "name": "stdout",
          "text": [
            "6 2\n",
            "8\n",
            "4\n",
            "12\n",
            "3\n",
            "0\n"
          ]
        }
      ]
    },
    {
      "cell_type": "markdown",
      "metadata": {
        "id": "LdwQFcykh3x6"
      },
      "source": [
        "### **10. 나머지**\n",
        "(A+B)%C는 ((A%C) + (B%C))%C 와 같을까?\n",
        "\n",
        "(A×B)%C는 ((A%C) × (B%C))%C 와 같을까?\n",
        "\n",
        "세 수 A, B, C가 주어졌을 때, 위의 네 가지 값을 구하는 프로그램을 작성하시오."
      ]
    },
    {
      "cell_type": "code",
      "metadata": {
        "colab": {
          "base_uri": "https://localhost:8080/"
        },
        "id": "qAjYxtU7iF5d",
        "outputId": "10253770-e5e6-4f54-a195-b9aae144ed40"
      },
      "source": [
        "a, b, c = map(int, input().split())\n",
        "print((a + b) % c)\n",
        "print(((a % c) + (b % c)) % c)\n",
        "print((a * b) % c)\n",
        "print(((a % c) * (b % c)) % c)"
      ],
      "execution_count": null,
      "outputs": [
        {
          "output_type": "stream",
          "name": "stdout",
          "text": [
            "2 3 4\n",
            "1\n",
            "1\n",
            "2\n",
            "2\n"
          ]
        }
      ]
    },
    {
      "cell_type": "markdown",
      "metadata": {
        "id": "GIcsh6aAiJSG"
      },
      "source": [
        "### **11. 곱셈**\n",
        "(세 자리 수) × (세 자리 수)는 다음과 같은 과정을 통하여 이루어진다.\n",
        "\n",
        "\n",
        "\n",
        "(1)과 (2)위치에 들어갈 세 자리 자연수가 주어질 때 (3), (4), (5), (6)위치에 들어갈 값을 구하는 프로그램을 작성하시오."
      ]
    },
    {
      "cell_type": "code",
      "metadata": {
        "colab": {
          "base_uri": "https://localhost:8080/"
        },
        "id": "ImVOeQlWiSOJ",
        "outputId": "54e547a5-c233-45d7-f346-3ad44836a197"
      },
      "source": [
        "a = int(input())\n",
        "b = list(input())\n",
        "\n",
        "b1 = a * int(b[2])\n",
        "b2 = a * int(b[1])\n",
        "b3 = a * int(b[0])\n",
        "\n",
        "print(b1)\n",
        "print(b2)\n",
        "print(b3)\n",
        "print(b1 + (b2 * 10) + (b3 * 100))"
      ],
      "execution_count": null,
      "outputs": [
        {
          "output_type": "stream",
          "name": "stdout",
          "text": [
            "472\n",
            "385\n",
            "2360\n",
            "3776\n",
            "1416\n",
            "181720\n"
          ]
        }
      ]
    },
    {
      "cell_type": "markdown",
      "metadata": {
        "id": "iGbgGuE9inrO"
      },
      "source": [
        "## **2단계 - if문**"
      ]
    },
    {
      "cell_type": "markdown",
      "metadata": {
        "id": "m1f7tufyisNx"
      },
      "source": [
        "### **1. 두 수 비교하기**\n",
        "두 정수 A와 B가 주어졌을 때, A와 B를 비교하는 프로그램을 작성하시오."
      ]
    },
    {
      "cell_type": "code",
      "metadata": {
        "colab": {
          "base_uri": "https://localhost:8080/"
        },
        "id": "_kzb8G8TiroC",
        "outputId": "5221b1b9-7a7a-4c1c-c126-8f2243ffda40"
      },
      "source": [
        "a, b = map(int, input().split())\n",
        "\n",
        "if a > b :\n",
        "    print(\">\")\n",
        "elif a < b :\n",
        "    print(\"<\")\n",
        "elif a == b :\n",
        "    print(\"==\")"
      ],
      "execution_count": null,
      "outputs": [
        {
          "output_type": "stream",
          "name": "stdout",
          "text": [
            "3 7\n",
            "<\n"
          ]
        }
      ]
    },
    {
      "cell_type": "markdown",
      "metadata": {
        "id": "O7iV0LZIi3EY"
      },
      "source": [
        "### **2. 시험 성적**\n",
        "시험 점수를 입력받아 90 ~ 100점은 A, 80 ~ 89점은 B, 70 ~ 79점은 C, 60 ~ 69점은 D, 나머지 점수는 F를 출력하는 프로그램을 작성하시오."
      ]
    },
    {
      "cell_type": "code",
      "metadata": {
        "colab": {
          "base_uri": "https://localhost:8080/"
        },
        "id": "88qZV_Aii-sb",
        "outputId": "9ccf4a8b-d732-46b0-f7d5-15df9bc14684"
      },
      "source": [
        "score = int(input())\n",
        "\n",
        "if score >= 90 :\n",
        "    print(\"A\")\n",
        "elif score >= 80 :\n",
        "    print(\"B\")\n",
        "elif score >= 70 :\n",
        "    print(\"C\")\n",
        "elif score >= 60 :\n",
        "    print(\"D\")\n",
        "else :\n",
        "    print(\"F\")"
      ],
      "execution_count": null,
      "outputs": [
        {
          "output_type": "stream",
          "name": "stdout",
          "text": [
            "98\n",
            "A\n"
          ]
        }
      ]
    },
    {
      "cell_type": "markdown",
      "metadata": {
        "id": "5GnRUYYIjEfb"
      },
      "source": [
        "### **3. 윤년**\n",
        "연도가 주어졌을 때, 윤년이면 1, 아니면 0을 출력하는 프로그램을 작성하시오.\n",
        "\n",
        "윤년은 연도가 4의 배수이면서, 100의 배수가 아닐 때 또는 400의 배수일 때이다.\n",
        "\n",
        "예를 들어, 2012년은 4의 배수이면서 100의 배수가 아니라서 윤년이다. 1900년은 100의 배수이고 400의 배수는 아니기 때문에 윤년이 아니다. 하지만, 2000년은 400의 배수이기 때문에 윤년이다."
      ]
    },
    {
      "cell_type": "code",
      "metadata": {
        "colab": {
          "base_uri": "https://localhost:8080/"
        },
        "id": "ZVV8MPtKjOx1",
        "outputId": "ddae4a80-ec43-4d66-d20a-5cd1f7fbe502"
      },
      "source": [
        "year = int(input())\n",
        "\n",
        "if ((year % 4 == 0) and (year % 100 != 0)) or (year % 400 == 0) :\n",
        "    print(1)\n",
        "else :\n",
        "    print(0)"
      ],
      "execution_count": null,
      "outputs": [
        {
          "output_type": "stream",
          "name": "stdout",
          "text": [
            "2021\n",
            "0\n"
          ]
        }
      ]
    },
    {
      "cell_type": "markdown",
      "metadata": {
        "id": "S8onyM47jUMC"
      },
      "source": [
        "### **4. 사분면 고르기**\n",
        "흔한 수학 문제 중 하나는 주어진 점이 어느 사분면에 속하는지 알아내는 것이다. 사분면은 아래 그림처럼 1부터 4까지 번호를 갖는다. \"Quadrant n\"은 \"제n사분면\"이라는 뜻이다.\n",
        "\n",
        "\n",
        "\n",
        "예를 들어, 좌표가 (12, 5)인 점 A는 x좌표와 y좌표가 모두 양수이므로 제1사분면에 속한다. 점 B는 x좌표가 음수이고 y좌표가 양수이므로 제2사분면에 속한다.\n",
        "\n",
        "점의 좌표를 입력받아 그 점이 어느 사분면에 속하는지 알아내는 프로그램을 작성하시오. 단, x좌표와 y좌표는 모두 양수나 음수라고 가정한다."
      ]
    },
    {
      "cell_type": "code",
      "metadata": {
        "colab": {
          "base_uri": "https://localhost:8080/"
        },
        "id": "D1UvUi0cjfT_",
        "outputId": "a1c52df4-edf3-4623-b10b-85cb1ea366a5"
      },
      "source": [
        "a = int(input())\n",
        "b = int(input())\n",
        "\n",
        "if (a > 0) and (b > 0) :\n",
        "    print(1)\n",
        "elif (a < 0) and (b > 0) :\n",
        "    print(2)\n",
        "elif (a < 0) and (b < 0) :\n",
        "    print(3)\n",
        "elif (a > 0) and (b < 0) :\n",
        "    print(4)"
      ],
      "execution_count": null,
      "outputs": [
        {
          "output_type": "stream",
          "name": "stdout",
          "text": [
            "12\n",
            "5\n",
            "1\n"
          ]
        }
      ]
    },
    {
      "cell_type": "markdown",
      "metadata": {
        "id": "4GpYADXBjnQq"
      },
      "source": [
        "### **5. 알람 시계**\n",
        "상근이는 매일 아침 알람을 듣고 일어난다. 알람을 듣고 바로 일어나면 다행이겠지만, 항상 조금만 더 자려는 마음 때문에 매일 학교를 지각하고 있다.\n",
        "\n",
        "상근이는 모든 방법을 동원해보았지만, 조금만 더 자려는 마음은 그 어떤 것도 없앨 수가 없었다.\n",
        "\n",
        "이런 상근이를 불쌍하게 보던, 창영이는 자신이 사용하는 방법을 추천해 주었다.\n",
        "\n",
        "바로 \"45분 일찍 알람 설정하기\"이다.\n",
        "\n",
        "이 방법은 단순하다. 원래 설정되어 있는 알람을 45분 앞서는 시간으로 바꾸는 것이다. 어차피 알람 소리를 들으면, 알람을 끄고 조금 더 잘 것이기 때문이다. 이 방법을 사용하면, 매일 아침 더 잤다는 기분을 느낄 수 있고, 학교도 지각하지 않게 된다.\n",
        "\n",
        "현재 상근이가 설정한 알람 시각이 주어졌을 때, 창영이의 방법을 사용한다면, 이를 언제로 고쳐야 하는지 구하는 프로그램을 작성하시오."
      ]
    },
    {
      "cell_type": "code",
      "metadata": {
        "colab": {
          "base_uri": "https://localhost:8080/"
        },
        "id": "FBUNx_SzjuJz",
        "outputId": "66e1abd3-76b8-4023-8889-e7fd75e96d6c"
      },
      "source": [
        "H, M = map(int, input().split())\n",
        "\n",
        "if M >= 45 :\n",
        "    M = M - 45\n",
        "elif M < 45 :\n",
        "    M = 60 + (M - 45)\n",
        "    if H >= 1 :\n",
        "        H = H - 1\n",
        "    elif H == 0 :\n",
        "        H = 24 + (H - 1)\n",
        "    \n",
        "print(H, M)"
      ],
      "execution_count": null,
      "outputs": [
        {
          "output_type": "stream",
          "name": "stdout",
          "text": [
            "7 15\n",
            "6 30\n"
          ]
        }
      ]
    }
  ]
}
