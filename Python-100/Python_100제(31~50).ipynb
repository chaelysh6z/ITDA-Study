{
  "nbformat": 4,
  "nbformat_minor": 0,
  "metadata": {
    "colab": {
      "name": "Python 100제(31~50).ipynb",
      "provenance": [],
      "collapsed_sections": [],
      "authorship_tag": "ABX9TyOBCWNoXjRKIGIjVdtA+RZ/",
      "include_colab_link": true
    },
    "kernelspec": {
      "name": "python3",
      "display_name": "Python 3"
    },
    "language_info": {
      "name": "python"
    }
  },
  "cells": [
    {
      "cell_type": "markdown",
      "metadata": {
        "id": "view-in-github",
        "colab_type": "text"
      },
      "source": [
        "<a href=\"https://colab.research.google.com/github/chaelysh6z/Python-100/blob/main/Python_100%EC%A0%9C(31~50).ipynb\" target=\"_parent\"><img src=\"https://colab.research.google.com/assets/colab-badge.svg\" alt=\"Open In Colab\"/></a>"
      ]
    },
    {
      "cell_type": "markdown",
      "metadata": {
        "id": "9otwRDOXDwJI"
      },
      "source": [
        "# **Python 100제(31~50)**"
      ]
    },
    {
      "cell_type": "markdown",
      "metadata": {
        "id": "kPbNkvOaDxsr"
      },
      "source": [
        "## **문제31 : 파이썬 자료형의 복잡도**\n",
        "다음 리스트의 내장함수의 시간 복잡도가 O(1)이 아닌것은?\n",
        "\n",
        "1)  l[i]  \n",
        "2)  l.append(5)  \n",
        "**3)  l[a:b]** **O(b-a)**  \n",
        "4)  l.pop()  \n",
        "5)  l.clear()  "
      ]
    },
    {
      "cell_type": "markdown",
      "metadata": {
        "id": "tToWbQyGEeRV"
      },
      "source": [
        "## **문제32 : 문자열 만들기**\n",
        "취업 준비생인 혜림이는 자기소개서를 쓰고 있습니다. 열심히 자기소개서를 작성하던 도중 혜림이는 자기가 지금까지 단어를 얼마나 적었는지 궁금하게 됩니다. \n",
        "\n",
        "혜림이를 위해 문자열을 입력받으면 단어의 갯수를 출력하는 프로그램을 작성해 주세요."
      ]
    },
    {
      "cell_type": "code",
      "metadata": {
        "colab": {
          "base_uri": "https://localhost:8080/"
        },
        "id": "fC7Io2R9DmHy",
        "outputId": "cb12f5db-19b1-45b2-ccc3-db8c9551c143"
      },
      "source": [
        "s = input(\"문자열을 입력하세요: \").split()\n",
        "\n",
        "print(len(s))"
      ],
      "execution_count": 1,
      "outputs": [
        {
          "output_type": "stream",
          "name": "stdout",
          "text": [
            "문자열을 입력하세요: 안녕하세요. 저는 제주대학교 컴퓨터공학전공 혜림입니다.\n",
            "5\n"
          ]
        }
      ]
    },
    {
      "cell_type": "markdown",
      "metadata": {
        "id": "EZy351HxE6QU"
      },
      "source": [
        "## **문제33 : 거꾸로 출력하기**\n",
        "한 줄에 여러개의 숫자가 입력되면, 역순으로 그 숫자들을 하나씩 출력하는 프로그램을 작성하시오."
      ]
    },
    {
      "cell_type": "code",
      "metadata": {
        "colab": {
          "base_uri": "https://localhost:8080/"
        },
        "id": "Tj2F98mZE9W_",
        "outputId": "2be082f8-85a6-4c2a-deb5-5d6d39257e0f"
      },
      "source": [
        "n = input(\"여러 개의 숫자를 공백으로 구분하여 입력하세요: \").split()\n",
        "\n",
        "for i in range(len(n)-1, -1, -1):\n",
        "  print(n[i], end=\" \")"
      ],
      "execution_count": 2,
      "outputs": [
        {
          "output_type": "stream",
          "name": "stdout",
          "text": [
            "여러 개의 숫자를 공백으로 구분하여 입력하세요: 1 2 3 4 5\n",
            "5 4 3 2 1 "
          ]
        }
      ]
    },
    {
      "cell_type": "markdown",
      "metadata": {
        "id": "h26MZTajGZZG"
      },
      "source": [
        "## **문제34 : sort 확인하기**\n",
        "민주는 체육부장으로 체육시간이 되면 반 친구들이 제대로 키 순서대로 모였는지를 확인해야 한다. 그런데 요즘 민주는 그것이 너무 번거롭게 느껴져 한 번에 확인하고 싶어한다. \n",
        "\n",
        "민주를 위해 키가 주어지면 순서대로 제대로 섰는지 확인하는 프로그램을 작성해보자."
      ]
    },
    {
      "cell_type": "code",
      "metadata": {
        "colab": {
          "base_uri": "https://localhost:8080/"
        },
        "id": "zB3MJKUOGdhV",
        "outputId": "1af851b2-dde6-4590-bab1-3a5d6a5ebd28"
      },
      "source": [
        "heights = list(map(int, input(\"키를 공백으로 구분하여 입력하세요: \").split()))\n",
        "\n",
        "if heights != sorted(heights):\n",
        "  print(\"NO\")\n",
        "\n",
        "else:\n",
        "  print()      "
      ],
      "execution_count": 3,
      "outputs": [
        {
          "output_type": "stream",
          "name": "stdout",
          "text": [
            "키를 공백으로 구분하여 입력하세요: 176 156 155 165 166 169\n",
            "NO\n"
          ]
        }
      ]
    },
    {
      "cell_type": "code",
      "metadata": {
        "colab": {
          "base_uri": "https://localhost:8080/"
        },
        "id": "MH1qklkKOIn9",
        "outputId": "944f6cd2-5cef-4c24-ad4c-c71b03a960ad"
      },
      "source": [
        "heights = list(map(int, input(\"키를 공백으로 구분하여 입력하세요: \").split()))\n",
        "temp_heights = list(heights) # temp_heights = heights로 하면 같은 객체, list나 heights[:]로 생성하면 다른 객체\n",
        "\n",
        "for i in range(0, len(temp_heights)):\n",
        "  for j in range(i+1, len(temp_heights)):\n",
        "    if temp_heights[i] > temp_heights[j]:\n",
        "      temp = temp_heights[i]\n",
        "      temp_heights[i] = temp_heights[j]\n",
        "      temp_heights[j] = temp\n",
        "\n",
        "print(heights)\n",
        "print(temp_heights)\n",
        "\n",
        "if heights != temp_heights:\n",
        "  print(\"NO\")\n",
        "else:\n",
        "  print(\"YES\")"
      ],
      "execution_count": 4,
      "outputs": [
        {
          "output_type": "stream",
          "name": "stdout",
          "text": [
            "키를 공백으로 구분하여 입력하세요: 176 156 155 165 166 169\n",
            "[176, 156, 155, 165, 166, 169]\n",
            "[155, 156, 165, 166, 169, 176]\n",
            "NO\n"
          ]
        }
      ]
    },
    {
      "cell_type": "markdown",
      "metadata": {
        "id": "P0KtNrRAOviw"
      },
      "source": [
        "## **문제35 : Factory 함수 사용하기**\n",
        "2제곱, 3제곱, 4제곱을 할 수 있는 Factory 함수를 만들려고 합니다. "
      ]
    },
    {
      "cell_type": "code",
      "metadata": {
        "colab": {
          "base_uri": "https://localhost:8080/"
        },
        "id": "wEKmv9rhPGNx",
        "outputId": "ccad1766-eef8-47d4-e394-e1397d05c3a6"
      },
      "source": [
        "def one(n):\n",
        "    def two(value):\n",
        "        sq = value ** n\n",
        "        return sq\n",
        "    return two\n",
        "\n",
        "a = one(2) # 2제곱을 할 수 있는 함수를 반환\n",
        "b = one(3) # 3제곱을 할 수 있는 함수를 반환\n",
        "c = one(4) # 4제곱을 할 수 있는 함수를 반환\n",
        "print(a(10)) # a는 2제곱을 할 수 있는 함수를 가지고 있음\n",
        "print(b(10)) # b는 3제곱을 할 수 있는 함수를 가지고 있음\n",
        "print(c(10)) # c는 4제곱을 할 수 있는 함수를 가지고 있음"
      ],
      "execution_count": 5,
      "outputs": [
        {
          "output_type": "stream",
          "name": "stdout",
          "text": [
            "100\n",
            "1000\n",
            "10000\n"
          ]
        }
      ]
    },
    {
      "cell_type": "markdown",
      "metadata": {
        "id": "6gdp0NXwRiVv"
      },
      "source": [
        "## **문제36 : 구구단 출력하기**\n",
        "1~9까지의 숫자 중 하나를 입력하면 그 단의 구구단 결과를 한 줄에 출력하는 프로그램을 작성하세요."
      ]
    },
    {
      "cell_type": "code",
      "metadata": {
        "colab": {
          "base_uri": "https://localhost:8080/"
        },
        "id": "NohSeRfQRrQ5",
        "outputId": "15e03368-be87-4788-fb35-09f2382b9797"
      },
      "source": [
        "n = int(input(\"숫자를 입력하세요: \"))\n",
        "\n",
        "for i in range(1, 10):\n",
        "  print(n*i, end=\" \")"
      ],
      "execution_count": 6,
      "outputs": [
        {
          "output_type": "stream",
          "name": "stdout",
          "text": [
            "숫자를 입력하세요: 2\n",
            "2 4 6 8 10 12 14 16 18 "
          ]
        }
      ]
    },
    {
      "cell_type": "markdown",
      "metadata": {
        "id": "z8wa6avARq32"
      },
      "source": [
        "## **문제37 : count 사용하기**\n",
        "새 학기를 맞아 호준이네 반은 반장 선거를 하기로 했습니다.  그런데 표를 하나씩 개표하는 과정이 너무 번거롭게 느껴진 당신은 **학생들이 뽑은 후보들을 입력받으면 뽑힌 학생의 이름과 받은 표 수를 출력하는 프로그램**을 작성하기로 하였습니다."
      ]
    },
    {
      "cell_type": "code",
      "metadata": {
        "colab": {
          "base_uri": "https://localhost:8080/"
        },
        "id": "ShBYOn8ZSqzA",
        "outputId": "dae8b8c0-0ee6-4c62-a405-1b2edc8d424e"
      },
      "source": [
        "data = input(\"뽑힌 학생의 이름을 공백으로 구분하여 입력하세요: \").split()\n",
        "new_data = list(set(data)) # set은 순서가 없으므로 인덱스로 접근하려면 list로 변환\n",
        "\n",
        "# for문을 이용한 중복 제거\n",
        "# new_data = [] \n",
        "# for i in data:\n",
        "#   if i not in new_data:\n",
        "#     new_data.append(i)\n",
        "\n",
        "name = new_data[0]\n",
        "count = data.count(new_data[0])\n",
        "\n",
        "for i in range(1, len(new_data)):\n",
        "  if count < data.count(new_data[i]):\n",
        "    name = new_data[i]\n",
        "    count = data.count(new_data[i])\n",
        "\n",
        "print(\"{}(이)가 총 {}표로 반장이 되었습니다.\" .format(name, count))"
      ],
      "execution_count": 7,
      "outputs": [
        {
          "output_type": "stream",
          "name": "stdout",
          "text": [
            "뽑힌 학생의 이름을 공백으로 구분하여 입력하세요: 원범 원범 혜원 혜원 혜원 혜원 유진 유진\n",
            "혜원(이)가 총 4표로 반장이 되었습니다.\n"
          ]
        }
      ]
    },
    {
      "cell_type": "markdown",
      "metadata": {
        "id": "odJ3m47sRqaE"
      },
      "source": [
        "## **문제38 : 호준이의 아르바이트**\n",
        "호준이는 아르바이트로 영어 학원에서 단어 시험지를 채점하는 일을 하고 있다. 호준이가 일하는 학원은 매번 1위부터 3위까지의 학생에게 상으로 사탕을 준다. 그런데 오늘은 마침 사탕이 다 떨어져서 호준이가 채점을 하고 점수를 보내면, 당신이 아이들의 숫자만큼 사탕을 사러 가기로 했다.\n",
        "\n",
        "학생들의 점수를 공백으로 구분하여 입력받는다. 1위~ 3위 학생은 여러명일 수 있고 1~3위 학생 중 중복되는 학생까지 포함하여 사탕을 사기로 한다.\n",
        "\n",
        "- 학생 수는 4명 이상입니다.\n",
        "- 숫자 외에 다른 값은 입력되지 않습니다."
      ]
    },
    {
      "cell_type": "code",
      "metadata": {
        "colab": {
          "base_uri": "https://localhost:8080/"
        },
        "id": "-FFDSLpthR1U",
        "outputId": "f4c75ed8-09f2-466f-e56e-6eb73e933e6b"
      },
      "source": [
        "scores = list(map(int, input(\"점수를 공백으로 구분하여 입력하세요: \").split()))\n",
        "new_scores = sorted(list(set(scores)), reverse=True) # reverse=True로 하면 오름차순 정렬\n",
        "\n",
        "count = 0\n",
        "\n",
        "if len(new_scores) <= 3:\n",
        "  count = len(scores)\n",
        "else:\n",
        "  for i in range(0, 3):\n",
        "    count = count + scores.count(new_scores[i])\n",
        "\n",
        "print(count)"
      ],
      "execution_count": 8,
      "outputs": [
        {
          "output_type": "stream",
          "name": "stdout",
          "text": [
            "점수를 공백으로 구분하여 입력하세요: 97 86 75 66 55 97 85 97 97 95\n",
            "6\n"
          ]
        }
      ]
    },
    {
      "cell_type": "markdown",
      "metadata": {
        "id": "2sqw5L615P7N"
      },
      "source": [
        "## **문제39 : 오타 수정하기**\n",
        "혜원이는 평소 영타가 빠르고 정확한 것을 친구들에게 자랑하고 다녔습니다. 반 친구들이 혜원이의 타자 속도가 빠르다는 것을 모두 알게 되자 혜원이는 모두의 앞에서 타자 실력을 보여주게 됩니다. \n",
        "\n",
        "그런데 막상 보여주려니 긴장이 되서 문장의 모든 e를 q로, n을 b로 잘못 친 것을 발견했습니다. \n",
        "혜원이는 프로그램을 돌려 재빠르게 모든 q를 e로, b를 n으로 바꾸는 프로그램을 작성하려고 합니다.\n",
        "\n",
        "**문장이 입력되면 모든 q를 e로, b를 n으로 바꾸는 프로그램을 작성해 주세요.**\n",
        "\n",
        "- 완성하려는 문장 안에 q나 b가 들어가지 않는다고 가정합니다."
      ]
    },
    {
      "cell_type": "code",
      "metadata": {
        "colab": {
          "base_uri": "https://localhost:8080/"
        },
        "id": "56-mZ2Wk5hK-",
        "outputId": "4ea8a118-1e57-466a-a734-4342fcf54854"
      },
      "source": [
        "s = list(input(\"문장을 입력하세요: \"))\n",
        "\n",
        "for i in range(len(s)):\n",
        "  if s[i] == 'q':\n",
        "    s[i] = 'e'\n",
        "  elif s[i] == 'b':\n",
        "    s[i] = 'n' \n",
        "  print(s[i], end=\"\")"
      ],
      "execution_count": 9,
      "outputs": [
        {
          "output_type": "stream",
          "name": "stdout",
          "text": [
            "문장을 입력하세요: querty\n",
            "euerty"
          ]
        }
      ]
    },
    {
      "cell_type": "code",
      "metadata": {
        "colab": {
          "base_uri": "https://localhost:8080/"
        },
        "id": "A5tp_QHe8via",
        "outputId": "e33d1b68-13d3-4ed5-84ee-ce40aa53b735"
      },
      "source": [
        "s = input(\"문장을 입력하세요: \")\n",
        "print(s.replace('q', 'e').replace('b', 'n'))"
      ],
      "execution_count": 10,
      "outputs": [
        {
          "output_type": "stream",
          "name": "stdout",
          "text": [
            "문장을 입력하세요: hqllo my bamq is hyqwob\n",
            "hello my name is hyewon\n"
          ]
        }
      ]
    },
    {
      "cell_type": "markdown",
      "metadata": {
        "id": "9zYnQmkq9Jgt"
      },
      "source": [
        "## **문제40 : 놀이동산에 가자**\n",
        "테마파크에 온 원범이와 친구들은 놀이기구를 타려고 합니다. 모든 놀이기구는 한번에 타는 인원수에는 제한이 없지만 제한 무게를 넘으면 무조건 다음 기구를 타야 합니다. \n",
        "\n",
        "**원범이와 친구들이 총 몇 명 탈 수 있는지 알 수 있는 프로그램을 작성해 주세요.**\n",
        "\n",
        "첫번째 줄에서 제한 무게가 주어지고 두번째 줄에서는 함께한 친구들의 수 n이 주어집니다. \n",
        "그 다음 차례대로 탑승할 친구들의 몸무게가 주어집니다. 몸무게는 무작위로 주어집니다.\n",
        "\n",
        "- 단, 놀이기구는 선착순으로만 탈 수 있습니다.\n",
        "- 두 명 이상의 인원이 항상 탑승합니다."
      ]
    },
    {
      "cell_type": "code",
      "metadata": {
        "colab": {
          "base_uri": "https://localhost:8080/"
        },
        "id": "PxTSY4Zg9NzS",
        "outputId": "2fbdfc6b-47ad-47ec-add2-77ec01083f54"
      },
      "source": [
        "limit = int(input(\"제한 무게를 입력하세요: \"))\n",
        "n = int(input(\"함께한 친구들의 수를 입력하세요: \"))\n",
        "weights = []\n",
        "for i in range(n):\n",
        "  weights.append(int(input(\"탑승할 친구들의 몸무게를 입력하세요: \")))\n",
        "\n",
        "total = 0\n",
        "count = 0\n",
        "\n",
        "for i in range(len(weights)):\n",
        "  total = total + weights[i]\n",
        "  if total <= limit:\n",
        "    count = count + 1\n",
        "  else:\n",
        "    break;\n",
        "\n",
        "print(count)"
      ],
      "execution_count": 11,
      "outputs": [
        {
          "output_type": "stream",
          "name": "stdout",
          "text": [
            "제한 무게를 입력하세요: 50\n",
            "함께한 친구들의 수를 입력하세요: 5\n",
            "탑승할 친구들의 몸무게를 입력하세요: 20\n",
            "탑승할 친구들의 몸무게를 입력하세요: 20\n",
            "탑승할 친구들의 몸무게를 입력하세요: 20\n",
            "탑승할 친구들의 몸무게를 입력하세요: 20\n",
            "탑승할 친구들의 몸무게를 입력하세요: 20\n",
            "2\n"
          ]
        }
      ]
    },
    {
      "cell_type": "markdown",
      "metadata": {
        "id": "StXqJgeYETRj"
      },
      "source": [
        "## **문제41 : 소수판별**\n",
        "숫자가 주어지면 **소수인지 아닌지 판별하는 프로그램**을 작성해주세요.\n",
        "소수이면 YES로, 소수가 아니면 NO로 출력해주세요.\n",
        "\n",
        "- 소수 : 1과 자기 자신만으로 나누어떨어지는 1보다 큰 양의 정수\n",
        "- 음의 소수는 고려하지 않습니다."
      ]
    },
    {
      "cell_type": "code",
      "metadata": {
        "colab": {
          "base_uri": "https://localhost:8080/"
        },
        "id": "qHcKnN3REYN1",
        "outputId": "efed87a9-d8d5-44be-b64d-69d42826f9ae"
      },
      "source": [
        "n = int(input(\"숫자를 입력하세요: \"))\n",
        "is_prime = True\n",
        "\n",
        "if n <= 1:\n",
        "  is_prime = False\n",
        "else:\n",
        "  for i in range(2, n):\n",
        "    if n % i == 0:\n",
        "      is_prime = False\n",
        "      break\n",
        "\n",
        "if is_prime == True:\n",
        "  print(\"YES\")\n",
        "else:\n",
        "  print(\"NO\")"
      ],
      "execution_count": 12,
      "outputs": [
        {
          "output_type": "stream",
          "name": "stdout",
          "text": [
            "숫자를 입력하세요: 5\n",
            "YES\n"
          ]
        }
      ]
    },
    {
      "cell_type": "markdown",
      "metadata": {
        "id": "Th_l5Sw9JKdl"
      },
      "source": [
        "## **문제42 : 요일 구하기(datetime 모듈 사용)**\n",
        "2020년 1월 1일은 수요일입니다. 2020년 a월 b일은 무슨 요일일까요?\n",
        "두 수 a, b를 입력받아 2020년 a월 b일이 무슨 요일인지 리턴하는 함수, solution을 완성하세요.\n",
        "요일의 이름은 일요일부터 토요일까지 각각 SUN, MON, TUE, WED, THU, FRI, SAT 입니다.\n",
        "\n",
        "예를 들어 a = 5, b = 24라면 5월 24일은 일요일이므로 문자열 \"SUN\"를 반환하세요.\n",
        "\n",
        "**제한 조건**\n",
        "\n",
        "- 2020년은 윤년입니다.\n",
        "- 2020년 a월 b일은 실제로 있는 날입니다. \n",
        "(13월 26일이나 2월 45일 같은 날짜는 주어지지 않습니다.)\n",
        "- datetime 모듈을 사용하세요."
      ]
    },
    {
      "cell_type": "code",
      "metadata": {
        "colab": {
          "base_uri": "https://localhost:8080/"
        },
        "id": "uhuMDWERJOOo",
        "outputId": "556ecf45-45ac-4659-fa20-2cac9be4cd2c"
      },
      "source": [
        "import datetime\n",
        "\n",
        "def solution(a, b):\n",
        "  date = datetime.date(2020, a, b)\n",
        "  day = date.weekday()\n",
        "  print(days[day])\n",
        "\n",
        "days = ['MON', 'TUE', 'WED', 'THU', 'FRI', 'SAT', 'SUN']\n",
        "a = int(input(\"월을 입력하세요: \"))\n",
        "b = int(input(\"일을 입력하세요: \"))\n",
        "solution(a, b)"
      ],
      "execution_count": 13,
      "outputs": [
        {
          "output_type": "stream",
          "name": "stdout",
          "text": [
            "월을 입력하세요: 5\n",
            "일을 입력하세요: 24\n",
            "SUN\n"
          ]
        }
      ]
    },
    {
      "cell_type": "code",
      "metadata": {
        "colab": {
          "base_uri": "https://localhost:8080/"
        },
        "id": "aW9PqvtUNuyG",
        "outputId": "6a2bcb7c-f551-4bbf-a84f-123022ba55a2"
      },
      "source": [
        "import datetime\n",
        "\n",
        "m = int(input())\n",
        "d = int(input())\n",
        "\n",
        "def findDay(a, b):\n",
        "    day = [\"MON\",\"TUE\",\"WED\",\"THU\",\"FRI\",\"SAT\",\"SUN\"]\n",
        "    return day[datetime.date(2020, a, b).weekday()]\n",
        "\n",
        "print(findDay(m, d))"
      ],
      "execution_count": 14,
      "outputs": [
        {
          "output_type": "stream",
          "name": "stdout",
          "text": [
            "5\n",
            "24\n",
            "SUN\n"
          ]
        }
      ]
    },
    {
      "cell_type": "markdown",
      "metadata": {
        "id": "PIWSThflN57-"
      },
      "source": [
        "## **문제43 : 10진수를 2진수로**\n",
        "우리가 흔히 사용하는 숫자 1, 8, 19, 28893 등등...은 10진수 체계입니다.\n",
        "이를 컴퓨터가 알아 들을 수 있는 2진수로 바꾸려고 합니다. 어떻게 해야할까요?\n",
        "\n",
        "예를들어 13은 2^3 + 2^2 + 2^0 = 13 이기때문에 1101으로 표현합니다\n",
        "\n",
        "**사용자에게 숫자를 입력받고 이를 2진수를 바꾸고 그 값을 출력해주세요.**\n",
        "(bin 함수를 사용하지 않고 풀어주세요.)"
      ]
    },
    {
      "cell_type": "code",
      "metadata": {
        "colab": {
          "base_uri": "https://localhost:8080/"
        },
        "id": "7Loqxg9WN9eT",
        "outputId": "ae963265-7299-439d-a92d-58737d72b9d0"
      },
      "source": [
        "n = int(input(\"숫자를 입력해주세요: \"))\n",
        "remainder = []\n",
        "\n",
        "while n > 0:\n",
        "  remainder.append(n%2)\n",
        "  n = n // 2\n",
        "\n",
        "for i in range(len(remainder)-1, -1, -1):\n",
        "  print(remainder[i], end=\"\")"
      ],
      "execution_count": 15,
      "outputs": [
        {
          "output_type": "stream",
          "name": "stdout",
          "text": [
            "숫자를 입력해주세요: 13\n",
            "1101"
          ]
        }
      ]
    },
    {
      "cell_type": "markdown",
      "metadata": {
        "id": "mPG4mjo_WY7F"
      },
      "source": [
        "## **문제44 : 각 자리수의 합**\n",
        "**사용자가 입력한 양의 정수의 각 자리수의 합을 구하는 프로그램**을 만들어주세요\n",
        "\n",
        "**예를들어**\n",
        "18234 = 1+8+2+3+4 이고 정답은 18 입니다.\n",
        "3849 = 3+8+4+9 이고 정답은 24입니다."
      ]
    },
    {
      "cell_type": "code",
      "metadata": {
        "colab": {
          "base_uri": "https://localhost:8080/"
        },
        "id": "oHLCX_oOWeJF",
        "outputId": "f5dfcda8-f7e4-48b0-93fa-ba3a0c0e1819"
      },
      "source": [
        "n = list(map(int, input(\"양의 정수를 입력하세요: \")))\n",
        "sum = 0\n",
        "\n",
        "for i in range(0, len(n)):\n",
        "  sum = sum + n[i]\n",
        "\n",
        "print(sum)"
      ],
      "execution_count": 16,
      "outputs": [
        {
          "output_type": "stream",
          "name": "stdout",
          "text": [
            "양의 정수를 입력하세요: 18234\n",
            "18\n"
          ]
        }
      ]
    },
    {
      "cell_type": "code",
      "metadata": {
        "colab": {
          "base_uri": "https://localhost:8080/"
        },
        "id": "Qi6AsZHGZQ83",
        "outputId": "9f78bf31-67d8-4cf0-9641-c379d4a49f86"
      },
      "source": [
        "n = list(map(int, input(\"양의 정수를 입력하세요: \")))\n",
        "sum = 0\n",
        "\n",
        "for i in n:\n",
        "  sum = sum + i\n",
        "\n",
        "print(sum)"
      ],
      "execution_count": 17,
      "outputs": [
        {
          "output_type": "stream",
          "name": "stdout",
          "text": [
            "양의 정수를 입력하세요: 3849\n",
            "24\n"
          ]
        }
      ]
    },
    {
      "cell_type": "markdown",
      "metadata": {
        "id": "y702Wju0ZbLd"
      },
      "source": [
        "## **문제45 : time함수 사용하기**\n",
        "python의 모듈 중 하나인 **time 모듈**은 1970년 1월 1일 0시 0분 0초 이후로부터 지금까지 흐른 시간을 초단위로 반환합니다\n",
        "\n",
        "이를 이용하여 **현재 연도(2021)를 출력해보세요**"
      ]
    },
    {
      "cell_type": "code",
      "metadata": {
        "colab": {
          "base_uri": "https://localhost:8080/"
        },
        "id": "nAjO0oMBZ20P",
        "outputId": "37e95352-31ca-4cc6-ac73-3a37cdf9228e"
      },
      "source": [
        "import time\n",
        "\n",
        "time = time.time()\n",
        "time = int(time // (3600 * 24 * 365)) + 1970\n",
        "print(time)"
      ],
      "execution_count": 18,
      "outputs": [
        {
          "output_type": "stream",
          "name": "stdout",
          "text": [
            "2021\n"
          ]
        }
      ]
    },
    {
      "cell_type": "markdown",
      "metadata": {
        "id": "XFOpAK5wbvb9"
      },
      "source": [
        "## **문제46 : str 자료형의 응용**\n",
        "1부터 100까지의(100을 포함) 모든 숫자를 일렬로 놓고 모든 자릿수의 총 합을 구하세요. \n",
        "\n",
        "예를 들어 10부터 15까지의 모든 숫자를 일렬로 놓으면 101112131415이고 각 자리의 숫자를 더하면 25입니다."
      ]
    },
    {
      "cell_type": "code",
      "metadata": {
        "colab": {
          "base_uri": "https://localhost:8080/"
        },
        "id": "tGoW6RWrbu65",
        "outputId": "4ea0aa11-0049-4563-e3c0-a305a557f36c"
      },
      "source": [
        "s = \"\"\n",
        "\n",
        "for i in range(1, 101):\n",
        "  s = s + str(i)\n",
        "\n",
        "s = list(map(int, s))\n",
        "\n",
        "sum = 0\n",
        "\n",
        "for i in range(len(s)):\n",
        "  sum = sum + s[i]\n",
        "\n",
        "print(sum)"
      ],
      "execution_count": 27,
      "outputs": [
        {
          "output_type": "stream",
          "name": "stdout",
          "text": [
            "[1, 2, 3, 4, 5, 6, 7, 8, 9, 1, 0, 1, 1, 1, 2, 1, 3, 1, 4, 1, 5, 1, 6, 1, 7, 1, 8, 1, 9, 2, 0, 2, 1, 2, 2, 2, 3, 2, 4, 2, 5, 2, 6, 2, 7, 2, 8, 2, 9, 3, 0, 3, 1, 3, 2, 3, 3, 3, 4, 3, 5, 3, 6, 3, 7, 3, 8, 3, 9, 4, 0, 4, 1, 4, 2, 4, 3, 4, 4, 4, 5, 4, 6, 4, 7, 4, 8, 4, 9, 5, 0, 5, 1, 5, 2, 5, 3, 5, 4, 5, 5, 5, 6, 5, 7, 5, 8, 5, 9, 6, 0, 6, 1, 6, 2, 6, 3, 6, 4, 6, 5, 6, 6, 6, 7, 6, 8, 6, 9, 7, 0, 7, 1, 7, 2, 7, 3, 7, 4, 7, 5, 7, 6, 7, 7, 7, 8, 7, 9, 8, 0, 8, 1, 8, 2, 8, 3, 8, 4, 8, 5, 8, 6, 8, 7, 8, 8, 8, 9, 9, 0, 9, 1, 9, 2, 9, 3, 9, 4, 9, 5, 9, 6, 9, 7, 9, 8, 9, 9, 1, 0, 0]\n",
            "901\n"
          ]
        }
      ]
    },
    {
      "cell_type": "markdown",
      "metadata": {
        "id": "ZomEjLWjhZpy"
      },
      "source": [
        "## **문제47 : set 자료형의 응용**\n",
        "바울랩에서는 3월 29일 제주대학교에서 '제주 빅데이터 사회혁신 해커톤' 행사를 주최하게 되었습니다. 이에 구글 설문지를 배포하였으나 제주대학생들이 중복해서 n개씩 설문지를 제출하였습니다. **중복된 데이터들을 삭제하여 실제 접수 명단이 몇 명인지 알고 싶습니다.**\n",
        "\n",
        "아래 주어진 데이터들로부터 중복을 제거하여 실제 접수 인원을 출력해 주세요."
      ]
    },
    {
      "cell_type": "code",
      "metadata": {
        "colab": {
          "base_uri": "https://localhost:8080/"
        },
        "id": "pUCMvjjqhY7Q",
        "outputId": "752fcfda-348a-455b-e637-24f41f9fee77"
      },
      "source": [
        "people = [\n",
        "         ('이호준', '01050442903'),\n",
        "         ('이호상', '01051442904'),\n",
        "         ('이준호', '01050342904'),\n",
        "         ('이호준', '01050442903'),\n",
        "         ('이준', '01050412904'),\n",
        "         ('이호', '01050443904'),\n",
        "         ('이호준', '01050442903'),\n",
        "         ]\n",
        "\n",
        "print(len(set(people)))"
      ],
      "execution_count": 29,
      "outputs": [
        {
          "output_type": "stream",
          "name": "stdout",
          "text": [
            "5\n"
          ]
        }
      ]
    },
    {
      "cell_type": "markdown",
      "metadata": {
        "id": "v-5uJBIKh54p"
      },
      "source": [
        "## **문제48 : 대소문자 바꿔서 출력하기**\n",
        "문자열이 주어지면 대문자와 소문자를 바꿔서 출력하는 프로그램을 작성하세요."
      ]
    },
    {
      "cell_type": "code",
      "metadata": {
        "colab": {
          "base_uri": "https://localhost:8080/"
        },
        "id": "TkJq7XBRj_pj",
        "outputId": "580d0e21-c000-4d20-c6f5-c8b3e31fe62b"
      },
      "source": [
        "s = list(input(\"문자열을 입력하세요: \"))\n",
        "\n",
        "for i in range(len(s)):\n",
        "  s[i] = ord(s[i]) # 문자를 아스키코드로 변환\n",
        "  if s[i] >= ord('A') and s[i] <= ord('Z'):\n",
        "    s[i] = s[i] + 32\n",
        "  elif s[i] >= ord('a') and s[i] <= ord('z'):\n",
        "    s[i] = s[i] - 32\n",
        "  s[i] = chr(s[i]) # 아스키코드를 문자로 변환\n",
        "  print(s[i], end=\"\")"
      ],
      "execution_count": 46,
      "outputs": [
        {
          "output_type": "stream",
          "name": "stdout",
          "text": [
            "문자열을 입력하세요: AAABBBcccddd\n",
            "aaabbbCCCDDD"
          ]
        }
      ]
    },
    {
      "cell_type": "code",
      "metadata": {
        "colab": {
          "base_uri": "https://localhost:8080/"
        },
        "id": "W7b3ZgVLnLHz",
        "outputId": "fb4db990-249d-44fd-8028-b4fe7d0141eb"
      },
      "source": [
        "a = input(\"문자열을 입력하세요: \")\n",
        "b = []\n",
        "\n",
        "for i in range(len(a)):\n",
        "  if a[i].islower():\n",
        "    b.append(a[i].upper())\n",
        "  else:\n",
        "    b.append(a[i].lower())\n",
        "\n",
        "for i in range(len(b)):\n",
        "  print(b[i], end=\"\")"
      ],
      "execution_count": 49,
      "outputs": [
        {
          "output_type": "stream",
          "name": "stdout",
          "text": [
            "문자열을 입력하세요: AAABBBcccddd\n",
            "aaabbbCCCDDD"
          ]
        }
      ]
    },
    {
      "cell_type": "markdown",
      "metadata": {
        "id": "1kUFwt4IoUDl"
      },
      "source": [
        "## **문제49 : 최댓값 구하기**\n",
        "순서가 없는 10개의 숫자가 공백으로 구분되어 주어진다. 주어진 숫자들 중 최댓값을 반환하라."
      ]
    },
    {
      "cell_type": "code",
      "metadata": {
        "colab": {
          "base_uri": "https://localhost:8080/"
        },
        "id": "jeJcOsWcpjMo",
        "outputId": "43230abc-4b6d-4c4c-b21c-f473970d9593"
      },
      "source": [
        "n = sorted(list(map(int, input(\"숫자를 공백으로 구분하여 입력하세요: \").split())))\n",
        "print(n[len(n)-1])"
      ],
      "execution_count": 57,
      "outputs": [
        {
          "output_type": "stream",
          "name": "stdout",
          "text": [
            "숫자를 공백으로 구분하여 입력하세요: 10 9 8 7 6 5 4 3 2 1\n",
            "10\n"
          ]
        }
      ]
    },
    {
      "cell_type": "code",
      "metadata": {
        "colab": {
          "base_uri": "https://localhost:8080/"
        },
        "id": "NO-S9932oXzR",
        "outputId": "b18a82d4-1174-473a-9462-d0fb8c0f89d2"
      },
      "source": [
        "n = sorted(list(map(int, input(\"숫자를 공백으로 구분하여 입력하세요: \").split())), reverse=True)\n",
        "print(n[0])\n"
      ],
      "execution_count": 55,
      "outputs": [
        {
          "output_type": "stream",
          "name": "stdout",
          "text": [
            "숫자를 공백으로 구분하여 입력하세요: 10 9 8 7 6 5 4 3 2 1\n",
            "10\n"
          ]
        }
      ]
    },
    {
      "cell_type": "code",
      "metadata": {
        "colab": {
          "base_uri": "https://localhost:8080/"
        },
        "id": "Naj7yAUJpc6y",
        "outputId": "818e4429-719d-451d-d0eb-3b2b2149c041"
      },
      "source": [
        "data = list(map(int, input().split()))\n",
        "print(sorted(data)[-1])"
      ],
      "execution_count": 56,
      "outputs": [
        {
          "output_type": "stream",
          "name": "stdout",
          "text": [
            "10 9 8 7 6 5 4 3 2 1\n",
            "10\n"
          ]
        }
      ]
    },
    {
      "cell_type": "markdown",
      "metadata": {
        "id": "8f_L28E8pwOI"
      },
      "source": [
        "## **문제50 : 버블정렬 구현하기**\n",
        "버블정렬은 두 인접한 원소를 검사하여 정렬하는 방법을 말합니다. 시간 복잡도는 느리지만 코드가 단순하기 때문에 자주 사용됩니다.\n",
        "\n",
        "아래 코드의 빈 칸을 채워 버블 정렬을 완성해 봅시다."
      ]
    },
    {
      "cell_type": "code",
      "metadata": {
        "colab": {
          "base_uri": "https://localhost:8080/"
        },
        "id": "HvMRu93jp03I",
        "outputId": "77efccb6-dcb5-400f-c52a-757cf8789513"
      },
      "source": [
        "def bubble(n, data):\n",
        "\tfor i in range(n-1):\n",
        "\t\tfor j in range(n-i-1):\n",
        "\t\t\tif data[j] > data[j+1]:\n",
        "\t\t\t\tdata[j], data[j+1] = data[j+1], data[j]\n",
        "    \n",
        "\tfor i in range(n):\n",
        "\t\tprint(data[i], end = \" \")\n",
        "\n",
        "n = int(input())\n",
        "data = list(map(int, input().split()))\n",
        "\n",
        "bubble(n, data)"
      ],
      "execution_count": 67,
      "outputs": [
        {
          "output_type": "stream",
          "name": "stdout",
          "text": [
            "5\n",
            "4 3 5 1 2\n",
            "1 2 3 4 5 "
          ]
        }
      ]
    }
  ]
}
