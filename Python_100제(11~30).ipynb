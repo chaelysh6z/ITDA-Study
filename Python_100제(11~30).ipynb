{
  "nbformat": 4,
  "nbformat_minor": 0,
  "metadata": {
    "colab": {
      "name": "Python 100제(11~30).ipynb",
      "provenance": [],
      "collapsed_sections": [],
      "authorship_tag": "ABX9TyNzvzCr/WB/8nTINXdkLSUe",
      "include_colab_link": true
    },
    "kernelspec": {
      "name": "python3",
      "display_name": "Python 3"
    },
    "language_info": {
      "name": "python"
    }
  },
  "cells": [
    {
      "cell_type": "markdown",
      "metadata": {
        "id": "view-in-github",
        "colab_type": "text"
      },
      "source": [
        "<a href=\"https://colab.research.google.com/github/chaelysh6z/Python-100/blob/main/Python_100%EC%A0%9C(11~30).ipynb\" target=\"_parent\"><img src=\"https://colab.research.google.com/assets/colab-badge.svg\" alt=\"Open In Colab\"/></a>"
      ]
    },
    {
      "cell_type": "markdown",
      "metadata": {
        "id": "CGK1wrq5u-3a"
      },
      "source": [
        "# **Python 100제(11~30)**"
      ]
    },
    {
      "cell_type": "markdown",
      "metadata": {
        "id": "gNHRgqEdvGLV"
      },
      "source": [
        "## **문제11 : for를 이용한 기본 활용**\n",
        "1부터 100까지 모두 더하는 Code를 <pass> 부분에 완성하세요. for를 사용해야 합니다."
      ]
    },
    {
      "cell_type": "code",
      "metadata": {
        "colab": {
          "base_uri": "https://localhost:8080/"
        },
        "id": "D2N9aiiauueP",
        "outputId": "99b7a446-4016-43f4-9c9a-915dfad95b73"
      },
      "source": [
        "s = 0\n",
        "\n",
        "for i in range(1, 101):\n",
        "  s = s + i\n",
        "\n",
        "print(s)"
      ],
      "execution_count": 1,
      "outputs": [
        {
          "output_type": "stream",
          "name": "stdout",
          "text": [
            "5050\n"
          ]
        }
      ]
    },
    {
      "cell_type": "markdown",
      "metadata": {
        "id": "gVslmaEgvwwz"
      },
      "source": [
        "## **문제12 : 게임 캐릭터 클래스 만들기**\n",
        "다음 소스코드에서 클래스를 작성하여 게임 캐릭터의 능력치와 '파이어볼'이 출력되게 만드시오.\n",
        "\n",
        "**주어진 소스 코드를 수정해선 안됩니다.**"
      ]
    },
    {
      "cell_type": "code",
      "metadata": {
        "colab": {
          "base_uri": "https://localhost:8080/"
        },
        "id": "HDOI0Uh_v8xp",
        "outputId": "e8dcb5d3-eba8-4eea-f267-ad5891f46541"
      },
      "source": [
        "class Wizard:\n",
        "  def __init__(self, health, mana, armor):\n",
        "    self.health = health\n",
        "    self.mana = mana\n",
        "    self.armor = armor\n",
        "\n",
        "  def attack(self):\n",
        "    print('파이어볼')\n",
        "\n",
        "x = Wizard(health = 545, mana = 210, armor = 10)\n",
        "print(x.health, x.mana, x.armor)\n",
        "x.attack()"
      ],
      "execution_count": 3,
      "outputs": [
        {
          "output_type": "stream",
          "name": "stdout",
          "text": [
            "545 210 10\n",
            "파이어볼\n"
          ]
        }
      ]
    },
    {
      "cell_type": "markdown",
      "metadata": {
        "id": "4iK_CsMgwuZG"
      },
      "source": [
        "## **문제13 : 몇 번째 행성인가요?**\n",
        "우리 태양계를 이루고 있는 행성은 수성, 금성, 지구, 화성, 목성, 토성, 천왕성, 해왕성으로 총 8개 입니다. 저희는 우리 태양계의 n번째 행성이 무엇인지 알고 싶습니다.\n",
        "\n",
        "입력으로 행성의 순서를 나타내는 숫자 n이 입력됩니다. 예를들어 수성은 첫번째 행성입니다."
      ]
    },
    {
      "cell_type": "code",
      "metadata": {
        "colab": {
          "base_uri": "https://localhost:8080/"
        },
        "id": "nMRUXLrlw6YL",
        "outputId": "df7fc919-7419-4cbc-eae6-bb4c2b02fa85"
      },
      "source": [
        "planets = ['수성', '금성', '지구', '화성', '목성', '토성', '천왕성', '해왕성']\n",
        "\n",
        "n = int(input(\"몇 번째 행성인가요?\"))\n",
        "print(planets[n-1])"
      ],
      "execution_count": 5,
      "outputs": [
        {
          "output_type": "stream",
          "name": "stdout",
          "text": [
            "몇 번째 행성인가요?1\n",
            "수성\n"
          ]
        }
      ]
    },
    {
      "cell_type": "markdown",
      "metadata": {
        "id": "gRwXzv8qx6Kc"
      },
      "source": [
        "## **문제14 : 3의 배수 인가요?**\n",
        "영희는 친구와 게임을 하고 있습니다. 서로 돌아가며 랜덤으로 숫자를 하나 말하고 그게 3의 배수이면 박수를 치고 아니면 그 숫자를 그대로 말하는 게임입니다.\n",
        "\n",
        "입력으로 랜덤한 숫자 n이 주어집니다.\n",
        "\n",
        "만약 그 수가 3의 배수라면 '짝'이라는 글자를, 3의 배수가 아니라면 n을 그대로 출력해 주세요.\n"
      ]
    },
    {
      "cell_type": "code",
      "metadata": {
        "colab": {
          "base_uri": "https://localhost:8080/"
        },
        "id": "_3K3tpzFyBQ0",
        "outputId": "97e171da-2f4b-482c-c1e0-95e9e473feb8"
      },
      "source": [
        "n = int(input(\"랜덤한 숫자 n을 입력하세요: \"))\n",
        "\n",
        "if n % 3 == 0:\n",
        "  print(\"짝\")\n",
        "else:\n",
        "  print(n)"
      ],
      "execution_count": 8,
      "outputs": [
        {
          "output_type": "stream",
          "name": "stdout",
          "text": [
            "랜덤한 숫자 n을 입력하세요: 3\n",
            "짝\n"
          ]
        }
      ]
    },
    {
      "cell_type": "markdown",
      "metadata": {
        "id": "r0USWJ9dzCFR"
      },
      "source": [
        "## **문제15 : 자기소개**\n",
        "신학기가 시작되고, 아이들이 돌아가면서 자기소개를 하기로 했습니다.\n",
        "\n",
        "만약 입력으로 `김다정`이라는 이름이 주어지면\n",
        "\n",
        "```python\n",
        "안녕하세요. 저는 김다정입니다.\n",
        "```\n",
        "\n",
        "라고 출력하게 해주세요."
      ]
    },
    {
      "cell_type": "code",
      "metadata": {
        "colab": {
          "base_uri": "https://localhost:8080/"
        },
        "id": "mHgp128bzR8P",
        "outputId": "3c2f27f8-4f37-481a-b849-9129a0fa8227"
      },
      "source": [
        "name = input(\"이름을 입력하세요: \")\n",
        "\n",
        "print('안녕하세요. 저는 {}입니다.' .format(name))"
      ],
      "execution_count": 10,
      "outputs": [
        {
          "output_type": "stream",
          "name": "stdout",
          "text": [
            "이름을 입력하세요: 이채은\n",
            "안녕하세요. 저는 이채은입니다.\n"
          ]
        }
      ]
    },
    {
      "cell_type": "markdown",
      "metadata": {
        "id": "RT_9Zmetzv-t"
      },
      "source": [
        "## **문제16 : 로꾸거**\n",
        "문장이 입력되면 거꾸로 출력하는 프로그램을 만들어 봅시다."
      ]
    },
    {
      "cell_type": "code",
      "metadata": {
        "colab": {
          "base_uri": "https://localhost:8080/"
        },
        "id": "5maqTheNz3B1",
        "outputId": "8210cca4-18d6-483b-f179-a761f524cd7d"
      },
      "source": [
        "str = input(\"문장을 입력하세요: \")\n",
        "print(str[::-1])"
      ],
      "execution_count": 14,
      "outputs": [
        {
          "output_type": "stream",
          "name": "stdout",
          "text": [
            "문장을 입력하세요: 피자\n",
            "자피\n"
          ]
        }
      ]
    },
    {
      "cell_type": "code",
      "metadata": {
        "colab": {
          "base_uri": "https://localhost:8080/"
        },
        "id": "59Lp3f900fwY",
        "outputId": "7dde8bb5-ede6-467c-f37c-1e49cfab4ab6"
      },
      "source": [
        "str = input(\"문장을 입력하세요: \")\n",
        "\n",
        "for i in range(len(str)-1, -1, -1):\n",
        "  print(str[i], end=\"\")"
      ],
      "execution_count": 19,
      "outputs": [
        {
          "output_type": "stream",
          "name": "stdout",
          "text": [
            "문장을 입력하세요: 피자\n",
            "자피"
          ]
        }
      ]
    },
    {
      "cell_type": "markdown",
      "metadata": {
        "id": "QHWI_OSs1Cli"
      },
      "source": [
        "## **문제17 : 놀이기구 키 제한**\n",
        "유주는 놀이공원 아르바이트 중입니다. 그런데 놀이기구마다 키 제한이 있습니다.\n",
        "유주가 담당하는 놀이기구는 키가 150 이상만 탈 수 있습니다.\n",
        "\n",
        "입력으로 키가 주어지면\n",
        "키가 150이 이상이면 YES를 틀리면 NO를 출력하는 프로그램을 작성하세요."
      ]
    },
    {
      "cell_type": "code",
      "metadata": {
        "colab": {
          "base_uri": "https://localhost:8080/"
        },
        "id": "9vqNeRYa4nlM",
        "outputId": "9ecc0193-eea1-4060-d4ef-88d75d92ecd1"
      },
      "source": [
        "height = int(input(\"키를 입력하세요: \"))\n",
        "\n",
        "if height >= 150:\n",
        "  print(\"YES\")\n",
        "else:\n",
        "  print(\"NO\")"
      ],
      "execution_count": 20,
      "outputs": [
        {
          "output_type": "stream",
          "name": "stdout",
          "text": [
            "키를 입력하세요: 149\n",
            "NO\n"
          ]
        }
      ]
    },
    {
      "cell_type": "markdown",
      "metadata": {
        "id": "4tSp3V5D47E3"
      },
      "source": [
        "## **문제18 : 평균 점수**\n",
        "\n",
        "영하네 반은 국어, 수학, 영어 시험을 보았습니다. 영하는 친구들의 평균 점수를 구해주기로 했습니다.\n",
        "\n",
        "공백으로 구분하여 세 과목의 점수가 주어지면\n",
        "전체 평균 점수를 구하는 프로그램을 작성하세요. 단, 소숫점 자리는 모두 버립니다."
      ]
    },
    {
      "cell_type": "code",
      "metadata": {
        "colab": {
          "base_uri": "https://localhost:8080/"
        },
        "id": "pRopUHGi4_IH",
        "outputId": "8aacedd1-7f8c-49f8-bc1b-e6c37b64888c"
      },
      "source": [
        "data = list(map(int, input(\"국어, 수학, 영어 시험의 점수를 공백으로 구분하여 입력하세요: \").split()))\n",
        "\n",
        "print(int(sum(data)/3))"
      ],
      "execution_count": 24,
      "outputs": [
        {
          "output_type": "stream",
          "name": "stdout",
          "text": [
            "국어, 수학, 영어 시험의 점수를 띄어쓰기로 구분하여 입력하세요: 10 10 10\n",
            "10\n"
          ]
        }
      ]
    },
    {
      "cell_type": "markdown",
      "metadata": {
        "id": "PpUFn4pz6Tx2"
      },
      "source": [
        "## **문제19 : 제곱을 구하자**\n",
        "\n",
        "공백으로 구분하여 두 숫자 a와 b가 주어지면, a의 b승을 구하는 프로그램을 작성하세요."
      ]
    },
    {
      "cell_type": "code",
      "metadata": {
        "colab": {
          "base_uri": "https://localhost:8080/"
        },
        "id": "uMQzwM8o6YEp",
        "outputId": "7eb8fe4c-8957-4bf2-d56e-33cf16de07d7"
      },
      "source": [
        "n = list(map(int, input(\"a와 b를 공백으로 구분하여 입력하세요: \").split()))\n",
        "\n",
        "print(n[0] ** n[1])"
      ],
      "execution_count": 26,
      "outputs": [
        {
          "output_type": "stream",
          "name": "stdout",
          "text": [
            "a와 b를 공백으로 구분하여 입력하세요: 2 4\n",
            "16\n"
          ]
        }
      ]
    },
    {
      "cell_type": "markdown",
      "metadata": {
        "id": "T1lJ57o76yrw"
      },
      "source": [
        "## **문제20 : 몫과 나머지**\n",
        "공백으로 구분하여 두 숫자가 주어집니다.\n",
        "첫번째 숫자로 두번째 숫자를 나누었을 때 **그 몫과 나머지를 공백으로 구분하여 출력하세요.**"
      ]
    },
    {
      "cell_type": "code",
      "metadata": {
        "colab": {
          "base_uri": "https://localhost:8080/"
        },
        "id": "ISWdCteJ62un",
        "outputId": "256de4f7-9862-4a56-f723-ab77837cedd6"
      },
      "source": [
        "n = list(map(int, input().split()))\n",
        "\n",
        "print(n[1] // n[0], n[1] % n[0])"
      ],
      "execution_count": 29,
      "outputs": [
        {
          "output_type": "stream",
          "name": "stdout",
          "text": [
            "3 7\n",
            "2 1\n"
          ]
        }
      ]
    },
    {
      "cell_type": "markdown",
      "metadata": {
        "id": "eTdz8rc67ohc"
      },
      "source": [
        "## **문제21 : set은 어떻게 만드나요?**\n",
        "다음 중 set을 만드는 방법이 아닌 것?\n",
        "\n",
        "1)  x = {1, 2, 3, 5, 6, 7}  \n",
        "**2)  x = {}**  \n",
        "3)  x = set('python')  \n",
        "4)  x = set(range(5))  \n",
        "5)  x = set() \n",
        "\n"
      ]
    },
    {
      "cell_type": "markdown",
      "metadata": {
        "id": "BSJxNbBO8TTq"
      },
      "source": [
        "## **문제22 : 배수인지 확인하기**\n",
        "다음 중 변수 i가 6의 배수인지 확인하는 방법으로 올바른 것은?\n",
        "\n",
        "1)  i / 6 == 0  \n",
        "**2)  i % 6 == 0**  \n",
        "3)  i & 6 == 0  \n",
        "4)  i | 6 == 0  \n",
        "5)  i // 6 == 0  "
      ]
    },
    {
      "cell_type": "markdown",
      "metadata": {
        "id": "qawCgDRY8ogk"
      },
      "source": [
        "## **문제23 : OX문제**\n",
        "print(10/2)의 출력 결과는 5이다. **(X)**"
      ]
    },
    {
      "cell_type": "code",
      "metadata": {
        "colab": {
          "base_uri": "https://localhost:8080/"
        },
        "id": "KoosglBh8yVK",
        "outputId": "e6a87747-ae24-4b5c-937c-5f238f093a9f"
      },
      "source": [
        "print(10/2)"
      ],
      "execution_count": 30,
      "outputs": [
        {
          "output_type": "stream",
          "name": "stdout",
          "text": [
            "5.0\n"
          ]
        }
      ]
    },
    {
      "cell_type": "markdown",
      "metadata": {
        "id": "V-qUdTBU8_gd"
      },
      "source": [
        "## **문제24 : 대문자로 바꿔주세요!**\n",
        "민지는 국제 포럼에서 아르바이트를 하게 되었습니다. 민지는 각 국에서 온 참가자들의 명단을 엑셀로 정리하고 있는데 참가자들 이름이 어떤 이는 전부 소문자, 어떤 이는 전부 대문자로 써져 있는 등 형식이 제각각이었습니다.\n",
        "\n",
        "민지를 위해 이름이 입력되면 전부 대문자로 출력되는 프로그램을 만들어주세요."
      ]
    },
    {
      "cell_type": "code",
      "metadata": {
        "colab": {
          "base_uri": "https://localhost:8080/"
        },
        "id": "1PUfCYAX9GPI",
        "outputId": "619974f3-ad1d-462e-97e9-82b79a524b3f"
      },
      "source": [
        "name = input(\"이름을 입력하세요: \")\n",
        "\n",
        "print(name.upper())"
      ],
      "execution_count": 32,
      "outputs": [
        {
          "output_type": "stream",
          "name": "stdout",
          "text": [
            "이름을 입력하세요: chaeeun Lee\n",
            "CHAEEUN LEE\n"
          ]
        }
      ]
    },
    {
      "cell_type": "markdown",
      "metadata": {
        "id": "jQRncHSe9WYQ"
      },
      "source": [
        "## **문제25 : 원의 넓이를 구하세요**\n",
        "원의 넓이는 반지름의 길이 x 반지름의 길이 x 3.14로 구할 수 있습니다.\n",
        "함수를 사용하여 원의 넓이를 구하는 코드를 작성해봅시다.\n",
        "\n",
        "입력을 반지름의 길이로 정수 n이 주어지면 원의 넓이를 반환하는 함수를 만들어 주세요.\n",
        "(입력을 해야하기 때문에 input을 반드시 사용해야합니다)"
      ]
    },
    {
      "cell_type": "code",
      "metadata": {
        "colab": {
          "base_uri": "https://localhost:8080/"
        },
        "id": "grfYfIOD9dBp",
        "outputId": "4cdaea51-a5b9-4070-99d0-c5fb0fa8669a"
      },
      "source": [
        "def area(r):\n",
        "  return r * r * 3.14\n",
        "\n",
        "n = int(input(\"반지름의 길이를 입력하세요: \"))\n",
        "print(area(n))"
      ],
      "execution_count": 34,
      "outputs": [
        {
          "output_type": "stream",
          "name": "stdout",
          "text": [
            "반지름의 길이를 입력하세요: 5\n",
            "78.5\n"
          ]
        }
      ]
    },
    {
      "cell_type": "markdown",
      "metadata": {
        "id": "b4rfGdSg-fS8"
      },
      "source": [
        "## **문제26 : 행성 문제2**\n",
        "우리 태양계를 이루는 행성은 수성, 금성, 지구, 화성, 목성, 토성, 천왕성, 해왕성이 있습니다.\n",
        "이 행성들의 영어 이름은 Mercury, Venus, Earth, Mars, Jupiter, Saturn, Uranus, Neptune입니다.\n",
        "\n",
        "행성의 한글 이름을 입력하면 영어 이름을 반환하는 프로그램을 만들어 주세요."
      ]
    },
    {
      "cell_type": "code",
      "metadata": {
        "colab": {
          "base_uri": "https://localhost:8080/"
        },
        "id": "iWA1aMf4-j0D",
        "outputId": "3b61d1e1-7bed-49d3-c928-64e52f42e04e"
      },
      "source": [
        "planets = {\n",
        "    '수성':'Mercury', \n",
        "    '금성':'Venus', \n",
        "    '지구':'Earth', \n",
        "    '화성':'Mars', \n",
        "    '목성':'Jupiter', \n",
        "    '토성':'Saturn', \n",
        "    '천왕성':'Uranus', \n",
        "    '해왕성':'Neptune'}\n",
        "\n",
        "name = input(\"행성의 한글 이름을 입력하세요: \")\n",
        "print(planets[name])"
      ],
      "execution_count": 36,
      "outputs": [
        {
          "output_type": "stream",
          "name": "stdout",
          "text": [
            "행성의 한글 이름을 입력하세요: 지구\n",
            "Earth\n"
          ]
        }
      ]
    },
    {
      "cell_type": "markdown",
      "metadata": {
        "id": "n28_5cK8_ecG"
      },
      "source": [
        "## **문제27 : 딕셔너리 만들기**\n",
        "\n",
        "첫 줄에는 학생의 이름이 공백으로 구분되어 입력되고, 두번째 줄에는 그 학생의 수학 점수가 공백으로 구분되어 주어집니다.\n",
        "\n",
        "두 개를 합쳐 학생의 이름이 key이고 value가 수학 점수인 딕셔너리를 출력해주세요."
      ]
    },
    {
      "cell_type": "code",
      "metadata": {
        "colab": {
          "base_uri": "https://localhost:8080/"
        },
        "id": "xDdpqU7H_c27",
        "outputId": "377cb3f0-316c-45c0-a559-1fe417fe3cfd"
      },
      "source": [
        "name = input(\"이름을 공백으로 구분하여 입력하세요: \").split()\n",
        "score = list(map(int, input(\"점수를 공백으로 구분하여 입력하세요: \").split()))\n",
        "\n",
        "dic = {name[0]:score[0], name[1]:score[1]}\n",
        "print(dic)"
      ],
      "execution_count": 37,
      "outputs": [
        {
          "output_type": "stream",
          "name": "stdout",
          "text": [
            "이름을 공백으로 구분하여 입력하세요: Yujin Hyewon\n",
            "점수를 공백으로 구분하여 입력하세요: 70 100\n",
            "{'Yujin': 70, 'Hyewon': 100}\n"
          ]
        }
      ]
    },
    {
      "cell_type": "code",
      "metadata": {
        "colab": {
          "base_uri": "https://localhost:8080/"
        },
        "id": "lLSj8lhrATZk",
        "outputId": "c8c1c6fe-05c3-46b0-efe0-c2541e27079e"
      },
      "source": [
        "keys = input().split()\n",
        "values = map(int, input().split())\n",
        "\n",
        "result = dict(zip(keys, values))\n",
        "print(result)"
      ],
      "execution_count": 38,
      "outputs": [
        {
          "output_type": "stream",
          "name": "stdout",
          "text": [
            "Yujin Hyewon\n",
            "70 100\n",
            "{'Yujin': 70, 'Hyewon': 100}\n"
          ]
        }
      ]
    },
    {
      "cell_type": "markdown",
      "metadata": {
        "id": "frC6_ASGAbh7"
      },
      "source": [
        "## **문제28 : 2-gram**\n",
        "**2-gram**이란 문자열에서 2개의 연속된 요소를 출력하는 방법입니다. \n",
        "예를 들어 '**Python**'을 2-gram으로 반복해 본다면 다음과 같은 결과가 나옵니다.\n",
        "입력으로 문자열이 주어지면 **2-gram**으로 출력하는 프로그램을 작성해 주세요."
      ]
    },
    {
      "cell_type": "code",
      "metadata": {
        "colab": {
          "base_uri": "https://localhost:8080/"
        },
        "id": "80peM6QGAj90",
        "outputId": "5157f3bd-0c63-4004-f1de-29087b10e57c"
      },
      "source": [
        "str = input(\"문자를 입력하세요: \")\n",
        "\n",
        "for i in range(0, len(str)-1):\n",
        "  print(str[i] + str[i+1])"
      ],
      "execution_count": 41,
      "outputs": [
        {
          "output_type": "stream",
          "name": "stdout",
          "text": [
            "문자를 입력하세요: Python\n",
            "Py\n",
            "yt\n",
            "th\n",
            "ho\n",
            "on\n"
          ]
        }
      ]
    },
    {
      "cell_type": "markdown",
      "metadata": {
        "id": "HRttZTTkBH9g"
      },
      "source": [
        "## **문제29 : 대문자만 지나가세요**\n",
        "진구는 영어 학원 아르바이트를 하고 있습니다. 반 아이들은 알파벳을 공부하는 학생들인데 오늘은 대문자 쓰기 시험을 봤습니다.\n",
        "\n",
        "알파벳 하나만을 입력하고 그 알파벳이 대문자이면 YES를 아니면 NO를 출력하는 프로그램을 만들어 주세요.\n",
        "\n",
        "→ 알파벳 여러개를 입력하고 여러개 입력한 것 중 대문자만 출력해주는 프로그램도 만들어보세요."
      ]
    },
    {
      "cell_type": "code",
      "metadata": {
        "colab": {
          "base_uri": "https://localhost:8080/"
        },
        "id": "FQDJ9ngPBOaO",
        "outputId": "1de5c918-2a35-4d6c-f313-d2db2881c206"
      },
      "source": [
        "n = input(\"알파벳을 하나만 입력하세요: \")\n",
        "\n",
        "if n >= 'A' and n <= 'Z':\n",
        "  print(\"YES\")\n",
        "else:\n",
        "  print(\"NO\")"
      ],
      "execution_count": 45,
      "outputs": [
        {
          "output_type": "stream",
          "name": "stdout",
          "text": [
            "알파벳을 하나만 입력하세요: a\n",
            "NO\n"
          ]
        }
      ]
    },
    {
      "cell_type": "code",
      "metadata": {
        "colab": {
          "base_uri": "https://localhost:8080/"
        },
        "id": "oWhT_DaRBuqD",
        "outputId": "a5e29716-6117-482d-b50e-8f33939962dc"
      },
      "source": [
        "n = input(\"알파벳을 여러 개 입력하세요: \")\n",
        "\n",
        "for i in range(0, len(n)-1):\n",
        "  if n[i] >= 'A' and n[i] <= 'Z':\n",
        "    print(n[i], end=\"\")"
      ],
      "execution_count": 48,
      "outputs": [
        {
          "output_type": "stream",
          "name": "stdout",
          "text": [
            "알파벳을 여러 개 입력하세요: AppleBananaCarrot\n",
            "ABC"
          ]
        }
      ]
    },
    {
      "cell_type": "markdown",
      "metadata": {
        "id": "cd-togtLCg-n"
      },
      "source": [
        "## **문제30 : 문자열 속 문자 찾기**\n",
        "문자 pineapple에는 apple이라는 문자가 숨어 있습니다. 원범이는 이렇듯 문자열 속에 숨어있는 문자를 찾아보려고 합니다.\n",
        "\n",
        "입력으로 첫 줄에 문자열이 주어지고 둘째 줄에 찾을 문자가 주어지면 \n",
        "그 문자가 시작하는 index를 반환하는 프로그램을 만들어 주세요"
      ]
    },
    {
      "cell_type": "code",
      "metadata": {
        "colab": {
          "base_uri": "https://localhost:8080/"
        },
        "id": "yMRxFF8qCnDt",
        "outputId": "50c63a57-7baf-4d3e-df96-dbd68a6e8ce9"
      },
      "source": [
        "str = input(\"문자열을 입력하세요: \")\n",
        "find = input(\"찾을 문자를 입력하세요: \")\n",
        "\n",
        "str.find(find)"
      ],
      "execution_count": 49,
      "outputs": [
        {
          "name": "stdout",
          "output_type": "stream",
          "text": [
            "문자열을 입력하세요: pineapple is yummy\n",
            "찾을 문자를 입력하세요: apple\n"
          ]
        },
        {
          "output_type": "execute_result",
          "data": {
            "text/plain": [
              "4"
            ]
          },
          "metadata": {},
          "execution_count": 49
        }
      ]
    }
  ]
}