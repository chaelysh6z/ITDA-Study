{
  "nbformat": 4,
  "nbformat_minor": 0,
  "metadata": {
    "colab": {
      "name": "백준 알고리즘(3단계~5단계).ipynb",
      "provenance": [],
      "collapsed_sections": [],
      "authorship_tag": "ABX9TyPPT5pGF4CP0vRW0W4ANrkl",
      "include_colab_link": true
    },
    "kernelspec": {
      "name": "python3",
      "display_name": "Python 3"
    },
    "language_info": {
      "name": "python"
    }
  },
  "cells": [
    {
      "cell_type": "markdown",
      "metadata": {
        "id": "view-in-github",
        "colab_type": "text"
      },
      "source": [
        "<a href=\"https://colab.research.google.com/github/chaelysh6z/ITDA-Study/blob/main/%EB%B0%B1%EC%A4%80_%EC%95%8C%EA%B3%A0%EB%A6%AC%EC%A6%98(3%EB%8B%A8%EA%B3%84~5%EB%8B%A8%EA%B3%84).ipynb\" target=\"_parent\"><img src=\"https://colab.research.google.com/assets/colab-badge.svg\" alt=\"Open In Colab\"/></a>"
      ]
    },
    {
      "cell_type": "markdown",
      "metadata": {
        "id": "BsJMzq9Nw57Y"
      },
      "source": [
        "# **백준 알고리즘(3단계~5단계)**"
      ]
    },
    {
      "cell_type": "markdown",
      "metadata": {
        "id": "LwwVYMu1w88-"
      },
      "source": [
        "## **3단계 - for문**"
      ]
    },
    {
      "cell_type": "markdown",
      "metadata": {
        "id": "m4ws2B6NxAo3"
      },
      "source": [
        "### **1. 구구단**\n",
        "N을 입력받은 뒤, 구구단 N단을 출력하는 프로그램을 작성하시오. 출력 형식에 맞춰서 출력하면 된다."
      ]
    },
    {
      "cell_type": "code",
      "metadata": {
        "colab": {
          "base_uri": "https://localhost:8080/"
        },
        "id": "0frmvR6CwMEN",
        "outputId": "70c679e9-e2dd-43bb-c240-c1b6be99727a"
      },
      "source": [
        "n = int(input())\n",
        "\n",
        "for i in range(1, 10) :\n",
        "    print(\"%d * %d = %d\" % (n, i, n * i))"
      ],
      "execution_count": null,
      "outputs": [
        {
          "output_type": "stream",
          "name": "stdout",
          "text": [
            "9\n",
            "9 * 1 = 9\n",
            "9 * 2 = 18\n",
            "9 * 3 = 27\n",
            "9 * 4 = 36\n",
            "9 * 5 = 45\n",
            "9 * 6 = 54\n",
            "9 * 7 = 63\n",
            "9 * 8 = 72\n",
            "9 * 9 = 81\n"
          ]
        }
      ]
    },
    {
      "cell_type": "markdown",
      "metadata": {
        "id": "1UxorkBYxVg8"
      },
      "source": [
        "### **2. A+B - 3**\n",
        "두 정수 A와 B를 입력받은 다음, A+B를 출력하는 프로그램을 작성하시오."
      ]
    },
    {
      "cell_type": "code",
      "metadata": {
        "colab": {
          "base_uri": "https://localhost:8080/"
        },
        "id": "qm_bVDOuxpgh",
        "outputId": "1b992fa1-7505-42e5-9a84-0da82323c9cc"
      },
      "source": [
        "T = int(input())\n",
        "\n",
        "for i in range(0, T) :\n",
        "    A, B = map(int, input().split())\n",
        "    print(A + B)"
      ],
      "execution_count": null,
      "outputs": [
        {
          "output_type": "stream",
          "name": "stdout",
          "text": [
            "3\n",
            "1 2\n",
            "3\n",
            "4 6\n",
            "10\n",
            "3 5\n",
            "8\n"
          ]
        }
      ]
    },
    {
      "cell_type": "markdown",
      "metadata": {
        "id": "ycfPRs1NxwE5"
      },
      "source": [
        "### **3. 합**\n",
        "n이 주어졌을 때, 1부터 n까지 합을 구하는 프로그램을 작성하시오."
      ]
    },
    {
      "cell_type": "code",
      "metadata": {
        "colab": {
          "base_uri": "https://localhost:8080/"
        },
        "id": "j0AtmviYx1BZ",
        "outputId": "34382437-572a-481f-c693-18113671d255"
      },
      "source": [
        "n = int(input())\n",
        "sum = 0\n",
        "\n",
        "for i in range(1, n + 1) :\n",
        "    sum = sum + i\n",
        "    \n",
        "print(sum)"
      ],
      "execution_count": null,
      "outputs": [
        {
          "output_type": "stream",
          "name": "stdout",
          "text": [
            "10\n",
            "55\n"
          ]
        }
      ]
    },
    {
      "cell_type": "markdown",
      "metadata": {
        "id": "iM-FFJGhx5J3"
      },
      "source": [
        "### **4. 빠른 A+B**\n",
        "본격적으로 for문 문제를 풀기 전에 주의해야 할 점이 있다. 입출력 방식이 느리면 여러 줄을 입력받거나 출력할 때 시간초과가 날 수 있다는 점이다.\n",
        "\n",
        "C++을 사용하고 있고 cin/cout을 사용하고자 한다면, cin.tie(NULL)과 sync_with_stdio(false)를 둘 다 적용해 주고, endl 대신 개행문자(\\n)를 쓰자. 단, 이렇게 하면 더 이상 scanf/printf/puts/getchar/putchar 등 C의 입출력 방식을 사용하면 안 된다.\n",
        "\n",
        "Java를 사용하고 있다면, Scanner와 System.out.println 대신 BufferedReader와 BufferedWriter를 사용할 수 있다. BufferedWriter.flush는 맨 마지막에 한 번만 하면 된다.\n",
        "\n",
        "Python을 사용하고 있다면, input 대신 sys.stdin.readline을 사용할 수 있다. 단, 이때는 맨 끝의 개행문자까지 같이 입력받기 때문에 문자열을 저장하고 싶을 경우 .rstrip()을 추가로 해 주는 것이 좋다.\n",
        "\n",
        "또한 입력과 출력 스트림은 별개이므로, 테스트케이스를 전부 입력받아서 저장한 뒤 전부 출력할 필요는 없다. 테스트케이스를 하나 받은 뒤 하나 출력해도 된다."
      ]
    },
    {
      "cell_type": "code",
      "metadata": {
        "colab": {
          "base_uri": "https://localhost:8080/",
          "height": 239
        },
        "id": "x9zOAVibyUDT",
        "outputId": "51057be4-dd38-4d43-e39c-da0975e9d455"
      },
      "source": [
        "import sys\n",
        "\n",
        "T = int(sys.stdin.readline())\n",
        "\n",
        "for i in range(0, T) :\n",
        "    A, B = map(int, sys.stdin.readline().split())\n",
        "    print(A + B)\n",
        "\n",
        "# 외않되?"
      ],
      "execution_count": null,
      "outputs": [
        {
          "output_type": "error",
          "ename": "ValueError",
          "evalue": "ignored",
          "traceback": [
            "\u001b[0;31m---------------------------------------------------------------------------\u001b[0m",
            "\u001b[0;31mValueError\u001b[0m                                Traceback (most recent call last)",
            "\u001b[0;32m<ipython-input-11-4dbcb3fa239e>\u001b[0m in \u001b[0;36m<module>\u001b[0;34m()\u001b[0m\n\u001b[1;32m      1\u001b[0m \u001b[0;32mimport\u001b[0m \u001b[0msys\u001b[0m\u001b[0;34m\u001b[0m\u001b[0;34m\u001b[0m\u001b[0m\n\u001b[1;32m      2\u001b[0m \u001b[0;34m\u001b[0m\u001b[0m\n\u001b[0;32m----> 3\u001b[0;31m \u001b[0mT\u001b[0m \u001b[0;34m=\u001b[0m \u001b[0mint\u001b[0m\u001b[0;34m(\u001b[0m\u001b[0msys\u001b[0m\u001b[0;34m.\u001b[0m\u001b[0mstdin\u001b[0m\u001b[0;34m.\u001b[0m\u001b[0mreadline\u001b[0m\u001b[0;34m(\u001b[0m\u001b[0;34m)\u001b[0m\u001b[0;34m)\u001b[0m\u001b[0;34m\u001b[0m\u001b[0;34m\u001b[0m\u001b[0m\n\u001b[0m\u001b[1;32m      4\u001b[0m \u001b[0;34m\u001b[0m\u001b[0m\n\u001b[1;32m      5\u001b[0m \u001b[0;32mfor\u001b[0m \u001b[0mi\u001b[0m \u001b[0;32min\u001b[0m \u001b[0mrange\u001b[0m\u001b[0;34m(\u001b[0m\u001b[0;36m0\u001b[0m\u001b[0;34m,\u001b[0m \u001b[0mT\u001b[0m\u001b[0;34m)\u001b[0m \u001b[0;34m:\u001b[0m\u001b[0;34m\u001b[0m\u001b[0;34m\u001b[0m\u001b[0m\n",
            "\u001b[0;31mValueError\u001b[0m: invalid literal for int() with base 10: ''"
          ]
        }
      ]
    },
    {
      "cell_type": "markdown",
      "metadata": {
        "id": "jPkP8vfw0I7Z"
      },
      "source": [
        "### **5. N 찍기**\n",
        "자연수 N이 주어졌을 때, 1부터 N까지 한 줄에 하나씩 출력하는 프로그램을 작성하시오."
      ]
    },
    {
      "cell_type": "code",
      "metadata": {
        "colab": {
          "base_uri": "https://localhost:8080/"
        },
        "id": "83Iawckj0Qmp",
        "outputId": "5fbbdab7-6b54-41f3-f90b-84578724e153"
      },
      "source": [
        "N = int(input())\n",
        "\n",
        "for i in range(1, N + 1) :\n",
        "    print(i)"
      ],
      "execution_count": null,
      "outputs": [
        {
          "output_type": "stream",
          "name": "stdout",
          "text": [
            "10\n",
            "1\n",
            "2\n",
            "3\n",
            "4\n",
            "5\n",
            "6\n",
            "7\n",
            "8\n",
            "9\n",
            "10\n"
          ]
        }
      ]
    },
    {
      "cell_type": "markdown",
      "metadata": {
        "id": "9vUt4LrL0YTw"
      },
      "source": [
        "### **6. 기찍 N**\n",
        "자연수 N이 주어졌을 때, N부터 1까지 한 줄에 하나씩 출력하는 프로그램을 작성하시오."
      ]
    },
    {
      "cell_type": "code",
      "metadata": {
        "colab": {
          "base_uri": "https://localhost:8080/"
        },
        "id": "QYpBCON80fXC",
        "outputId": "c328a9ae-c667-4782-ff1e-524fa0bacfa9"
      },
      "source": [
        "N = int(input())\n",
        "\n",
        "for i in range(N, 0, -1) :\n",
        "    print(i)"
      ],
      "execution_count": null,
      "outputs": [
        {
          "output_type": "stream",
          "name": "stdout",
          "text": [
            "10\n",
            "10\n",
            "9\n",
            "8\n",
            "7\n",
            "6\n",
            "5\n",
            "4\n",
            "3\n",
            "2\n",
            "1\n"
          ]
        }
      ]
    },
    {
      "cell_type": "markdown",
      "metadata": {
        "id": "attLwcaD0iJS"
      },
      "source": [
        "### **7. A+B - 7**\n",
        "두 정수 A와 B를 입력받은 다음, A+B를 출력하는 프로그램을 작성하시오.\n",
        "각 테스트 케이스마다 \"Case #x: \"를 출력한 다음, A+B를 출력한다. 테스트 케이스 번호는 1부터 시작한다."
      ]
    },
    {
      "cell_type": "code",
      "metadata": {
        "colab": {
          "base_uri": "https://localhost:8080/"
        },
        "id": "RYXg8XFB0l-H",
        "outputId": "c4d73f59-b519-4a77-cf14-711447ecf711"
      },
      "source": [
        "T = int(input())\n",
        "\n",
        "for i in range(1, T + 1) :\n",
        "    A, B = map(int, input().split())\n",
        "    print(\"Case #%d: %d\" % (i, A + B))"
      ],
      "execution_count": null,
      "outputs": [
        {
          "output_type": "stream",
          "name": "stdout",
          "text": [
            "1\n",
            "3 4\n",
            "Case #1: 7\n"
          ]
        }
      ]
    },
    {
      "cell_type": "markdown",
      "metadata": {
        "id": "Br15i3FD0yHW"
      },
      "source": [
        "### **8. A+B - 8**\n",
        "두 정수 A와 B를 입력받은 다음, A+B를 출력하는 프로그램을 작성하시오.\n",
        "각 테스트 케이스마다 \"Case #x: A + B = C\" 형식으로 출력한다. x는 테스트 케이스 번호이고 1부터 시작하며, C는 A+B이다."
      ]
    },
    {
      "cell_type": "code",
      "metadata": {
        "colab": {
          "base_uri": "https://localhost:8080/"
        },
        "id": "ci3MzeIb1DQ6",
        "outputId": "8726217a-3259-43f3-a5b8-ae2d8764c5fe"
      },
      "source": [
        "T = int(input())\n",
        "\n",
        "for i in range(1, T + 1) :\n",
        "    A, B = map(int, input().split())\n",
        "    print(\"Case #%d: %d + %d = %d\" % (i, A, B, A + B))"
      ],
      "execution_count": null,
      "outputs": [
        {
          "output_type": "stream",
          "name": "stdout",
          "text": [
            "2\n",
            "5 6\n",
            "Case #1: 5 + 6 = 11\n",
            "4 5\n",
            "Case #2: 4 + 5 = 9\n"
          ]
        }
      ]
    },
    {
      "cell_type": "markdown",
      "metadata": {
        "id": "0msHaOgm1M6X"
      },
      "source": [
        "### **9. 별 찍기 - 1**\n",
        "첫째 줄에는 별 1개, 둘째 줄에는 별 2개, N번째 줄에는 별 N개를 찍는 문제"
      ]
    },
    {
      "cell_type": "code",
      "metadata": {
        "colab": {
          "base_uri": "https://localhost:8080/"
        },
        "id": "5XJnGXOV1UIG",
        "outputId": "b56e3d63-7633-43c4-be3d-e91d2962c41d"
      },
      "source": [
        "N = int(input())\n",
        "\n",
        "for i in range(1, N + 1) :\n",
        "    print('*' * i)"
      ],
      "execution_count": null,
      "outputs": [
        {
          "output_type": "stream",
          "name": "stdout",
          "text": [
            "5\n",
            "*\n",
            "**\n",
            "***\n",
            "****\n",
            "*****\n"
          ]
        }
      ]
    },
    {
      "cell_type": "code",
      "metadata": {
        "colab": {
          "base_uri": "https://localhost:8080/"
        },
        "id": "-wOXZEOM1pIC",
        "outputId": "a569fb66-756e-4999-e3f4-677496ab201b"
      },
      "source": [
        "N = int(input())\n",
        "\n",
        "for i in range(1, N+1):\n",
        "  for j in range(i):\n",
        "    print('*', end=\"\")\n",
        "  print()"
      ],
      "execution_count": null,
      "outputs": [
        {
          "output_type": "stream",
          "name": "stdout",
          "text": [
            "5\n",
            "*\n",
            "**\n",
            "***\n",
            "****\n",
            "*****\n"
          ]
        }
      ]
    },
    {
      "cell_type": "markdown",
      "metadata": {
        "id": "Bxxj9qQY2CSj"
      },
      "source": [
        "### **10. 별 찍기 - 2**\n",
        "첫째 줄에는 별 1개, 둘째 줄에는 별 2개, N번째 줄에는 별 N개를 찍는 문제\n",
        "\n",
        "하지만, 오른쪽을 기준으로 정렬한 별(예제 참고)을 출력하시오."
      ]
    },
    {
      "cell_type": "code",
      "metadata": {
        "colab": {
          "base_uri": "https://localhost:8080/"
        },
        "id": "f8ybMHZo2MZU",
        "outputId": "a059193d-907c-410c-e4d3-2dd2e5f61a94"
      },
      "source": [
        "N = int(input())\n",
        "\n",
        "for i in range(1, N + 1) :\n",
        "    print(' ' * (N - i) + '*' * i)"
      ],
      "execution_count": null,
      "outputs": [
        {
          "output_type": "stream",
          "name": "stdout",
          "text": [
            "5\n",
            "    *\n",
            "   **\n",
            "  ***\n",
            " ****\n",
            "*****\n"
          ]
        }
      ]
    },
    {
      "cell_type": "code",
      "metadata": {
        "colab": {
          "base_uri": "https://localhost:8080/"
        },
        "id": "14JvQ1uY2Ojw",
        "outputId": "4f9a2de0-cfa4-4fb5-c478-9dcbc6a31673"
      },
      "source": [
        "N = int(input())\n",
        "\n",
        "for i in range(1, N+1):\n",
        "  for j in range(N-i):\n",
        "    print(' ', end=\"\")\n",
        "  for k in range(i):\n",
        "    print('*', end='')\n",
        "  print()"
      ],
      "execution_count": null,
      "outputs": [
        {
          "output_type": "stream",
          "name": "stdout",
          "text": [
            "5\n",
            "    *\n",
            "   **\n",
            "  ***\n",
            " ****\n",
            "*****\n"
          ]
        }
      ]
    },
    {
      "cell_type": "markdown",
      "metadata": {
        "id": "SMrCTMvT35xm"
      },
      "source": [
        "### **11. X보다 작은 수**\n",
        "정수 N개로 이루어진 수열 A와 정수 X가 주어진다. 이때, A에서 X보다 작은 수를 모두 출력하는 프로그램을 작성하시오."
      ]
    },
    {
      "cell_type": "code",
      "metadata": {
        "colab": {
          "base_uri": "https://localhost:8080/"
        },
        "id": "QsOHa4Ue4Btn",
        "outputId": "bb0ac073-6ea0-4c28-f746-48c7684c7e59"
      },
      "source": [
        "N, X = map(int, input().split())\n",
        "A = list(map(int, input().split()))\n",
        "\n",
        "for i in range(N) :\n",
        "    if A[i] < X :\n",
        "        print(A[i], end=\" \")"
      ],
      "execution_count": null,
      "outputs": [
        {
          "output_type": "stream",
          "name": "stdout",
          "text": [
            "10 5\n",
            "1 10 4 9 2 3 8 5 7 6\n",
            "1 4 2 3 "
          ]
        }
      ]
    },
    {
      "cell_type": "markdown",
      "metadata": {
        "id": "S--AC8la4WfX"
      },
      "source": [
        "## **4단계 - while문**"
      ]
    },
    {
      "cell_type": "markdown",
      "metadata": {
        "id": "obNKIvwr4cZU"
      },
      "source": [
        "### **1. A+B - 5**\n",
        "두 정수 A와 B를 입력받은 다음, A+B를 출력하는 프로그램을 작성하시오.\n",
        "입력의 마지막에는 0 두 개가 들어온다."
      ]
    },
    {
      "cell_type": "code",
      "metadata": {
        "colab": {
          "base_uri": "https://localhost:8080/"
        },
        "id": "mCS4Kx2H4IGA",
        "outputId": "c2a51535-9721-4547-c2d5-1c32fdf50dae"
      },
      "source": [
        "A, B = map(int, input().split())\n",
        "\n",
        "while (A != 0) and (B != 0) : \n",
        "    print(A + B)\n",
        "    A, B = map(int, input().split())"
      ],
      "execution_count": null,
      "outputs": [
        {
          "name": "stdout",
          "output_type": "stream",
          "text": [
            "1 1\n",
            "2\n",
            "2 3\n",
            "5\n",
            "3 4\n",
            "7\n",
            "9 8\n",
            "17\n",
            "5 2\n",
            "7\n",
            "0 0\n"
          ]
        }
      ]
    },
    {
      "cell_type": "markdown",
      "metadata": {
        "id": "dIL0mtCY4xVP"
      },
      "source": [
        "### **2. A+B - 4**\n",
        "두 정수 A와 B를 입력받은 다음, A+B를 출력하는 프로그램을 작성하시오."
      ]
    },
    {
      "cell_type": "code",
      "metadata": {
        "colab": {
          "base_uri": "https://localhost:8080/"
        },
        "id": "37x81orO5MW8",
        "outputId": "25377569-b50f-436d-beda-5d6216f7432c"
      },
      "source": [
        "while True:\n",
        "    try :\n",
        "        A, B = map(int, input().split())\n",
        "        print(A + B)\n",
        "    except :\n",
        "        break"
      ],
      "execution_count": null,
      "outputs": [
        {
          "name": "stdout",
          "output_type": "stream",
          "text": [
            "3 4\n",
            "7\n",
            "\n"
          ]
        }
      ]
    },
    {
      "cell_type": "markdown",
      "metadata": {
        "id": "P7Y8kzeV6Go-"
      },
      "source": [
        "### **3. 더하기 사이클**\n",
        "0보다 크거나 같고, 99보다 작거나 같은 정수가 주어질 때 다음과 같은 연산을 할 수 있다. 먼저 주어진 수가 10보다 작다면 앞에 0을 붙여 두 자리 수로 만들고, 각 자리의 숫자를 더한다. 그 다음, 주어진 수의 가장 오른쪽 자리 수와 앞에서 구한 합의 가장 오른쪽 자리 수를 이어 붙이면 새로운 수를 만들 수 있다. 다음 예를 보자.\n",
        "\n",
        "26부터 시작한다. 2+6 = 8이다. 새로운 수는 68이다. 6+8 = 14이다. 새로운 수는 84이다. 8+4 = 12이다. 새로운 수는 42이다. 4+2 = 6이다. 새로운 수는 26이다.\n",
        "\n",
        "위의 예는 4번만에 원래 수로 돌아올 수 있다. 따라서 26의 사이클의 길이는 4이다.\n",
        "\n",
        "N이 주어졌을 때, N의 사이클의 길이를 구하는 프로그램을 작성하시오."
      ]
    },
    {
      "cell_type": "code",
      "metadata": {
        "colab": {
          "base_uri": "https://localhost:8080/"
        },
        "id": "2Ln_-2sb5Vd-",
        "outputId": "ee11744c-2fd3-43cf-b93b-219d6efd664e"
      },
      "source": [
        "N = int(input())\n",
        "n = N\n",
        "cycle = 0\n",
        "\n",
        "while True:\n",
        "    a = n // 10\n",
        "    b = n % 10\n",
        "    c = (a + b) % 10\n",
        "    n = (b * 10) + c\n",
        "    cycle = cycle + 1\n",
        "    if n == N:\n",
        "        break\n",
        "        \n",
        "print(cycle)"
      ],
      "execution_count": null,
      "outputs": [
        {
          "output_type": "stream",
          "name": "stdout",
          "text": [
            "8\n",
            "20\n"
          ]
        }
      ]
    },
    {
      "cell_type": "markdown",
      "metadata": {
        "id": "62REeV_IwZ1J"
      },
      "source": [
        "## **5단계 - 1차원 배열**"
      ]
    },
    {
      "cell_type": "markdown",
      "metadata": {
        "id": "q9Aux-8ywhXN"
      },
      "source": [
        "### **1. 최소, 최대**\n",
        "N개의 정수가 주어진다. 이때, 최솟값과 최댓값을 구하는 프로그램을 작성하시오."
      ]
    },
    {
      "cell_type": "code",
      "metadata": {
        "id": "__0bZP1kIxdy",
        "colab": {
          "base_uri": "https://localhost:8080/"
        },
        "outputId": "635fdbc4-99ea-4f16-f5c3-abaa0185a48a"
      },
      "source": [
        "N = int(input())\n",
        "A = list(map(int, input().split()))\n",
        "\n",
        "A.sort()\n",
        "print(A[0], A[N-1])"
      ],
      "execution_count": 1,
      "outputs": [
        {
          "output_type": "stream",
          "name": "stdout",
          "text": [
            "5\n",
            "20 10 35 30 7\n",
            "7 35\n"
          ]
        }
      ]
    },
    {
      "cell_type": "code",
      "metadata": {
        "colab": {
          "base_uri": "https://localhost:8080/"
        },
        "id": "6JfzQxDywzCl",
        "outputId": "400f0898-e54e-4503-d2d0-c95a6b963ff8"
      },
      "source": [
        "N = int(input())\n",
        "A = list(map(int, input().split()))\n",
        "\n",
        "print(min(A), max(A))"
      ],
      "execution_count": 3,
      "outputs": [
        {
          "output_type": "stream",
          "name": "stdout",
          "text": [
            "5\n",
            "20 10 35 30 7\n",
            "7 35\n"
          ]
        }
      ]
    },
    {
      "cell_type": "markdown",
      "metadata": {
        "id": "xye8kxFzxBW_"
      },
      "source": [
        "### **2. 최댓값**\n",
        "9개의 서로 다른 자연수가 주어질 때, 이들 중 최댓값을 찾고 그 최댓값이 몇 번째 수인지를 구하는 프로그램을 작성하시오.\n",
        "\n",
        "예를 들어, 서로 다른 9개의 자연수\n",
        "\n",
        "3, 29, 38, 12, 57, 74, 40, 85, 61\n",
        "\n",
        "이 주어지면, 이들 중 최댓값은 85이고, 이 값은 8번째 수이다."
      ]
    },
    {
      "cell_type": "code",
      "metadata": {
        "colab": {
          "base_uri": "https://localhost:8080/"
        },
        "id": "B6h4ZFx8xE56",
        "outputId": "16a9d258-c308-490c-c911-2efa0673ca15"
      },
      "source": [
        "N = []\n",
        "\n",
        "for k in range(0, 9):\n",
        "    n = int(input())\n",
        "    N.append(n)\n",
        "    \n",
        "m = 0\n",
        "\n",
        "for i in range(0, 9):\n",
        "    if N[i] > m:\n",
        "        m = N[i]\n",
        "        num = i + 1\n",
        "\n",
        "print(m, num)"
      ],
      "execution_count": 4,
      "outputs": [
        {
          "output_type": "stream",
          "name": "stdout",
          "text": [
            "3\n",
            "29\n",
            "38\n",
            "12\n",
            "57\n",
            "74\n",
            "40\n",
            "85\n",
            "61\n",
            "85 8\n"
          ]
        }
      ]
    },
    {
      "cell_type": "code",
      "metadata": {
        "colab": {
          "base_uri": "https://localhost:8080/"
        },
        "id": "Q_S_aP6Qxa17",
        "outputId": "5c91d4ef-b333-403a-fbce-c90db9da0c72"
      },
      "source": [
        "N = []\n",
        "\n",
        "for k in range(0, 9):\n",
        "    n = int(input())\n",
        "    N.append(n)\n",
        "\n",
        "print(max(N))\n",
        "print(N.index(max(N))+1)"
      ],
      "execution_count": 6,
      "outputs": [
        {
          "output_type": "stream",
          "name": "stdout",
          "text": [
            "3\n",
            "29\n",
            "38\n",
            "12\n",
            "57\n",
            "74\n",
            "40\n",
            "85\n",
            "61\n",
            "85\n",
            "8\n"
          ]
        }
      ]
    },
    {
      "cell_type": "markdown",
      "metadata": {
        "id": "npr1oPotx2SW"
      },
      "source": [
        "### **3. 숫자의 개수**\n",
        "세 개의 자연수 A, B, C가 주어질 때 A × B × C를 계산한 결과에 0부터 9까지 각각의 숫자가 몇 번씩 쓰였는지를 구하는 프로그램을 작성하시오.\n",
        "\n",
        "예를 들어 A = 150, B = 266, C = 427 이라면 A × B × C = 150 × 266 × 427 = 17037300 이 되고, 계산한 결과 17037300 에는 0이 3번, 1이 1번, 3이 2번, 7이 2번 쓰였다."
      ]
    },
    {
      "cell_type": "code",
      "metadata": {
        "colab": {
          "base_uri": "https://localhost:8080/"
        },
        "id": "HBIoajPDx-Zg",
        "outputId": "e2fa11fe-c41d-4211-9ba2-fa98c13234c7"
      },
      "source": [
        "A = int(input())\n",
        "B = int(input())\n",
        "C = int(input())\n",
        "\n",
        "N = list(str(A * B * C))\n",
        "\n",
        "for i in range(0, 10):\n",
        "    print(N.count(str(i)))"
      ],
      "execution_count": 11,
      "outputs": [
        {
          "output_type": "stream",
          "name": "stdout",
          "text": [
            "150\n",
            "266\n",
            "427\n",
            "3\n",
            "1\n",
            "0\n",
            "2\n",
            "0\n",
            "0\n",
            "0\n",
            "2\n",
            "0\n",
            "0\n"
          ]
        }
      ]
    },
    {
      "cell_type": "markdown",
      "metadata": {
        "id": "jQKtvfYmyl2W"
      },
      "source": [
        "### **4. 나머지**\n",
        "두 자연수 A와 B가 있을 때, A%B는 A를 B로 나눈 나머지 이다. 예를 들어, 7, 14, 27, 38을 3으로 나눈 나머지는 1, 2, 0, 2이다. \n",
        "\n",
        "수 10개를 입력받은 뒤, 이를 42로 나눈 나머지를 구한다. 그 다음 서로 다른 값이 몇 개 있는지 출력하는 프로그램을 작성하시오."
      ]
    },
    {
      "cell_type": "code",
      "metadata": {
        "colab": {
          "base_uri": "https://localhost:8080/"
        },
        "id": "9sFRfZCIype6",
        "outputId": "06e42402-7181-4203-b926-deb8ba950e55"
      },
      "source": [
        "N = []\n",
        "\n",
        "for i in range(10):\n",
        "    n = int(input())\n",
        "    n = n % 42\n",
        "    N.append(n)\n",
        "    \n",
        "a = set(N)\n",
        "count = len(a)\n",
        "            \n",
        "print(count)"
      ],
      "execution_count": 12,
      "outputs": [
        {
          "output_type": "stream",
          "name": "stdout",
          "text": [
            "1\n",
            "2\n",
            "3\n",
            "4\n",
            "5\n",
            "6\n",
            "7\n",
            "8\n",
            "9\n",
            "10\n",
            "10\n"
          ]
        }
      ]
    },
    {
      "cell_type": "markdown",
      "metadata": {
        "id": "sxsB2JekzL89"
      },
      "source": [
        "### **5. 평균**\n",
        "세준이는 기말고사를 망쳤다. 세준이는 점수를 조작해서 집에 가져가기로 했다. 일단 세준이는 자기 점수 중에 최댓값을 골랐다. 이 값을 M이라고 한다. 그리고 나서 모든 점수를 점수/M*100으로 고쳤다.\n",
        "\n",
        "예를 들어, 세준이의 최고점이 70이고, 수학점수가 50이었으면 수학점수는 50/70*100이 되어 71.43점이 된다.\n",
        "\n",
        "세준이의 성적을 위의 방법대로 새로 계산했을 때, 새로운 평균을 구하는 프로그램을 작성하시오."
      ]
    },
    {
      "cell_type": "code",
      "metadata": {
        "colab": {
          "base_uri": "https://localhost:8080/"
        },
        "id": "0C1Y-KC5zPvy",
        "outputId": "ca4e1aca-a4b6-43a6-9a3e-b90f4c17b897"
      },
      "source": [
        "N = int(input())\n",
        "A = sorted(list(map(int, input().split())))\n",
        "M = A[N-1]\n",
        "Sum = 0\n",
        "\n",
        "for i in range(0, N):\n",
        "    A[i] = A[i] / M * 100\n",
        "    Sum = Sum + A[i]\n",
        "    \n",
        "print(Sum / N)"
      ],
      "execution_count": 14,
      "outputs": [
        {
          "output_type": "stream",
          "name": "stdout",
          "text": [
            "3\n",
            "40 80 60\n",
            "75.0\n"
          ]
        }
      ]
    },
    {
      "cell_type": "markdown",
      "metadata": {
        "id": "lsxFVIBdz-3T"
      },
      "source": [
        "### **6. OX퀴즈**\n",
        "\"OOXXOXXOOO\"와 같은 OX퀴즈의 결과가 있다. O는 문제를 맞은 것이고, X는 문제를 틀린 것이다. 문제를 맞은 경우 그 문제의 점수는 그 문제까지 연속된 O의 개수가 된다. 예를 들어, 10번 문제의 점수는 3이 된다.\n",
        "\n",
        "\"OOXXOXXOOO\"의 점수는 1+2+0+0+1+0+0+1+2+3 = 10점이다.\n",
        "\n",
        "OX퀴즈의 결과가 주어졌을 때, 점수를 구하는 프로그램을 작성하시오."
      ]
    },
    {
      "cell_type": "code",
      "metadata": {
        "colab": {
          "base_uri": "https://localhost:8080/"
        },
        "id": "M944N3rv0FLG",
        "outputId": "8ac5689c-3ea4-4068-8a4f-893aeb07eb54"
      },
      "source": [
        "n = int(input())\n",
        "\n",
        "for k in range(n):\n",
        "  s = input()\n",
        "  result = 0\n",
        "  count = 1\n",
        "\n",
        "  for i in range(0, len(s)):\n",
        "    if i == 0:\n",
        "      if s[i] == 'O':\n",
        "        result += count\n",
        "    elif i > 0:\n",
        "      if s[i-1] == s[i] == 'O':\n",
        "        count += 1\n",
        "        result += count\n",
        "      elif s[i] == 'O':\n",
        "        result += count\n",
        "      if s[i] == 'X':\n",
        "        count = 1\n",
        "        \n",
        "  print(result)"
      ],
      "execution_count": 16,
      "outputs": [
        {
          "output_type": "stream",
          "name": "stdout",
          "text": [
            "1\n",
            "OOXXOXXOOO\n",
            "10\n"
          ]
        }
      ]
    },
    {
      "cell_type": "markdown",
      "metadata": {
        "id": "yrIuXil50cW2"
      },
      "source": [
        "### **7. 평균은 넘겠지**\n",
        "첫째 줄에는 테스트 케이스의 개수 C가 주어진다.\n",
        "\n",
        "둘째 줄부터 각 테스트 케이스마다 학생의 수 N(1 ≤ N ≤ 1000, N은 정수)이 첫 수로 주어지고, 이어서 N명의 점수가 주어진다. 점수는 0보다 크거나 같고, 100보다 작거나 같은 정수이다.\n",
        "\n",
        "각 케이스마다 한 줄씩 평균을 넘는 학생들의 비율을 반올림하여 소수점 셋째 자리까지 출력한다."
      ]
    },
    {
      "cell_type": "code",
      "metadata": {
        "colab": {
          "base_uri": "https://localhost:8080/"
        },
        "id": "Us_BirWa0y8t",
        "outputId": "433772db-7559-4002-9f83-50c4a6148626"
      },
      "source": [
        "n = int(input())\n",
        "\n",
        "for i in range(n):\n",
        "  count = 0\n",
        "  sum = 0\n",
        "\n",
        "  scores = list(map(int, input().split()))\n",
        "\n",
        "  for j in range(1, len(scores)):\n",
        "    sum = sum + scores[j]\n",
        "  avg = sum / scores[0]\n",
        "\n",
        "  for k in range(1, len(scores)):\n",
        "    if scores[k] > avg:\n",
        "      count += 1\n",
        "\n",
        "  result = round((count/(len(scores)-1))*100, 3)\n",
        "  print(\"{:.3f}%\".format(result))"
      ],
      "execution_count": 17,
      "outputs": [
        {
          "output_type": "stream",
          "name": "stdout",
          "text": [
            "1\n",
            "5 50 50 70 80 100\n",
            "40.000%\n"
          ]
        }
      ]
    }
  ]
}