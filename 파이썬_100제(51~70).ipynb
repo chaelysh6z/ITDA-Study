{
  "nbformat": 4,
  "nbformat_minor": 0,
  "metadata": {
    "colab": {
      "name": "파이썬 100제(51~70).ipynb",
      "provenance": [],
      "collapsed_sections": [],
      "authorship_tag": "ABX9TyOoharbROFm6U411hGoTrTA",
      "include_colab_link": true
    },
    "kernelspec": {
      "name": "python3",
      "display_name": "Python 3"
    },
    "language_info": {
      "name": "python"
    }
  },
  "cells": [
    {
      "cell_type": "markdown",
      "metadata": {
        "id": "view-in-github",
        "colab_type": "text"
      },
      "source": [
        "<a href=\"https://colab.research.google.com/github/chaelysh6z/ITDA-Study/blob/main/%ED%8C%8C%EC%9D%B4%EC%8D%AC_100%EC%A0%9C(51~70).ipynb\" target=\"_parent\"><img src=\"https://colab.research.google.com/assets/colab-badge.svg\" alt=\"Open In Colab\"/></a>"
      ]
    },
    {
      "cell_type": "markdown",
      "metadata": {
        "id": "FWOOIIlSl8OW"
      },
      "source": [
        "# **파이썬 100제(51~70)**"
      ]
    },
    {
      "cell_type": "markdown",
      "metadata": {
        "id": "nGnC29dkl_Py"
      },
      "source": [
        "## **문제51 : merge sort를 만들어보자**\n",
        "병합정렬(merge sort)은 대표적인 정렬 알고리즘 중 하나로 다음과 같이 동작합니다.\n",
        "\n",
        "\n",
        "\n",
        "\n",
        "> 1. 리스트의 길이가 0 또는 1이면 이미 정렬된 것으로 본다. 그렇지 않은 경우에는\n",
        "2. 정렬되지 않은 리스트를 절반으로 잘라 비슷한 크기의 두 부분 리스트로 나눈다.\n",
        "3. 각 부분 리스트를 재귀적으로 합병 정렬을 이용해 정렬한다.\n",
        "4. 두 부분 리스트를 다시 하나의 정렬된 리스트로 합병한다.\n",
        ">\n",
        "\n",
        "\n",
        "\n",
        "\n",
        "\n",
        "(출처 : 위키피디아)\n",
        "\n",
        "다음 코드의 빈칸을 채워 병합정렬을 완성해 봅시다.\n",
        "\n",
        "```python\n",
        "#병합 정렬\n",
        "def 병합정렬(입력리스트):\n",
        "    입력리스트길이 = len(입력리스트)\n",
        "    if 입력리스트길이 <= 1:\n",
        "        return 입력리스트\n",
        "    중간값 = 입력리스트길이 // 2\n",
        "    그룹_하나 = 병합정렬(입력리스트[:중간값])\n",
        "    그룹_둘 = 병합정렬(입력리스트[중간값:])\n",
        "    결과값 = []\n",
        "\n",
        "    while (#빈칸을 채워주세요) and (#빈칸을 채워주세요) :\n",
        "        if (#빈칸을 채워주세요):\n",
        "            결과값.append(그룹_하나.pop(0))\n",
        "        else:\n",
        "            결과값.append(그룹_둘.pop(0))\n",
        "\n",
        "    while 그룹_하나:\n",
        "        결과값.append(그룹_하나.pop(0))\n",
        "    while 그룹_둘:\n",
        "        결과값.append(그룹_둘.pop(0))\n",
        "    return 결과값\n",
        "\n",
        "주어진리스트 = [180, 145, 165, 45, 170, 175, 173, 171]\n",
        "#빈칸을 채워주세요\n",
        "\n",
        "print(병합정렬(주어진리스트))\n",
        "```"
      ]
    },
    {
      "cell_type": "code",
      "metadata": {
        "colab": {
          "base_uri": "https://localhost:8080/"
        },
        "id": "zfRAHFozl5Fd",
        "outputId": "cac03465-c11c-402a-d6a7-8dd1f87228fc"
      },
      "source": [
        "# 병합 정렬\n",
        "def 병합정렬(입력리스트):\n",
        "    입력리스트길이 = len(입력리스트)\n",
        "    if 입력리스트길이 <= 1:\n",
        "        return 입력리스트\n",
        "    중간값 = 입력리스트길이 // 2\n",
        "    그룹_하나 = 병합정렬(입력리스트[:중간값])\n",
        "    그룹_둘 = 병합정렬(입력리스트[중간값:])\n",
        "    결과값 = []\n",
        "\n",
        "    while 그룹_하나 and 그룹_둘 : \n",
        "        if 그룹_하나[0] < 그룹_둘[0]:\n",
        "            결과값.append(그룹_하나.pop(0))\n",
        "        else:\n",
        "            결과값.append(그룹_둘.pop(0))\n",
        "\n",
        "    while 그룹_하나:\n",
        "        결과값.append(그룹_하나.pop(0))\n",
        "    while 그룹_둘:\n",
        "        결과값.append(그룹_둘.pop(0))\n",
        "    return 결과값\n",
        "\n",
        "주어진리스트 = [180, 145, 165, 45, 170, 175, 173, 171]\n",
        "# 빈칸을 채워주세요\n",
        "\n",
        "print(병합정렬(주어진리스트))"
      ],
      "execution_count": 7,
      "outputs": [
        {
          "output_type": "stream",
          "name": "stdout",
          "text": [
            "[45, 145, 165, 170, 171, 173, 175, 180]\n"
          ]
        }
      ]
    },
    {
      "cell_type": "markdown",
      "metadata": {
        "id": "CFg5bIqVoJG_"
      },
      "source": [
        "## **문제52 : quick sort**\n",
        "다음 빈 칸을 채워 퀵 정렬을 완성해주세요.\n",
        "```python\n",
        "def 퀵정렬(입력리스트):\n",
        "    입력리스트의길이 = len(입력리스트)\n",
        "    if 입력리스트의길이 <= 1:\n",
        "        return 입력리스트\n",
        "    기준값 = 입력리스트.pop(입력리스트의길이//2)\n",
        "    그룹_하나 = []\n",
        "    그룹_둘 = []\n",
        "    \n",
        "    for i in range(입력리스트의길이-1):\n",
        "        if #내용을 채워주세요:\n",
        "            그룹_하나.append(입력리스트[i])\n",
        "        else:\n",
        "            그룹_둘.append(입력리스트[i])\n",
        "    return #내용을 채워주세요\n",
        "\n",
        "주어진리스트 = input().split(' ')\n",
        "#내용을 채워주세요.\n",
        "\n",
        "print(퀵정렬(주어진리스트))\n",
        "```"
      ]
    },
    {
      "cell_type": "code",
      "metadata": {
        "colab": {
          "base_uri": "https://localhost:8080/"
        },
        "id": "cv-H2q85oa-0",
        "outputId": "f6360971-3b6c-485b-ad4e-7619b2d7e407"
      },
      "source": [
        "def 퀵정렬(입력리스트):\n",
        "    입력리스트의길이 = len(입력리스트)\n",
        "    if 입력리스트의길이 <= 1:\n",
        "        return 입력리스트\n",
        "    기준값 = 입력리스트.pop(입력리스트의길이//2)\n",
        "    그룹_하나 = []\n",
        "    그룹_둘 = []\n",
        "\n",
        "    for i in range(입력리스트의길이-1):\n",
        "        if 입력리스트[i] < 기준값:\n",
        "            그룹_하나.append(입력리스트[i])\n",
        "        else:\n",
        "            그룹_둘.append(입력리스트[i])\n",
        "    return 퀵정렬(그룹_하나) + [기준값] + 퀵정렬(그룹_둘)\n",
        "\n",
        "주어진리스트 = input().split(' ')\n",
        "주어진리스트 = [int(i) for i in 주어진리스트]\n",
        "\n",
        "print(퀵정렬(주어진리스트))"
      ],
      "execution_count": null,
      "outputs": [
        {
          "output_type": "stream",
          "name": "stdout",
          "text": [
            "180 145 165 45 170 175 173 171\n",
            "[45, 145, 165, 170, 171, 173, 175, 180]\n"
          ]
        }
      ]
    },
    {
      "cell_type": "markdown",
      "metadata": {
        "id": "_sYnyWcOpr1U"
      },
      "source": [
        "## **문제53 : 괄호 문자열**\n",
        "괄호 문자열이란 괄호 기호인 '{', '}', '[', ']', '(', ')' 와 같은 것을 말한다. 그 중 괄호의 모양이 바르게 구성 된 문자열을 바른 문자열, 그렇지 않은 문자열을 바르지 않은 문자열이라 부르도록 하자. \n",
        "\n",
        "(())와 같은 문자열은 바른 문자열이지만 ()()) 와 같은 문자열은 바르지 않은 문자열이다.(해당 문제에서는 소괄호만 판별하지만, 실력이 되시는 분들은 중괄호와 대괄호까지 판별해보세요.)\n",
        "\n",
        "입력으로 주어진 괄호 문자열이 바른 문자열인지 바르지 않은 문자열인지 \"YES\"와 \"NO\"로 구분된 문자열을 출력해보자."
      ]
    },
    {
      "cell_type": "code",
      "metadata": {
        "colab": {
          "base_uri": "https://localhost:8080/"
        },
        "id": "gKe40bj4prds",
        "outputId": "e7714444-cd12-442a-c4df-9c238805fc95"
      },
      "source": [
        "s = input(\"문자열을 입력하세요: \")\n",
        "a = []\n",
        "\n",
        "for i in range(0, len(s)):\n",
        "  if s[i] == '(':\n",
        "    a.append('(')\n",
        "  elif s[i] == ')':\n",
        "    if len(a) == 0:\n",
        "      a.append(')')\n",
        "    else:\n",
        "      a.pop()\n",
        "\n",
        "if len(a) == 0:\n",
        "  print(\"YES\")\n",
        "else:\n",
        "  print(\"NO\")"
      ],
      "execution_count": null,
      "outputs": [
        {
          "output_type": "stream",
          "name": "stdout",
          "text": [
            "문자열을 입력하세요: ()())\n",
            "NO\n"
          ]
        }
      ]
    },
    {
      "cell_type": "markdown",
      "metadata": {
        "id": "VTzUhOJvu4u_"
      },
      "source": [
        "## **문제54 : 연속되는 수**\n",
        "은주는 놀이공원 아르바이트를 하고 있습니다. 은주가 일하는 놀이공원에서는 현재 놀이공원 곳곳에 숨겨진 숫자 스탬프를 모아 오면 선물을 주는 이벤트를 하고 있습니다. 숫자 스탬프는 매일 그 수와 스탬프에 적힌 숫자가 바뀌지만 그 숫자는 항상 연속됩니다. \n",
        "그런데 요즘 다른 날에 찍은 스탬프를 가지고 와 선물을 달라고 하는 손님이 늘었습니다.\n",
        "\n",
        "스탬프에 적힌 숫자가 공백으로 구분되어 주어지면 이 숫자가 연속수인지 아닌지 \"YES\"와 \"NO\"로 판별하는 프로그램을 작성하세요."
      ]
    },
    {
      "cell_type": "code",
      "metadata": {
        "colab": {
          "base_uri": "https://localhost:8080/"
        },
        "id": "0CiOZutavEe_",
        "outputId": "33726949-3d41-48c1-cb72-7dc411720712"
      },
      "source": [
        "n = sorted(list(map(int, input(\"숫자를 공백으로 구분하여 입력하세요: \").split())))\n",
        "stamp = True\n",
        "\n",
        "for i in range(0, len(n)-1):\n",
        "  if n[i]+1 != n[i+1]:\n",
        "    stamp = False\n",
        "\n",
        "if stamp:\n",
        "  print(\"YES\")\n",
        "else:\n",
        "  print(\"NO\")  "
      ],
      "execution_count": 16,
      "outputs": [
        {
          "output_type": "stream",
          "name": "stdout",
          "text": [
            "숫자를 공백으로 구분하여 입력하세요: 1 2 4 3 5\n",
            "YES\n"
          ]
        }
      ]
    },
    {
      "cell_type": "markdown",
      "metadata": {
        "id": "Td1pxP232A8C"
      },
      "source": [
        "## **문제55 : 하노이의 탑**\n",
        "하노이의 탑은 프랑스 수학자 에두아르드가 처음으로 발표한 게임입니다. 하노이의 탑은 A, B, C 3개의 기둥과 기둥에 꽂을 수 있는 N개의 원판으로 이루어져 있습니다. 이 게임에서 다음의 규칙을 만족해야 합니다.\n",
        "\n",
        "> 1. 처음에 모든 원판은 A기둥에 꽂혀 있다.\n",
        "2. 모든 원판의 지름은 다르다.\n",
        "3. 이 원반은 세 개의 기둥 중 하나에 반드시 꽂혀야 한다.\n",
        "4. 작은 원반 위에 큰 원반을 놓을 수 없다.\n",
        "5. 한 번에 하나의 원판(가장 위에 있는 원판) 만을 옮길 수 있다.\n",
        "> \n",
        "\n",
        "이 규칙을 만족하며 A기둥에 있는 원반 N개를 모두 C 원반으로 옮기고 싶습니다.\n",
        "모든 원반을 옮기기 위해 실행되어야 할 최소 원반 이동 횟수를 계산하는 프로그램을 완성해주세요.\n",
        "\n",
        "```python\n",
        "원판의이동경로 = []\n",
        "def 하노이(원반의수, 시작기둥, 목표기둥, 보조기둥):\n",
        "    #원판이 한개일 때에는 옮기면 됩니다.\n",
        "    if 원반의수 == 1:\n",
        "        원판의이동경로.append([시작기둥, 목표기둥]) \n",
        "        return None\n",
        "    #원반의 n-1개를 경유기둥으로 옮기고\n",
        "    하노이(#내용을 채워주세요.)\n",
        "    #가장 큰 원반은 목표기둥으로\n",
        "    원판의이동경로.append(#내용을 채워주세요.) \n",
        "    #경유기둥과 시작기둥을 바꿉니다!\n",
        "    하노이(#내용을 채워주세요.)\n",
        "\n",
        "user_input = int(input())\n",
        "하노이(user_input,'A','C','B')\n",
        "\n",
        "print(len(원판의이동경로))\n",
        "```"
      ]
    },
    {
      "cell_type": "code",
      "metadata": {
        "colab": {
          "base_uri": "https://localhost:8080/"
        },
        "id": "Hb11WEaA2JYG",
        "outputId": "c96100b2-bc98-408b-9bb9-23329e767837"
      },
      "source": [
        "원판의이동경로 = []\n",
        "def 하노이(원반의수, 시작기둥, 목표기둥, 보조기둥):\n",
        "    #원판이 한개일 때에는 옮기면 됩니다.\n",
        "    if 원반의수 == 1:\n",
        "        원판의이동경로.append([시작기둥, 목표기둥]) \n",
        "        return None\n",
        "        \n",
        "    #원반의 n-1개를 경유기둥으로 옮기고\n",
        "    하노이(원반의수-1, 시작기둥, 보조기둥, 목표기둥)\n",
        "    #가장 큰 원반은 목표기둥으로\n",
        "    원판의이동경로.append([시작기둥, 목표기둥]) \n",
        "    #경유기둥과 시작기둥을 바꿉니다!\n",
        "    하노이(원반의수-1, 보조기둥, 목표기둥, 시작기둥)\n",
        "\n",
        "user_input = int(input())\n",
        "하노이(user_input,'A','C','B')\n",
        "\n",
        "print(len(원판의이동경로))"
      ],
      "execution_count": null,
      "outputs": [
        {
          "output_type": "stream",
          "name": "stdout",
          "text": [
            "3\n",
            "7\n"
          ]
        }
      ]
    },
    {
      "cell_type": "markdown",
      "metadata": {
        "id": "zEFFQIFc2Ipi"
      },
      "source": [
        "## **문제56 : 리스트의 함수 응용**\n",
        "다음의 딕셔너리가 주어졌을 때 한국의 면적과 가장 비슷한 국가와 그 차이를 출력하세요.\n",
        "\n",
        "```python\n",
        "**데이터**\n",
        "nationWidth = {\n",
        "     'korea': 220877,\n",
        "     'Rusia': 17098242,\n",
        "     'China': 9596961,\n",
        "     'France': 543965,\n",
        "     'Japan': 377915,\n",
        "     'England' : 242900 }\n",
        "\n",
        "**출력**\n",
        "England 22023\n",
        "```"
      ]
    },
    {
      "cell_type": "code",
      "metadata": {
        "colab": {
          "base_uri": "https://localhost:8080/"
        },
        "id": "JI4lmS72ikGY",
        "outputId": "978b06e1-12af-43e2-ffc8-8c5aa9023c9b"
      },
      "source": [
        "nationWidth = {\n",
        "\t'korea': 220877, \n",
        "\t'Rusia': 17098242, \n",
        "\t'China': 9596961, \n",
        "\t'France': 543965, \n",
        "\t'Japan': 377915,\n",
        "\t'England' : 242900,\n",
        "}\n",
        "\n",
        "w = nationWidth['korea']\n",
        "nationWidth.pop('korea')\n",
        "l = list(nationWidth.items())\n",
        "gap = max(nationWidth.values())\n",
        "item = 0\n",
        "\n",
        "for i in l:\n",
        "    if gap > abs(i[1] - w):\n",
        "        gap = abs(i[1] - w)\n",
        "        item = i\n",
        "print(item[0],item[1]-220877)"
      ],
      "execution_count": 97,
      "outputs": [
        {
          "output_type": "stream",
          "name": "stdout",
          "text": [
            "England 22023\n"
          ]
        }
      ]
    },
    {
      "cell_type": "markdown",
      "metadata": {
        "id": "gIVfK3UsoSwU"
      },
      "source": [
        "## **문제57 : 내장함수 응용하기**\n",
        "**0부터 1000까지 1의 개수를 세는 프로그램**을 만들려고 합니다. 예를 들어 0부터 20까지 1의 개수를 세어본다면 1, 10 11, 12, 13, 14, 15, 16, 17, 18, 19 에 각각 1이 들어가므로 12개의 1이 있게 됩니다. 11은 1이 2번 들어간 셈이죠.\n",
        "\n",
        "그렇다면 0부터 1000까지 수에서 1은 몇번이나 들어갔을까요? 출력해주세요!"
      ]
    },
    {
      "cell_type": "code",
      "metadata": {
        "colab": {
          "base_uri": "https://localhost:8080/"
        },
        "id": "B_kMRwndoaCo",
        "outputId": "41a66e6d-697c-418b-f683-0fb8856f8832"
      },
      "source": [
        "s = \"\"\n",
        "\n",
        "for i in range(0, 1001):\n",
        "  s = s + str(i)\n",
        "\n",
        "s = list(map(int, s))\n",
        "\n",
        "print(s.count(1))"
      ],
      "execution_count": 21,
      "outputs": [
        {
          "output_type": "stream",
          "name": "stdout",
          "text": [
            "301\n"
          ]
        }
      ]
    },
    {
      "cell_type": "markdown",
      "metadata": {
        "id": "Tmq3iJ3Lpkmm"
      },
      "source": [
        "## **문제58 : 콤마 찍기**\n",
        "원범이는 편의점 아르바이트가 끝난 후 정산을 하고자 합니다.\n",
        "정산을 빨리하고 집에가고 싶은 원범이는 프로그램을 만들려고 합니다.\n",
        "\n",
        "**숫자를 입력 받고 천단위로 콤마(,)를 찍어주세요.**\n",
        "\n",
        "예를들어, 123456789를 입력받았으면 123,456,789 를 출력해야합니다."
      ]
    },
    {
      "cell_type": "code",
      "metadata": {
        "colab": {
          "base_uri": "https://localhost:8080/"
        },
        "id": "4L1zHtLqpoZb",
        "outputId": "c7a57553-7231-416d-c1f3-03d9c93c6756"
      },
      "source": [
        "n = list(input(\"숫자를 입력하세요: \"))\n",
        "\n",
        "for i in range(len(n)-3, 0, -3):\n",
        "  n.insert(i, ',')\n",
        "\n",
        "for i in range(len(n)):\n",
        "  print(n[i], end=\"\")"
      ],
      "execution_count": 26,
      "outputs": [
        {
          "output_type": "stream",
          "name": "stdout",
          "text": [
            "숫자를 입력하세요: 123456789\n",
            "123,456,789"
          ]
        }
      ]
    },
    {
      "cell_type": "code",
      "metadata": {
        "colab": {
          "base_uri": "https://localhost:8080/"
        },
        "id": "OoDrQzourzxH",
        "outputId": "c5726f8b-3c55-4950-f621-f80cb9703171"
      },
      "source": [
        "n = int(input())\n",
        "\n",
        "result = format(n, ',')\n",
        "print(result)"
      ],
      "execution_count": 27,
      "outputs": [
        {
          "output_type": "stream",
          "name": "stdout",
          "text": [
            "123456789\n",
            "123,456,789\n"
          ]
        }
      ]
    },
    {
      "cell_type": "markdown",
      "metadata": {
        "id": "vX42W3sXsKwE"
      },
      "source": [
        "## **문제59 : 빈칸채우기**\n",
        "총 문자열의 길이는 50으로 제한하고 사용자가 문자열을 입력하면 그 문자열을 가운데 정렬을 해주고, 나머지 빈 부분에는 '='을 채워넣어주세요"
      ]
    },
    {
      "cell_type": "code",
      "metadata": {
        "colab": {
          "base_uri": "https://localhost:8080/"
        },
        "id": "ihTntd--sQf7",
        "outputId": "331a921f-ce4b-4b19-8c9e-11d292c2a12d"
      },
      "source": [
        "s = input(\"문자열을 입력하세요: \")\n",
        "divide = (50 - len(s)) // 2\n",
        "\n",
        "for i in range(0, 51):\n",
        "  if i == divide:\n",
        "    print(s, end=\"\")\n",
        "    i = i + len(s)\n",
        "  else:\n",
        "    print(\"=\", end=\"\")"
      ],
      "execution_count": 70,
      "outputs": [
        {
          "output_type": "stream",
          "name": "stdout",
          "text": [
            "문자열을 입력하세요: hello\n",
            "======================hello============================"
          ]
        }
      ]
    },
    {
      "cell_type": "code",
      "metadata": {
        "colab": {
          "base_uri": "https://localhost:8080/"
        },
        "id": "pJ3AAuLFwYlb",
        "outputId": "97dbf048-d448-462d-dc8a-04c9a78e6cd8"
      },
      "source": [
        "user_input = input()\n",
        "print(\"{0:=^50}\".format(user_input))"
      ],
      "execution_count": 28,
      "outputs": [
        {
          "output_type": "stream",
          "name": "stdout",
          "text": [
            "hi\n",
            "========================hi========================\n"
          ]
        }
      ]
    },
    {
      "cell_type": "markdown",
      "metadata": {
        "id": "o8XXuoaUyYF7"
      },
      "source": [
        "## **문제60 : enumerate**\n",
        "새학기가 되어 **이름을 가나다 순서대로 배정하고 번호를 매기려고 합니다**.\n",
        "코드에 입력된 이름을 아래와 같이 출력해주세요.\n",
        "```python\n",
        "**데이터**\n",
        "student = ['강은지','김유정','박현서','최성훈','홍유진','박지호','권윤일','김채리','한지호','김진이','김민호','강채연']\n",
        "\n",
        "**출력**\n",
        "번호: 1, 이름: 강은지\n",
        "번호: 2, 이름: 강채연\n",
        "번호: 3, 이름: 권윤일\n",
        "번호: 4, 이름: 김민호\n",
        "번호: 5, 이름: 김유정\n",
        "번호: 6, 이름: 김진이\n",
        "번호: 7, 이름: 김채리\n",
        "번호: 8, 이름: 박지호\n",
        "번호: 9, 이름: 박현서\n",
        "번호: 10, 이름: 최성훈\n",
        "번호: 11, 이름: 한지호\n",
        "번호: 12, 이름: 홍유진\n",
        "```"
      ]
    },
    {
      "cell_type": "code",
      "metadata": {
        "colab": {
          "base_uri": "https://localhost:8080/"
        },
        "id": "6Zj17GXIycCo",
        "outputId": "54fa722e-96de-443e-e6b1-edd5b6dbb4ab"
      },
      "source": [
        "student = ['강은지','김유정','박현서','최성훈','홍유진','박지호','권윤일','김채리','한지호','김진이','김민호','강채연']\n",
        "student = sorted(student)\n",
        "\n",
        "for num, name in enumerate(student):\n",
        "  print(\"번호: {}, 이름: {}\".format(num+1, name))"
      ],
      "execution_count": 38,
      "outputs": [
        {
          "output_type": "stream",
          "name": "stdout",
          "text": [
            "번호: 1, 이름: 강은지\n",
            "번호: 2, 이름: 강채연\n",
            "번호: 3, 이름: 권윤일\n",
            "번호: 4, 이름: 김민호\n",
            "번호: 5, 이름: 김유정\n",
            "번호: 6, 이름: 김진이\n",
            "번호: 7, 이름: 김채리\n",
            "번호: 8, 이름: 박지호\n",
            "번호: 9, 이름: 박현서\n",
            "번호: 10, 이름: 최성훈\n",
            "번호: 11, 이름: 한지호\n",
            "번호: 12, 이름: 홍유진\n"
          ]
        }
      ]
    },
    {
      "cell_type": "markdown",
      "metadata": {
        "id": "fx0ws0tlztF7"
      },
      "source": [
        "## **문제61 : 문자열 압축하기**\n",
        "문자열을 입력받고 연속되는 문자열을 압축해서 표현하고싶습니다.\n"
      ]
    },
    {
      "cell_type": "code",
      "metadata": {
        "colab": {
          "base_uri": "https://localhost:8080/"
        },
        "id": "SJD8tQnbzwgP",
        "outputId": "fa19f7b1-d1ff-4f8b-abf6-6e5fdc7c9cf8"
      },
      "source": [
        "s = input(\"문자열을 입력하세요: \")\n",
        "a = sorted(list(set(s)))\n",
        "result = \"\"\n",
        "\n",
        "for i in range(len(a)):\n",
        "  result = result + a[i] + str(s.count(a[i]))\n",
        "\n",
        "print(result)"
      ],
      "execution_count": 71,
      "outputs": [
        {
          "output_type": "stream",
          "name": "stdout",
          "text": [
            "문자열을 입력하세요: aaabbbbcdddd\n",
            "a3b4c1d4\n"
          ]
        }
      ]
    },
    {
      "cell_type": "markdown",
      "metadata": {
        "id": "b9G0retw2o2a"
      },
      "source": [
        "## **문제62 : 20190923출력하기**\n",
        "`20190923`을 출력합니다.  아래 기준만 만족하면 됩니다.\n",
        "\n",
        "1. 코드 내에 숫자가 없어야 합니다.\n",
        "    - 예) print(20190923)이라고 하시면 안됩니다.\n",
        "2. 파일 이름이나 경로를 사용해서는 안됩니다.\n",
        "3. 시간, 날짜 함수를 사용해서는 안됩니다.\n",
        "4. 에러 번호 출력을 이용해서는 안됩니다.\n",
        "5. input을 이용해서는 안됩니다."
      ]
    },
    {
      "cell_type": "code",
      "metadata": {
        "colab": {
          "base_uri": "https://localhost:8080/"
        },
        "id": "hbRXmKUs5B-U",
        "outputId": "9779bff7-7e4b-4883-a679-68ae04d52717"
      },
      "source": [
        "string='aacddddddddd'\n",
        "a=string.count('a') #2\n",
        "b=string.count('b') #0\n",
        "c=string.count('c') #1\n",
        "d=string.count('d') #9\n",
        "print(int(str(a)+str(b)+str(c)+str(d)+str(b)+str(d)+str(a)+str(a+1)))"
      ],
      "execution_count": 50,
      "outputs": [
        {
          "output_type": "stream",
          "name": "stdout",
          "text": [
            "20190923\n"
          ]
        }
      ]
    },
    {
      "cell_type": "markdown",
      "metadata": {
        "id": "uobS_c8r6n3D"
      },
      "source": [
        "## **문제63 : 친해지고 싶어**\n",
        "한국대학교의 김한국교수님은 학생들과 친해지기 위해서 딸에게 줄임말을 배우기로 했습니다.\n",
        "딸은 '복잡한 세상 편하게 살자' 라는 문장을 '복세편살'로 줄여 말합니다.\n",
        "\n",
        "교수님이 줄임말을 배우기 위해 위와 같이 어떤 입력이 주어지면 앞 글자만 줄여 출력하도록 해주세요."
      ]
    },
    {
      "cell_type": "code",
      "metadata": {
        "colab": {
          "base_uri": "https://localhost:8080/"
        },
        "id": "hzQKP4td6s5y",
        "outputId": "a051064a-b5a4-4409-95de-36ea020e4d81"
      },
      "source": [
        "s = list(input(\"문자열을 입력하세요: \"))\n",
        "\n",
        "for i in range(len(s)):\n",
        "  if i == 0:\n",
        "    print(s[i], end=\"\")\n",
        "  elif s[i] == ' ':\n",
        "    print(s[i+1], end=\"\")"
      ],
      "execution_count": 56,
      "outputs": [
        {
          "output_type": "stream",
          "name": "stdout",
          "text": [
            "문자열을 입력하세요: 복잡한 세상 편하게 살자\n",
            "복세편살"
          ]
        }
      ]
    },
    {
      "cell_type": "code",
      "metadata": {
        "colab": {
          "base_uri": "https://localhost:8080/"
        },
        "id": "Jy3LTRlU8ZCC",
        "outputId": "cbdb5c01-7442-4109-fb3b-2df3e1949cf9"
      },
      "source": [
        "user_input = input().split(' ')\n",
        "print(user_input)\n",
        "result = ''\n",
        "\n",
        "for s in user_input:\n",
        "    result += s[0]\n",
        "\n",
        "print(result)"
      ],
      "execution_count": 58,
      "outputs": [
        {
          "output_type": "stream",
          "name": "stdout",
          "text": [
            "복잡한 세상 편하게 살자\n",
            "['복잡한', '세상', '편하게', '살자']\n",
            "복세편살\n"
          ]
        }
      ]
    },
    {
      "cell_type": "markdown",
      "metadata": {
        "id": "KUIJrGBx8_kD"
      },
      "source": [
        "## **문제64 : 이상한 엘레베이터**\n",
        "정량 N에 정확히 맞춰야만 움직이는 화물용 엘레베이터가 있습니다.\n",
        "화물은 7kg, 3kg 두 가지이며 팔이 아픈 은후는 가장 적게 화물을 옮기고 싶습니다.\n",
        "\n",
        "예를 들어 정량이 24kg이라면 3kg 8개를 옮기는 것 보다는\n",
        "7kg 3개, 3kg 1개 즉 4개로 더 적게 옮길 수 있습니다.\n",
        "\n",
        "**입력**\n",
        "정량 N이 입력됩니다.\n",
        "\n",
        "**출력**\n",
        "가장 적게 옮길 수 있는 횟수를 출력합니다.\n",
        "만약 어떻게 해도 정량이 N이 되지 않는다면 -1을 출력합니다."
      ]
    },
    {
      "cell_type": "code",
      "metadata": {
        "colab": {
          "base_uri": "https://localhost:8080/"
        },
        "id": "4abjhh1E9C8o",
        "outputId": "0e043e19-3fd3-402c-e89c-f18741a5e96b"
      },
      "source": [
        "n = int(input(\"정량을 입력하세요: \"))\n",
        "result = 0\n",
        "\n",
        "result = result + (n//7)\n",
        "n = n - ((n//7)*7)\n",
        "result = result + (n/3)\n",
        "n = n - ((n/3)*3)\n",
        "\n",
        "if n == 0:\n",
        "  print(result)\n",
        "else:\n",
        "  print(-1)"
      ],
      "execution_count": 68,
      "outputs": [
        {
          "output_type": "stream",
          "name": "stdout",
          "text": [
            "정량을 입력하세요: 24\n",
            "4.0\n"
          ]
        }
      ]
    },
    {
      "cell_type": "code",
      "metadata": {
        "colab": {
          "base_uri": "https://localhost:8080/"
        },
        "id": "-oME2j1HDGTy",
        "outputId": "9c581031-f1e2-42ff-c390-c0579c759c82"
      },
      "source": [
        "N = int(input())\n",
        "result = 0\n",
        "\n",
        "while True:\n",
        "    if N%7 ==0:\n",
        "        result += N//7\n",
        "        print(result)\n",
        "        break\n",
        "    N -= 3\n",
        "    result += 1\n",
        "    if N < 0:\n",
        "        print(-1)\n",
        "        break"
      ],
      "execution_count": 69,
      "outputs": [
        {
          "output_type": "stream",
          "name": "stdout",
          "text": [
            "24\n",
            "4\n"
          ]
        }
      ]
    },
    {
      "cell_type": "markdown",
      "metadata": {
        "id": "T9EI6B9lDV2Z"
      },
      "source": [
        "## **문제65 : 변형된 리스트**\n",
        "a = [1,2,3,4]  \n",
        "b = [a,b,c,d]  \n",
        "이런 리스트가 있을 때 [[1,a],[b,2],[3,c],[d,4]] 이런식으로 a,b리스트가 번갈아가면서 출력되게 해주세요."
      ]
    },
    {
      "cell_type": "code",
      "metadata": {
        "colab": {
          "base_uri": "https://localhost:8080/"
        },
        "id": "-bn8VmdbDd_R",
        "outputId": "c56b997e-d39f-41c3-bdca-7c46d1120d03"
      },
      "source": [
        "a = input().split(' ')\n",
        "b = input().split(' ')\n",
        "result = []\n",
        "\n",
        "for i in range (0, 4):\n",
        "  if i % 2 == 0:\n",
        "    result.append([a[i], b[i]])\n",
        "  else:\n",
        "    result.append([b[i], a[i]])\n",
        "    \n",
        "print(result)"
      ],
      "execution_count": 87,
      "outputs": [
        {
          "output_type": "stream",
          "name": "stdout",
          "text": [
            "1 2 3 4\n",
            "a b c d\n",
            "[['1', 'a'], ['b', '2'], ['3', 'c'], ['d', '4']]\n"
          ]
        }
      ]
    },
    {
      "cell_type": "markdown",
      "metadata": {
        "id": "5jDPDTsnJDhp"
      },
      "source": [
        "## **문제66 : 블럭탑쌓기**\n",
        "탑을 쌓기 위해 각 크기별로 준비된 블럭들을 정해진 순서에 맞게 쌓아햐 합니다.\n",
        "순서에 맞게 쌓지 않으면 무너질 수 있습니다.\n",
        "예를 들면 정해진 순서가 BAC 라면 A 다음 C가 쌓아져야 합니다.\n",
        "선행으로 쌓아야 하는 블럭이 만족된 경우라면 탑이 무너지지 않습니다.\n",
        "\n",
        "- B를 쌓지 않아도 A와 C를 쌓을 수 있습니다.\n",
        "- B 다음 블럭이 C가 될 수 있습니다.\n",
        "\n",
        "쌓아져 있는 블럭 탑이 순서에 맞게 쌓아져 있는지 확인하세요.\n",
        "\n",
        "1. 블럭은 알파벳 대문자로 표기합니다.\n",
        "2. 규칙에 없는 블럭이 사용될 수 있습니다.\n",
        "3. 중복된 블럭은 존재하지 않습니다."
      ]
    },
    {
      "cell_type": "code",
      "metadata": {
        "colab": {
          "base_uri": "https://localhost:8080/"
        },
        "id": "iE5IZk8USIUU",
        "outputId": "44cac172-7633-430e-b091-847c9f0ab5d9"
      },
      "source": [
        "def solution(전체블록, 규칙):\n",
        "    answer = []\n",
        "    for 부분블록 in 전체블록:\n",
        "        answer.append(블록순서체크(부분블록, 규칙))\n",
        "    return answer\n",
        "\n",
        "def 블록순서체크(부분블록, 규칙):\n",
        "    임시변수 = 규칙.index(규칙[0])\n",
        "    for 문자 in 부분블록:\n",
        "        if 문자 in 규칙:\n",
        "            if 임시변수 > 규칙.index(문자):\n",
        "                return '불가능'\n",
        "            임시변수 = 규칙.index(문자)\n",
        "    return '가능'\n",
        "\n",
        "전체블록 = ['ABCDEF', 'BCAD', 'ADEFQRX', 'BEDFG', 'AEBFDGCH']\n",
        "규칙 = 'ABCD'\n",
        "\n",
        "print(solution(전체블록, 규칙))"
      ],
      "execution_count": 93,
      "outputs": [
        {
          "output_type": "stream",
          "name": "stdout",
          "text": [
            "['가능', '불가능', '가능', '가능', '불가능']\n"
          ]
        }
      ]
    },
    {
      "cell_type": "markdown",
      "metadata": {
        "id": "_4fxNMddR8_P"
      },
      "source": [
        "## **문제67 : 민규의 악수**\n",
        "광장에서 모인 사람들과 악수를 하는 행사가 열렸다.\n",
        "참가자인 민규는 몇명의 사람들과 악수를 한 후 중간에 일이 생겨 집으로 갔다.\n",
        "이 행사에서 진행된 악수는 총 n번이라고 했을때.\n",
        "\n",
        "민규는 몇번의 악수를 하고 집으로 돌아갔을까?\n",
        "이때 민규를 포함한 행사 참가자는 몇명일까?\n",
        "\n",
        "- 악수는 모두 1대 1로 진행이 된다.\n",
        "- 민규를 제외한 모든 참가자는 자신을 제외한 참가자와 모두 한번씩 악수를 한다.\n",
        "- 같은 상대와 중복된 악수는 카운트 하지 않는다.\n",
        "- 민규를 제외한 참가자는 행사를 모두 마쳤다.\n",
        "\n",
        "input : n (행사에서 진행된 악수 횟수)\n",
        "output : [ 민규의 악수횟수 , 행사참가자]\n",
        "\n",
        "예)\n",
        "59회의 악수가 행사에서 진행되었다.\n",
        "이때 민규는 4번의 악수를 하였고 민규를 포함한 참가자는 12명이다."
      ]
    },
    {
      "cell_type": "code",
      "metadata": {
        "colab": {
          "base_uri": "https://localhost:8080/"
        },
        "id": "Ei9ESz7qSBU4",
        "outputId": "c4bedf7c-2932-40b4-a993-e0a5164eb94f"
      },
      "source": [
        "n = int(input(\"행사에서 진행된 악수의 횟수를 입력하세요: \"))\n",
        "count = 0\n",
        "i = 1\n",
        "\n",
        "while count+i < n:\n",
        "  count = count + i\n",
        "  i = i + 1\n",
        "\n",
        "print(n-count, i+1)"
      ],
      "execution_count": 91,
      "outputs": [
        {
          "output_type": "stream",
          "name": "stdout",
          "text": [
            "행사에서 진행된 악수의 횟수를 입력하세요: 59\n",
            "4 12\n"
          ]
        }
      ]
    },
    {
      "cell_type": "code",
      "metadata": {
        "id": "GOVPj7thVbmw"
      },
      "source": [
        "def solution(n):\n",
        "    people = 0\n",
        "    total = 0\n",
        "    while(True):\n",
        "        total = people*(people-1)/2\n",
        "        if n<total:\n",
        "            break\n",
        "        people+=1\n",
        "    times = int(people-(total-n)-1)\n",
        "    return [times,people]"
      ],
      "execution_count": 92,
      "outputs": []
    },
    {
      "cell_type": "markdown",
      "metadata": {
        "id": "EVlhuHnUVsgp"
      },
      "source": [
        "## **문제68 : 버스 시간표**\n",
        "학교가 끝난 지원이는 집에 가려고 합니다. 학교 앞에 있는 버스 시간표는 너무 복잡해서 버스 도착시간이 몇 분 남았는지 알려주는 프로그램을 만들고 싶습니다.\n",
        "버스시간표와 현재 시간이 주어졌을 때 버스 도착 시간이 얼마나 남았는지 알려주는 프로그램을 만들어주세요.\n",
        "\n",
        "- 버스 시간표와 현재시간이 입력으루 주어집니다.\n",
        "- 출력 포맷은 \"00시00분\"입니다.\n",
        "   만약 1시간 3분이 남았다면 \"01시간03분\"으로 출력해야 합니다.\n",
        "- 버스 시간표에 현재 시간보다 이전인 버스가 있다면 \"지나갔습니다.\"라고 출력합니다."
      ]
    },
    {
      "cell_type": "code",
      "metadata": {
        "colab": {
          "base_uri": "https://localhost:8080/"
        },
        "id": "w5zJfPzaVzps",
        "outputId": "50f091c0-97ec-4b72-c6f2-98bf96dfb529"
      },
      "source": [
        "def sol(tb, rt):\n",
        "    answer = []\n",
        "    rt = rt.split(':')\n",
        "    for i in range(len(tb)):\n",
        "        time = tb[i].split(':')\n",
        "        time_to_min = ((int(time[0])*60 + int(time[1])) - (int(rt[0])*60+int(rt[1])))\n",
        "        if time_to_min < 0:\n",
        "            answer.append(\"지나갔습니다\")\n",
        "        else:\n",
        "            a = (time_to_min) // 60\n",
        "            b = (time_to_min) % 60\n",
        "            answer.append(str(a).zfill(2)+'시간 '+str(b).zfill(2)+'분')\n",
        "    return answer\n",
        "\n",
        "sol([\"12:30\", \"13:20\", \"14:13\"], \"12:40\")"
      ],
      "execution_count": 94,
      "outputs": [
        {
          "output_type": "execute_result",
          "data": {
            "text/plain": [
              "['지나갔습니다', '00시간 40분', '01시간 33분']"
            ]
          },
          "metadata": {},
          "execution_count": 94
        }
      ]
    },
    {
      "cell_type": "markdown",
      "metadata": {
        "id": "Hsu-eJnkWO91"
      },
      "source": [
        "## **문제69 : 골드바흐의 추측**\n",
        "골드바흐의 추측(Goldbach's conjecture)은 오래전부터 알려진 정수론의 미해결 문제로, 2보다 큰 모든 짝수는 두 개의 소수(Prime number)의 합으로 표시할 수 있다는 것이다. 이때 하나의 소수를 두 번 사용하는 것은 허용한다. - 위키백과\n",
        "\n",
        "위 설명에서 2보다 큰 모든 짝수를 두 소수의 합으로 나타낸 것을 골드바흐 파티션이라고 합니다.\n",
        "\n",
        "예)\n",
        "100 == 47 + 53\n",
        "56 == 19 + 37\n",
        "\n",
        "**2보다 큰 짝수 n이 주어졌을 때, 골드바흐 파티션을 출력하는 코드를** 작성하세요. \n",
        "\n",
        "* 해당 문제의 출력 형식은 자유롭습니다. 가능하시다면 골드바흐 파티션 모두를 출력하거나, 그 차가 작은 것을 출력하거나 그 차가 큰 것 모두 출력해보세요."
      ]
    },
    {
      "cell_type": "code",
      "metadata": {
        "colab": {
          "base_uri": "https://localhost:8080/"
        },
        "id": "P1nNI9pxWRrh",
        "outputId": "bc69d682-fd1e-4e75-e0fc-6cff88d132d1"
      },
      "source": [
        "def cal():\n",
        "    n=10000*2\n",
        "    primes=[]    \n",
        "    a = [False,False] + [True]*(n-1)\n",
        "\n",
        "    for i in range(2,n+1):\n",
        "      if a[i]:\n",
        "        primes.append(i)\n",
        "        for j in range(2*i, n+1, i):\n",
        "            a[j] = False\n",
        "            \n",
        "    return primes\n",
        "\n",
        "a = cal()\n",
        "\n",
        "#골드바흐파티션\n",
        "n = int(input())\n",
        "l = []\n",
        "k = []\t\n",
        "\n",
        "for i in range(2, n//2+1):    \n",
        "    if i in a and n-i in a:\n",
        "        l.append(i)\n",
        "        l.append(n-i)\n",
        "\n",
        "for i in range(0,len(l)-1,2):\n",
        "    k.append(l[i+1]-l[i])\n",
        "    \n",
        "index = k.index(min(k))*2\n",
        "print(l[index], l[index+1])"
      ],
      "execution_count": 95,
      "outputs": [
        {
          "output_type": "stream",
          "name": "stdout",
          "text": [
            "100\n",
            "47 53\n"
          ]
        }
      ]
    },
    {
      "cell_type": "markdown",
      "metadata": {
        "id": "2vFeQP_QWSQK"
      },
      "source": [
        "## **문제70 : 행렬 곱하기**\n",
        "행렬 2개가 주어졌을 때 곱할 수 있는 행렬인지 확인하고 곱할 수 있다면 그 결과를, 곱할 수 없다면 -1을 출력하는 프로그램을 만들어주세요.\n",
        "\n",
        "* 라이브러리는 사용을 금지합니다."
      ]
    },
    {
      "cell_type": "code",
      "metadata": {
        "id": "FEOWX7o8WYBg"
      },
      "source": [
        "def sol(a, b):\n",
        "    c = []\n",
        "    if len(a) == len(b[0]):\n",
        "        for i in range(len(a)):\n",
        "            c.append([0]*len(b[0]))\n",
        "        for i in range(len(c)):\n",
        "            for j in range(len(c[i])):\n",
        "                for k in range(len(a[i])):\n",
        "                    c[i][j] += a[i][k] * b[k][j]\n",
        "        return c\n",
        "    else:\n",
        "        return -1"
      ],
      "execution_count": 96,
      "outputs": []
    }
  ]
}