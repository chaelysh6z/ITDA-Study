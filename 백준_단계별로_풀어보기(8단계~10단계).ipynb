{
  "nbformat": 4,
  "nbformat_minor": 0,
  "metadata": {
    "colab": {
      "name": "백준 단계별로 풀어보기(8단계~10단계).ipynb",
      "provenance": [],
      "collapsed_sections": [],
      "authorship_tag": "ABX9TyMWCGnttnxxDGRTnGmqXowy",
      "include_colab_link": true
    },
    "kernelspec": {
      "name": "python3",
      "display_name": "Python 3"
    },
    "language_info": {
      "name": "python"
    }
  },
  "cells": [
    {
      "cell_type": "markdown",
      "metadata": {
        "id": "view-in-github",
        "colab_type": "text"
      },
      "source": [
        "<a href=\"https://colab.research.google.com/github/chaelysh6z/ITDA-Study/blob/main/%EB%B0%B1%EC%A4%80_%EB%8B%A8%EA%B3%84%EB%B3%84%EB%A1%9C_%ED%92%80%EC%96%B4%EB%B3%B4%EA%B8%B0(8%EB%8B%A8%EA%B3%84~10%EB%8B%A8%EA%B3%84).ipynb\" target=\"_parent\"><img src=\"https://colab.research.google.com/assets/colab-badge.svg\" alt=\"Open In Colab\"/></a>"
      ]
    },
    {
      "cell_type": "markdown",
      "source": [
        "# **백준 단계별로 풀어보기(8단계~10단계)**"
      ],
      "metadata": {
        "id": "GO6fqNFEHEDc"
      }
    },
    {
      "cell_type": "markdown",
      "source": [
        "## **8단계 - 기본 수학 1**"
      ],
      "metadata": {
        "id": "2FfzM8dzkyqh"
      }
    },
    {
      "cell_type": "markdown",
      "source": [
        "### **1. 손익분기점**\n",
        "\n",
        "월드전자는 노트북을 제조하고 판매하는 회사이다. 노트북 판매 대수에 상관없이 매년 임대료, 재산세, 보험료, 급여 등 A만원의 고정 비용이 들며, 한 대의 노트북을 생산하는 데에는 재료비와 인건비 등 총 B만원의 가변 비용이 든다고 한다.\n",
        "\n",
        "예를 들어 A=1,000, B=70이라고 하자. 이 경우 노트북을 한 대 생산하는 데는 총 1,070만원이 들며, 열 대 생산하는 데는 총 1,700만원이 든다.\n",
        "\n",
        "노트북 가격이 C만원으로 책정되었다고 한다. 일반적으로 생산 대수를 늘려 가다 보면 어느 순간 총 수입(판매비용)이 총 비용(=고정비용+가변비용)보다 많아지게 된다. 최초로 총 수입이 총 비용보다 많아져 이익이 발생하는 지점을 손익분기점(BREAK-EVEN POINT)이라고 한다.\n",
        "\n",
        "A, B, C가 주어졌을 때, 손익분기점을 구하는 프로그램을 작성하시오."
      ],
      "metadata": {
        "id": "l2KOhGb98JDl"
      }
    },
    {
      "cell_type": "code",
      "execution_count": null,
      "metadata": {
        "colab": {
          "base_uri": "https://localhost:8080/"
        },
        "id": "tESJgSiw7lOg",
        "outputId": "4a3a5df3-fb08-48e5-b4aa-2ea32527d6cd"
      },
      "outputs": [
        {
          "output_type": "stream",
          "name": "stdout",
          "text": [
            "1000 70 170\n",
            "11\n"
          ]
        }
      ],
      "source": [
        "A, B, C = map(int, input().split())\n",
        "\n",
        "if (B >= C): # B가 C보다 크거나 같으면 손익분기점을 넘을 수 없음\n",
        "  print(-1)\n",
        "else:\n",
        "  print(A//(C-B)+1) # A + Bx < Cx -> A/(C-B) < x"
      ]
    },
    {
      "cell_type": "markdown",
      "source": [
        "### **2. 벌집**\n",
        "\n",
        "<img src=https://www.acmicpc.net/JudgeOnline/upload/201009/3(2).png></img>\n",
        "\n",
        "위의 그림과 같이 육각형으로 이루어진 벌집이 있다. 그림에서 보는 바와 같이 중앙의 방 1부터 시작해서 이웃하는 방에 돌아가면서 1씩 증가하는 번호를 주소로 매길 수 있다. 숫자 N이 주어졌을 때, 벌집의 중앙 1에서 N번 방까지 최소 개수의 방을 지나서 갈 때 몇 개의 방을 지나가는지(시작과 끝을 포함하여)를 계산하는 프로그램을 작성하시오. 예를 들면, 13까지는 3개, 58까지는 5개를 지난다.\n"
      ],
      "metadata": {
        "id": "hU-szjStIAPg"
      }
    },
    {
      "cell_type": "code",
      "source": [
        "N = int(input())\n",
        "\n",
        "n = 1\n",
        "cnt = 1\n",
        "\n",
        "while n < N:\n",
        "  n += 6 * cnt\n",
        "  cnt += 1\n",
        "\n",
        "print(cnt)"
      ],
      "metadata": {
        "colab": {
          "base_uri": "https://localhost:8080/"
        },
        "id": "xCnDlO8mISHh",
        "outputId": "e6ba293a-22a6-48cb-e06c-0a12ebe6d297"
      },
      "execution_count": 7,
      "outputs": [
        {
          "output_type": "stream",
          "name": "stdout",
          "text": [
            "38\n",
            "5\n"
          ]
        }
      ]
    },
    {
      "cell_type": "markdown",
      "source": [
        "### **3. 분수찾기**\n",
        "\n",
        "무한히 큰 배열에 다음과 같이 분수들이 적혀있다.\n",
        "\n",
        "1/1\t1/2\t1/3\t1/4\t1/5\t…  \n",
        "2/1\t2/2\t2/3\t2/4\t…\t…  \n",
        "3/1\t3/2\t3/3\t…\t…\t…  \n",
        "4/1\t4/2\t…\t…\t…\t…  \n",
        "5/1\t…\t…\t…\t…\t…  \n",
        "…\t…\t…\t…\t…\t…  \n",
        "\n",
        "이와 같이 나열된 분수들을 1/1 → 1/2 → 2/1 → 3/1 → 2/2 → … 과 같은 지그재그 순서로 차례대로 1번, 2번, 3번, 4번, 5번, … 분수라고 하자.\n",
        "\n",
        "X가 주어졌을 때, X번째 분수를 구하는 프로그램을 작성하시오."
      ],
      "metadata": {
        "id": "6iKJpmbnmpd2"
      }
    },
    {
      "cell_type": "code",
      "source": [
        "X = int(input())\n",
        "\n",
        "line = 0\n",
        "max = 0\n",
        "\n",
        "while X > max:\n",
        "  line += 1\n",
        "  max += line\n",
        "\n",
        "gap = max - X\n",
        "\n",
        "if line % 2 == 0:\n",
        "  top = line - gap\n",
        "  under = gap + 1\n",
        "else:\n",
        "  top = gap + 1\n",
        "  under = line - gap\n",
        "\n",
        "print(f\"{top}/{under}\")"
      ],
      "metadata": {
        "colab": {
          "base_uri": "https://localhost:8080/"
        },
        "id": "AIpM06ifmzzj",
        "outputId": "0070b92c-f9ac-4f31-c8ef-d39fa26d65de"
      },
      "execution_count": 19,
      "outputs": [
        {
          "output_type": "stream",
          "name": "stdout",
          "text": [
            "5\n",
            "2/2\n"
          ]
        }
      ]
    },
    {
      "cell_type": "markdown",
      "source": [
        "### **4. 달팽이는 올라가고 싶다**\n",
        "\n",
        "땅 위에 달팽이가 있다. 이 달팽이는 높이가 V미터인 나무 막대를 올라갈 것이다.\n",
        "\n",
        "달팽이는 낮에 A미터 올라갈 수 있다. 하지만, 밤에 잠을 자는 동안 B미터 미끄러진다. 또, 정상에 올라간 후에는 미끄러지지 않는다.\n",
        "\n",
        "달팽이가 나무 막대를 모두 올라가려면, 며칠이 걸리는지 구하는 프로그램을 작성하시오."
      ],
      "metadata": {
        "id": "YqwyGzBrTI5Q"
      }
    },
    {
      "cell_type": "code",
      "source": [
        "A, B, V = map(int, input().split())\n",
        "\n",
        "result =  (V-B)/(A-B)\n",
        "if result > int(result):\n",
        "  print(int(result)+1)\n",
        "else:\n",
        "  print(int(result))"
      ],
      "metadata": {
        "colab": {
          "base_uri": "https://localhost:8080/"
        },
        "id": "vMt7tBgDHKRy",
        "outputId": "b807c733-2d11-4a9d-b2b1-1648eabc7d76"
      },
      "execution_count": null,
      "outputs": [
        {
          "output_type": "stream",
          "name": "stdout",
          "text": [
            "100 99 1000000000\n",
            "999999901\n"
          ]
        }
      ]
    },
    {
      "cell_type": "markdown",
      "source": [
        "### **5. ACM 호텔**\n",
        "\n",
        "ACM 호텔 매니저 지우는 손님이 도착하는 대로 빈 방을 배정하고 있다. 고객 설문조사에 따르면 손님들은 호텔 정문으로부터 걸어서 가장 짧은 거리에 있는 방을 선호한다고 한다. 여러분은 지우를 도와 줄 프로그램을 작성하고자 한다. 즉 설문조사 결과 대로 호텔 정문으로부터 걷는 거리가 가장 짧도록 방을 배정하는 프로그램을 작성하고자 한다.\n",
        "\n",
        "문제를 단순화하기 위해서 호텔은 직사각형 모양이라고 가정하자. 각 층에 W 개의 방이 있는 H 층 건물이라고 가정하자 (1 ≤ H, W ≤ 99). 그리고 엘리베이터는 가장 왼쪽에 있다고 가정하자(그림 1 참고). 이런 형태의 호텔을 H × W 형태 호텔이라고 부른다. 호텔 정문은 일층 엘리베이터 바로 앞에 있는데, 정문에서 엘리베이터까지의 거리는 무시한다. 또 모든 인접한 두 방 사이의 거리는 같은 거리(거리 1)라고 가정하고 호텔의 정면 쪽에만 방이 있다고 가정한다.\n",
        "\n",
        "<img src=\"https://www.acmicpc.net/upload/images2/elevator.png\"></img>\n",
        "\n",
        "방 번호는 YXX 나 YYXX 형태인데 여기서 Y 나 YY 는 층 수를 나타내고 XX 는 엘리베이터에서부터 세었을 때의 번호를 나타낸다. 즉, 그림 1 에서 빗금으로 표시한 방은 305 호가 된다.\n",
        "\n",
        "손님은 엘리베이터를 타고 이동하는 거리는 신경 쓰지 않는다. 다만 걷는 거리가 같을 때에는 아래층의 방을 더 선호한다. 예를 들면 102 호 방보다는 301 호 방을 더 선호하는데, 102 호는 거리 2 만큼 걸어야 하지만 301 호는 거리 1 만큼만 걸으면 되기 때문이다. 같은 이유로 102 호보다 2101 호를 더 선호한다.\n",
        "\n",
        "여러분이 작성할 프로그램은 초기에 모든 방이 비어있다고 가정하에 이 정책에 따라 N 번째로 도착한 손님에게 배정될 방 번호를 계산하는 프로그램이다. 첫 번째 손님은 101 호, 두 번째 손님은 201 호 등과 같이 배정한다. 그림 1 의 경우를 예로 들면, H = 6이므로 10 번째 손님은 402 호에 배정해야 한다.\n"
      ],
      "metadata": {
        "id": "U4ZAPRDvkgCr"
      }
    },
    {
      "cell_type": "code",
      "source": [
        "T = int(input())\n",
        "\n",
        "for i in range(T):\n",
        "  H, W, N = map(int, input().split())\n",
        "  \n",
        "  Y = N % H\n",
        "  X = N // H + 1\n",
        "\n",
        "  if N % H == 0: # N이 H의 배수일 때\n",
        "    Y = H\n",
        "    X = N // H\n",
        "\n",
        "  print(Y*100+X)"
      ],
      "metadata": {
        "colab": {
          "base_uri": "https://localhost:8080/"
        },
        "id": "thT7atOikwxd",
        "outputId": "9b006ac7-974e-4f2a-94ef-6e43523bb3be"
      },
      "execution_count": null,
      "outputs": [
        {
          "output_type": "stream",
          "name": "stdout",
          "text": [
            "2\n",
            "6 12 6\n",
            "601\n",
            "30 50 72\n",
            "1203\n"
          ]
        }
      ]
    },
    {
      "cell_type": "markdown",
      "source": [
        "### **6. 부녀회장이 될테야**\n",
        "\n",
        "평소 반상회에 참석하는 것을 좋아하는 주희는 이번 기회에 부녀회장이 되고 싶어 각 층의 사람들을 불러 모아 반상회를 주최하려고 한다.\n",
        "\n",
        "이 아파트에 거주를 하려면 조건이 있는데, “a층의 b호에 살려면 자신의 아래(a-1)층의 1호부터 b호까지 사람들의 수의 합만큼 사람들을 데려와 살아야 한다” 는 계약 조항을 꼭 지키고 들어와야 한다.\n",
        "\n",
        "아파트에 비어있는 집은 없고 모든 거주민들이 이 계약 조건을 지키고 왔다고 가정했을 때, 주어지는 양의 정수 k와 n에 대해 k층에 n호에는 몇 명이 살고 있는지 출력하라. 단, 아파트에는 0층부터 있고 각층에는 1호부터 있으며, 0층의 i호에는 i명이 산다."
      ],
      "metadata": {
        "id": "ZBszqYq6jAE2"
      }
    },
    {
      "cell_type": "code",
      "source": [
        "T = int(input())\n",
        "\n",
        "for t in range(T):\n",
        "  k = int(input())\n",
        "  n = int(input())\n",
        "\n",
        "  L = []\n",
        "\n",
        "  for i in range(0, n+1):\n",
        "    L.append(i)\n",
        "\n",
        "  for i in range(k):\n",
        "    for j in range(1, n+1):\n",
        "      L[j] += L[j-1]\n",
        "\n",
        "  print(L[-1])"
      ],
      "metadata": {
        "colab": {
          "base_uri": "https://localhost:8080/"
        },
        "id": "i5TjqouWjD4Z",
        "outputId": "7ce59bf4-6b7f-4240-e995-92c085c48cad"
      },
      "execution_count": 24,
      "outputs": [
        {
          "output_type": "stream",
          "name": "stdout",
          "text": [
            "2\n",
            "1\n",
            "3\n",
            "6\n",
            "2\n",
            "3\n",
            "10\n"
          ]
        }
      ]
    },
    {
      "cell_type": "markdown",
      "source": [
        "### **7. 설탕 배달**\n",
        "\n",
        "상근이는 요즘 설탕공장에서 설탕을 배달하고 있다. 상근이는 지금 사탕가게에 설탕을 정확하게 N킬로그램을 배달해야 한다. 설탕공장에서 만드는 설탕은 봉지에 담겨져 있다. 봉지는 3킬로그램 봉지와 5킬로그램 봉지가 있다.\n",
        "\n",
        "상근이는 귀찮기 때문에, 최대한 적은 봉지를 들고 가려고 한다. 예를 들어, 18킬로그램 설탕을 배달해야 할 때, 3킬로그램 봉지 6개를 가져가도 되지만, 5킬로그램 3개와 3킬로그램 1개를 배달하면, 더 적은 개수의 봉지를 배달할 수 있다.\n",
        "\n",
        "상근이가 설탕을 정확하게 N킬로그램 배달해야 할 때, 봉지 몇 개를 가져가면 되는지 그 수를 구하는 프로그램을 작성하시오."
      ],
      "metadata": {
        "id": "Ig_jV0xJcbvB"
      }
    },
    {
      "cell_type": "code",
      "source": [
        "N = int(input())\n",
        "\n",
        "cnt = 0\n",
        "\n",
        "while N > 0:\n",
        "  if N % 5 == 0:\n",
        "    cnt += N // 5\n",
        "    N = N % 5\n",
        "    break\n",
        "  N -= 3 # N이 5의 배수가 될 때까지 \n",
        "  cnt += 1\n",
        "\n",
        "if N != 0:\n",
        "  print(-1)\n",
        "else:\n",
        "  print(cnt)"
      ],
      "metadata": {
        "colab": {
          "base_uri": "https://localhost:8080/"
        },
        "id": "mj720ysmch8O",
        "outputId": "73bfecaa-4d1b-4dc6-fb52-71f6a3a4c75d"
      },
      "execution_count": 18,
      "outputs": [
        {
          "output_type": "stream",
          "name": "stdout",
          "text": [
            "11\n",
            "3\n"
          ]
        }
      ]
    },
    {
      "cell_type": "markdown",
      "source": [
        "### **8. 큰 수 A+B**\n",
        "\n",
        "두 정수 A와 B를 입력받은 다음, A+B를 출력하는 프로그램을 작성하시오."
      ],
      "metadata": {
        "id": "xLYaBlODvjFF"
      }
    },
    {
      "cell_type": "code",
      "source": [
        "A, B = map(int, input().split())\n",
        "\n",
        "print(A+B)"
      ],
      "metadata": {
        "colab": {
          "base_uri": "https://localhost:8080/"
        },
        "id": "B5H7h5Clvq_O",
        "outputId": "64b764aa-fc63-405e-f271-12b93a36a26f"
      },
      "execution_count": null,
      "outputs": [
        {
          "output_type": "stream",
          "name": "stdout",
          "text": [
            "9223372036854775807 9223372036854775808\n",
            "18446744073709551615\n"
          ]
        }
      ]
    },
    {
      "cell_type": "markdown",
      "source": [
        "### **9. Fly me to the Alpha Centauri**\n",
        "\n",
        "우현이는 어린 시절, 지구 외의 다른 행성에서도 인류들이 살아갈 수 있는 미래가 오리라 믿었다. 그리고 그가 지구라는 세상에 발을 내려 놓은 지 23년이 지난 지금, 세계 최연소 ASNA 우주 비행사가 되어 새로운 세계에 발을 내려 놓는 영광의 순간을 기다리고 있다.\n",
        "\n",
        "그가 탑승하게 될 우주선은 Alpha Centauri라는 새로운 인류의 보금자리를 개척하기 위한 대규모 생활 유지 시스템을 탑재하고 있기 때문에, 그 크기와 질량이 엄청난 이유로 최신기술력을 총 동원하여 개발한 공간이동 장치를 탑재하였다. 하지만 이 공간이동 장치는 이동 거리를 급격하게 늘릴 경우 기계에 심각한 결함이 발생하는 단점이 있어서, 이전 작동시기에 k광년을 이동하였을 때는 k-1 , k 혹은 k+1 광년만을 다시 이동할 수 있다. 예를 들어, 이 장치를 처음 작동시킬 경우 -1 , 0 , 1 광년을 이론상 이동할 수 있으나 사실상 음수 혹은 0 거리만큼의 이동은 의미가 없으므로 1 광년을 이동할 수 있으며, 그 다음에는 0 , 1 , 2 광년을 이동할 수 있는 것이다. ( 여기서 다시 2광년을 이동한다면 다음 시기엔 1, 2, 3 광년을 이동할 수 있다. )\n",
        "\n",
        "<img src=\"https://www.acmicpc.net/upload/201003/rlaehdgur.JPG\"></img>\n",
        "\n",
        "김우현은 공간이동 장치 작동시의 에너지 소모가 크다는 점을 잘 알고 있기 때문에 x지점에서 y지점을 향해 최소한의 작동 횟수로 이동하려 한다. 하지만 y지점에 도착해서도 공간 이동장치의 안전성을 위하여 y지점에 도착하기 바로 직전의 이동거리는 반드시 1광년으로 하려 한다.\n",
        "\n",
        "김우현을 위해 x지점부터 정확히 y지점으로 이동하는데 필요한 공간 이동 장치 작동 횟수의 최솟값을 구하는 프로그램을 작성하라."
      ],
      "metadata": {
        "id": "ftqWeEWjnpDZ"
      }
    },
    {
      "cell_type": "code",
      "source": [
        ""
      ],
      "metadata": {
        "id": "9htE8uA7n0WG"
      },
      "execution_count": null,
      "outputs": []
    },
    {
      "cell_type": "markdown",
      "source": [
        "## **9단계 - 기본 수학 2**"
      ],
      "metadata": {
        "id": "fI0PLSV8kocn"
      }
    },
    {
      "cell_type": "markdown",
      "source": [
        "### **1. 소수 찾기**\n",
        "\n",
        "주어진 수 N개 중에서 소수가 몇 개인지 찾아서 출력하는 프로그램을 작성하시오."
      ],
      "metadata": {
        "id": "1z0qmnMoksQI"
      }
    },
    {
      "cell_type": "code",
      "source": [
        "def prime(n):\n",
        "  if n == 1:\n",
        "    return False\n",
        "  for i in range(2, n):\n",
        "    if n % i == 0:\n",
        "      return False\n",
        "  return True\n",
        "\n",
        "N = int(input())\n",
        "L = list(map(int, input().split()))\n",
        "cnt = 0\n",
        "\n",
        "for i in L:\n",
        "  if prime(i) == True:\n",
        "    cnt += 1\n",
        "\n",
        "print(cnt)"
      ],
      "metadata": {
        "colab": {
          "base_uri": "https://localhost:8080/"
        },
        "id": "rmKdIY7mku_z",
        "outputId": "a4da5c6e-b71f-4c1e-9491-22c90b454d34"
      },
      "execution_count": null,
      "outputs": [
        {
          "output_type": "stream",
          "name": "stdout",
          "text": [
            "4\n",
            "1 3 5 7\n",
            "3\n"
          ]
        }
      ]
    },
    {
      "cell_type": "markdown",
      "source": [
        "### **2. 소수**\n",
        "\n",
        "자연수 M과 N이 주어질 때 M이상 N이하의 자연수 중 소수인 것을 모두 골라 이들 소수의 합과 최솟값을 찾는 프로그램을 작성하시오.\n",
        "\n",
        "예를 들어 M=60, N=100인 경우 60이상 100이하의 자연수 중 소수는 61, 67, 71, 73, 79, 83, 89, 97 총 8개가 있으므로, 이들 소수의 합은 620이고, 최솟값은 61이 된다."
      ],
      "metadata": {
        "id": "gXV_OVN3nNaA"
      }
    },
    {
      "cell_type": "code",
      "source": [
        "def prime(n):\n",
        "  if n == 1:\n",
        "    return False\n",
        "  for i in range(2, n):\n",
        "    if n % i == 0:\n",
        "      return False\n",
        "  return True\n",
        "\n",
        "M = int(input())\n",
        "N = int(input())\n",
        "L = []\n",
        "\n",
        "for j in range(M, N+1):\n",
        "  if (prime(j) == True):\n",
        "    L.append(j)\n",
        "\n",
        "if (len(L) == 0):\n",
        "  print(-1)\n",
        "else:\n",
        "  print(sum(L))\n",
        "  print(min(L))"
      ],
      "metadata": {
        "colab": {
          "base_uri": "https://localhost:8080/"
        },
        "id": "BsqofM8cnREw",
        "outputId": "075132c5-8396-4e9d-8cfe-267f79bc7879"
      },
      "execution_count": null,
      "outputs": [
        {
          "output_type": "stream",
          "name": "stdout",
          "text": [
            "60\n",
            "100\n",
            "620\n",
            "61\n"
          ]
        }
      ]
    },
    {
      "cell_type": "markdown",
      "source": [
        "### **3. 소인수분해**\n",
        "\n",
        "정수 N이 주어졌을 때, 소인수분해하는 프로그램을 작성하시오."
      ],
      "metadata": {
        "id": "dieqgUsuqNKn"
      }
    },
    {
      "cell_type": "code",
      "source": [
        "N = int(input())\n",
        "\n",
        "while (N > 1):\n",
        "  for i in range(2, N+1):\n",
        "    if (N % i == 0):\n",
        "      print(i)\n",
        "      N = N // i\n",
        "      break;"
      ],
      "metadata": {
        "colab": {
          "base_uri": "https://localhost:8080/"
        },
        "id": "w_lhy3FUqRQa",
        "outputId": "de074219-0067-4e43-ce51-087a1ee03fa6"
      },
      "execution_count": null,
      "outputs": [
        {
          "output_type": "stream",
          "name": "stdout",
          "text": [
            "9991\n",
            "97\n",
            "103\n"
          ]
        }
      ]
    },
    {
      "cell_type": "markdown",
      "source": [
        "### **4. 소수 구하기**\n",
        "\n",
        "M이상 N이하의 소수를 모두 출력하는 프로그램을 작성하시오."
      ],
      "metadata": {
        "id": "nXVsq-Bgwute"
      }
    },
    {
      "cell_type": "code",
      "source": [
        "def prime(M, N):\n",
        "  L = []\n",
        "\n",
        "  for i in range(0, N+1):\n",
        "    L.append(i)\n",
        "\n",
        "  for i in range(2, len(L)):\n",
        "    if (L[i] == 0):\n",
        "      continue\n",
        "    for j in range(i + i, len(L), +i):\n",
        "      L[j] = 0;\n",
        "\n",
        "  for i in range(M, len(L)):\n",
        "    if L[i] == 1:\n",
        "      continue;\n",
        "    if (L[i] != 0):\n",
        "      print(L[i])\n",
        "\n",
        "M, N = map(int, input().split())\n",
        "\n",
        "prime(M, N)"
      ],
      "metadata": {
        "colab": {
          "base_uri": "https://localhost:8080/"
        },
        "id": "Vv7uxvbQwyq9",
        "outputId": "cfedab99-04f5-451e-df1c-161a6799a672"
      },
      "execution_count": null,
      "outputs": [
        {
          "output_type": "stream",
          "name": "stdout",
          "text": [
            "3 16\n",
            "3\n",
            "5\n",
            "7\n",
            "11\n",
            "13\n"
          ]
        }
      ]
    },
    {
      "cell_type": "markdown",
      "source": [
        "### **5. 베르트랑 공준**\n",
        "\n",
        "베르트랑 공준은 임의의 자연수 n에 대하여, n보다 크고, 2n보다 작거나 같은 소수는 적어도 하나 존재한다는 내용을 담고 있다.\n",
        "\n",
        "이 명제는 조제프 베르트랑이 1845년에 추측했고, 파프누티 체비쇼프가 1850년에 증명했다.\n",
        "\n",
        "예를 들어, 10보다 크고, 20보다 작거나 같은 소수는 4개가 있다. (11, 13, 17, 19) 또, 14보다 크고, 28보다 작거나 같은 소수는 3개가 있다. (17,19, 23)\n",
        "\n",
        "자연수 n이 주어졌을 때, n보다 크고, 2n보다 작거나 같은 소수의 개수를 구하는 프로그램을 작성하시오."
      ],
      "metadata": {
        "id": "DEvz1-Fat3Fg"
      }
    },
    {
      "cell_type": "code",
      "source": [
        "def prime(n):\n",
        "  L = []\n",
        "  cnt = 0\n",
        "\n",
        "  for i in range(0, 2*n+1):\n",
        "    L.append(i)\n",
        "\n",
        "  for i in range(2, len(L)):\n",
        "    if (L[i] == 0):\n",
        "      continue\n",
        "    for j in range(i + i, len(L), +i):\n",
        "      L[j] = 0;\n",
        "\n",
        "  for i in range(n+1, 2*n+1):\n",
        "    if L[i] == 1:\n",
        "      continue;\n",
        "    if (L[i] != 0):\n",
        "      cnt += 1\n",
        "\n",
        "  return cnt\n",
        "  \n",
        "n = int(input())\n",
        "\n",
        "while (True):\n",
        "  print(prime(n))\n",
        "  n = int(input())\n",
        "  if n == 0:\n",
        "    break"
      ],
      "metadata": {
        "colab": {
          "base_uri": "https://localhost:8080/"
        },
        "id": "g_3iMk21t65Z",
        "outputId": "8a10c19b-b2ac-41d1-c041-72353c68d688"
      },
      "execution_count": null,
      "outputs": [
        {
          "name": "stdout",
          "output_type": "stream",
          "text": [
            "1\n",
            "1\n",
            "10\n",
            "4\n",
            "13\n",
            "4\n",
            "100\n",
            "21\n",
            "1000\n",
            "135\n",
            "10000\n",
            "1033\n",
            "100000\n",
            "8392\n",
            "0\n"
          ]
        }
      ]
    },
    {
      "cell_type": "markdown",
      "source": [
        "### **6. 골드바흐의 추측**\n",
        "\n",
        "1보다 큰 자연수 중에서  1과 자기 자신을 제외한 약수가 없는 자연수를 소수라고 한다. 예를 들어, 5는 1과 5를 제외한 약수가 없기 때문에 소수이다. 하지만, 6은 6 = 2 × 3 이기 때문에 소수가 아니다.\n",
        "\n",
        "골드바흐의 추측은 유명한 정수론의 미해결 문제로, 2보다 큰 모든 짝수는 두 소수의 합으로 나타낼 수 있다는 것이다. 이러한 수를 골드바흐 수라고 한다. 또, 짝수를 두 소수의 합으로 나타내는 표현을 그 수의 골드바흐 파티션이라고 한다. 예를 들면, 4 = 2 + 2, 6 = 3 + 3, 8 = 3 + 5, 10 = 5 + 5, 12 = 5 + 7, 14 = 3 + 11, 14 = 7 + 7이다. 10000보다 작거나 같은 모든 짝수 n에 대한 골드바흐 파티션은 존재한다.\n",
        "\n",
        "2보다 큰 짝수 n이 주어졌을 때, n의 골드바흐 파티션을 출력하는 프로그램을 작성하시오. 만약 가능한 n의 골드바흐 파티션이 여러 가지인 경우에는 두 소수의 차이가 가장 작은 것을 출력한다."
      ],
      "metadata": {
        "id": "o0bgxPnwF9Zo"
      }
    },
    {
      "cell_type": "code",
      "source": [
        ""
      ],
      "metadata": {
        "id": "CdQzRO2jGBKc"
      },
      "execution_count": null,
      "outputs": []
    },
    {
      "cell_type": "markdown",
      "source": [
        "### **7. 직사각형에서 탈출**\n",
        "\n",
        "한수는 지금 (x, y)에 있다. 직사각형은 각 변이 좌표축에 평행하고, 왼쪽 아래 꼭짓점은 (0, 0), 오른쪽 위 꼭짓점은 (w, h)에 있다. 직사각형의 경계선까지 가는 거리의 최솟값을 구하는 프로그램을 작성하시오."
      ],
      "metadata": {
        "id": "wG3QeppeDXas"
      }
    },
    {
      "cell_type": "code",
      "source": [
        "x, y, w, h = map(int, input().split())\n",
        "\n",
        "result = min((x - 0), (y - 0), (w - x), (h - y))\n",
        "\n",
        "print(result)"
      ],
      "metadata": {
        "colab": {
          "base_uri": "https://localhost:8080/"
        },
        "id": "HhjVAcSCDhbC",
        "outputId": "bc5b8c41-bf1b-487c-bbf9-89027b132653"
      },
      "execution_count": null,
      "outputs": [
        {
          "output_type": "stream",
          "name": "stdout",
          "text": [
            "161 181 762 375\n",
            "161\n"
          ]
        }
      ]
    },
    {
      "cell_type": "markdown",
      "source": [
        "### **8. 네 번째 점**\n",
        "\n",
        "세 점이 주어졌을 때, 축에 평행한 직사각형을 만들기 위해서 필요한 네 번째 점을 찾는 프로그램을 작성하시오."
      ],
      "metadata": {
        "id": "OObFCH0qFP2j"
      }
    },
    {
      "cell_type": "code",
      "source": [
        "x1, y1 = map(int, input().split())\n",
        "x2, y2 = map(int, input().split())\n",
        "x3, y3 = map(int, input().split())\n",
        "\n",
        "X = [x1, x2, x3]\n",
        "Y = [y1, y2, y3]\n",
        "\n",
        "for i in range(0, 3):\n",
        "  if X.count(X[i]) == 1:\n",
        "    x4 = X[i]\n",
        "  if Y.count(Y[i]) == 1:\n",
        "    y4 = Y[i]\n",
        "\n",
        "print(x4, y4)"
      ],
      "metadata": {
        "colab": {
          "base_uri": "https://localhost:8080/"
        },
        "id": "DIgI61yHGS7H",
        "outputId": "9d6189cc-195a-4a3e-dcb3-c328c695819a"
      },
      "execution_count": null,
      "outputs": [
        {
          "output_type": "stream",
          "name": "stdout",
          "text": [
            "5 5\n",
            "5 7\n",
            "7 5\n",
            "7 7\n"
          ]
        }
      ]
    },
    {
      "cell_type": "markdown",
      "source": [
        "### **9. 직각삼각형**\n",
        "\n",
        "과거 이집트인들은 각 변들의 길이가 3, 4, 5인 삼각형이 직각 삼각형인것을 알아냈다. 주어진 세변의 길이로 삼각형이 직각인지 아닌지 구분하시오.\n",
        "\n",
        "입력은 여러개의 테스트케이스로 주어지며 마지막줄에는 0 0 0이 입력된다. 각 테스트케이스는 모두 30,000보다 작은 양의 정수로 주어지며, 각 입력은 변의 길이를 의미한다.\n",
        "\n",
        "각 입력에 대해 직각 삼각형이 맞다면 \"right\", 아니라면 \"wrong\"을 출력한다."
      ],
      "metadata": {
        "id": "fzU3rF0s-wnq"
      }
    },
    {
      "cell_type": "code",
      "source": [
        "L = sorted(list(map(int, input().split())))\n",
        "\n",
        "while ((L[0] != 0) & (L[1] != 0) & (L[2] != 0)):\n",
        "  if L[2]*L[2] == L[0]*L[0] + L[1]*L[1]:\n",
        "    print(\"right\")\n",
        "  else:\n",
        "    print(\"wrong\")\n",
        "  L = sorted(list(map(int, input().split())))"
      ],
      "metadata": {
        "colab": {
          "base_uri": "https://localhost:8080/"
        },
        "id": "Qm25LujZ-6d6",
        "outputId": "b2f18e94-1cf8-483a-d23d-d9de5a67be0c"
      },
      "execution_count": null,
      "outputs": [
        {
          "name": "stdout",
          "output_type": "stream",
          "text": [
            "6 8 10\n",
            "right\n",
            "25 52 60\n",
            "wrong\n",
            "10 6 8\n",
            "right\n",
            "0 0 0\n"
          ]
        }
      ]
    },
    {
      "cell_type": "markdown",
      "source": [
        "### **10. 택시 기하학**\n",
        "\n",
        "19세기 독일 수학자 헤르만 민코프스키는 비유클리드 기하학 중 택시 기하학을 고안했다.\n",
        "\n",
        "택시 기하학에서 두 점 T1(x1,y1), T2(x2,y2) 사이의 거리는 다음과 같이 구할 수 있다.\n",
        "\n",
        "D(T1,T2) = |x1-x2| + |y1-y2|\n",
        "\n",
        "두 점 사이의 거리를 제외한 나머지 정의는 유클리드 기하학에서의 정의와 같다.\n",
        "\n",
        "따라서 택시 기하학에서 원의 정의는 유클리드 기하학에서 원의 정의와 같다.\n",
        "\n",
        "원: 평면 상의 어떤 점에서 거리가 일정한 점들의 집합\n",
        "\n",
        "반지름 R이 주어졌을 때, 유클리드 기하학에서 원의 넓이와, 택시 기하학에서 원의 넓이를 구하는 프로그램을 작성하시오."
      ],
      "metadata": {
        "id": "4ba3LzrVITaG"
      }
    },
    {
      "cell_type": "code",
      "source": [
        "import math\n",
        "\n",
        "R = int(input())\n",
        "\n",
        "print(math.pi*R*R)\n",
        "print(2*R*R)"
      ],
      "metadata": {
        "colab": {
          "base_uri": "https://localhost:8080/"
        },
        "id": "nAXOWK_aIW1A",
        "outputId": "8611bfb1-808e-4517-f66f-543a45ccfc93"
      },
      "execution_count": null,
      "outputs": [
        {
          "output_type": "stream",
          "name": "stdout",
          "text": [
            "1\n",
            "3.141592653589793\n",
            "2\n"
          ]
        }
      ]
    },
    {
      "cell_type": "markdown",
      "source": [
        "### **11. 터렛**\n",
        "\n",
        "조규현과 백승환은 터렛에 근무하는 직원이다. 하지만 워낙 존재감이 없어서 인구수는 차지하지 않는다. 다음은 조규현과 백승환의 사진이다.\n",
        "\n",
        "<img src=\"https://www.acmicpc.net/upload/201003/dfcmhrjj_142c3w76qg8_b.jpg\"></img>\n",
        "\n",
        "이석원은 조규현과 백승환에게 상대편 마린(류재명)의 위치를 계산하라는 명령을 내렸다. 조규현과 백승환은 각각 자신의 터렛 위치에서 현재 적까지의 거리를 계산했다.\n",
        "\n",
        "조규현의 좌표 (x1, y1)와 백승환의 좌표 (x2, y2)가 주어지고, 조규현이 계산한 류재명과의 거리 r1과 백승환이 계산한 류재명과의 거리 r2가 주어졌을 때, 류재명이 있을 수 있는 좌표의 수를 출력하는 프로그램을 작성하시오."
      ],
      "metadata": {
        "id": "sq168y391usV"
      }
    },
    {
      "cell_type": "code",
      "source": [
        "T = int(input())\n",
        "cnt = 0\n",
        "\n",
        "for i in range(T):\n",
        "  x1, y1, r1, x2, y2, r2 = map(int, input().split())\n",
        "\n",
        "  d = ((x2-x1)**2 + (y2-y1)**2)**(1/2) # 원의 중심 사이의 거리\n",
        "\n",
        "  if ((d == r1 + r2) or ((r1 != r2) and (d == abs(r1 - r2)))): # 한 점에서 만날 때\n",
        "    cnt = 1\n",
        "  elif ((abs(r1 - r2) < d) and (d < (r1 + r2))): # 두 점에서 만날 때\n",
        "    cnt = 2\n",
        "  elif (x1 == x2) and (y1 == y2) and (r1 == r2): # 중심과 넓이가 같을 때 = 무한대\n",
        "    cnt = -1\n",
        "\n",
        "  print(cnt)\n",
        "  cnt = 0"
      ],
      "metadata": {
        "colab": {
          "base_uri": "https://localhost:8080/"
        },
        "id": "S_EMONc414VA",
        "outputId": "1d01b702-d103-4d9c-ca90-13bae32757b8"
      },
      "execution_count": null,
      "outputs": [
        {
          "output_type": "stream",
          "name": "stdout",
          "text": [
            "3\n",
            "0 0 13 40 0 37\n",
            "2\n",
            "0 0 3 0 7 4\n",
            "1\n",
            "2 2 4 2 2 4\n",
            "-1\n"
          ]
        }
      ]
    },
    {
      "cell_type": "markdown",
      "source": [
        "## **10단계 - 재귀**"
      ],
      "metadata": {
        "id": "bL84dgn_Z6k2"
      }
    },
    {
      "cell_type": "markdown",
      "source": [
        "### **1. 팩토리얼**\n",
        "\n",
        "0보다 크거나 같은 정수 N이 주어진다. 이때, N!을 출력하는 프로그램을 작성하시오."
      ],
      "metadata": {
        "id": "CqwN5RI1bp9q"
      }
    },
    {
      "cell_type": "code",
      "source": [
        "def factorial(N):\n",
        "  result = 1\n",
        "  if N > 0:\n",
        "    result = N * factorial(N-1)\n",
        "  return result\n",
        "\n",
        "N = int(input())\n",
        "print(factorial(N))"
      ],
      "metadata": {
        "colab": {
          "base_uri": "https://localhost:8080/"
        },
        "id": "4Ph7cIYdZ-1z",
        "outputId": "9618875b-f0fe-46c0-e3a8-0471cc0c84af"
      },
      "execution_count": null,
      "outputs": [
        {
          "output_type": "stream",
          "name": "stdout",
          "text": [
            "10\n",
            "3628800\n"
          ]
        }
      ]
    },
    {
      "cell_type": "code",
      "source": [
        "N = int(input())\n",
        "result = 1\n",
        "\n",
        "for i in range(1, N+1):\n",
        "  result *= i\n",
        "\n",
        "print(result)"
      ],
      "metadata": {
        "colab": {
          "base_uri": "https://localhost:8080/"
        },
        "id": "RNJxfe8nd4Pd",
        "outputId": "1cb68a6f-ce4c-4896-e843-20b908946c1a"
      },
      "execution_count": null,
      "outputs": [
        {
          "output_type": "stream",
          "name": "stdout",
          "text": [
            "10\n",
            "3628800\n"
          ]
        }
      ]
    },
    {
      "cell_type": "markdown",
      "source": [
        "### **2. 피보나치 수 5**\n",
        "\n",
        "피보나치 수는 0과 1로 시작한다. 0번째 피보나치 수는 0이고, 1번째 피보나치 수는 1이다. 그 다음 2번째 부터는 바로 앞 두 피보나치 수의 합이 된다.\n",
        "\n",
        "이를 식으로 써보면 Fn = Fn-1 + Fn-2 (n ≥ 2)가 된다.\n",
        "\n",
        "n=17일때 까지 피보나치 수를 써보면 다음과 같다.\n",
        "\n",
        "0, 1, 1, 2, 3, 5, 8, 13, 21, 34, 55, 89, 144, 233, 377, 610, 987, 1597\n",
        "\n",
        "n이 주어졌을 때, n번째 피보나치 수를 구하는 프로그램을 작성하시오."
      ],
      "metadata": {
        "id": "Hg46DrHreRw1"
      }
    },
    {
      "cell_type": "code",
      "source": [
        "def fibonacci(N):\n",
        "  if N < 2:\n",
        "    return N\n",
        "  else:\n",
        "    return fibonacci(N-1) + fibonacci(N-2)\n",
        "\n",
        "N = int(input())\n",
        "print(fibonacci(N))"
      ],
      "metadata": {
        "colab": {
          "base_uri": "https://localhost:8080/"
        },
        "id": "V5EcMrvueXF4",
        "outputId": "5ac87059-62fb-4dab-eccd-109755da8337"
      },
      "execution_count": null,
      "outputs": [
        {
          "output_type": "stream",
          "name": "stdout",
          "text": [
            "10\n",
            "55\n"
          ]
        }
      ]
    },
    {
      "cell_type": "markdown",
      "source": [
        "### **3. 별 찍기 - 10**\n",
        "\n",
        "재귀적인 패턴으로 별을 찍어 보자. N이 3의 거듭제곱(3, 9, 27, ...)이라고 할 때, 크기 N의 패턴은 N×N 정사각형 모양이다.\n",
        "\n",
        "크기 3의 패턴은 가운데에 공백이 있고, 가운데를 제외한 모든 칸에 별이 하나씩 있는 패턴이다.\n",
        "\n",
        "```\n",
        "***\n",
        "* *\n",
        "***\n",
        "```\n",
        "\n",
        "N이 3보다 클 경우, 크기 N의 패턴은 공백으로 채워진 가운데의 (N/3)×(N/3) 정사각형을 크기 N/3의 패턴으로 둘러싼 형태이다. 예를 들어 크기 27의 패턴은 예제 출력 1과 같다."
      ],
      "metadata": {
        "id": "g3XIyFhhgYtG"
      }
    },
    {
      "cell_type": "code",
      "source": [
        "N = int(input())\n",
        "\n",
        "for i in range(N):\n",
        "  "
      ],
      "metadata": {
        "id": "6odOIxCqgiKu"
      },
      "execution_count": null,
      "outputs": []
    },
    {
      "cell_type": "markdown",
      "source": [
        "### **4. 하노이 탑 이동 순서**\n",
        "\n",
        "세 개의 장대가 있고 첫 번째 장대에는 반경이 서로 다른 n개의 원판이 쌓여 있다. 각 원판은 반경이 큰 순서대로 쌓여있다. 이제 수도승들이 다음 규칙에 따라 첫 번째 장대에서 세 번째 장대로 옮기려 한다.\n",
        "\n",
        "1. 한 번에 한 개의 원판만을 다른 탑으로 옮길 수 있다.\n",
        "2. 쌓아 놓은 원판은 항상 위의 것이 아래의 것보다 작아야 한다.\n",
        "\n",
        "이 작업을 수행하는데 필요한 이동 순서를 출력하는 프로그램을 작성하라. 단, 이동 횟수는 최소가 되어야 한다.\n",
        "\n",
        "아래 그림은 원판이 5개인 경우의 예시이다.\n",
        "\n",
        "<img src=\"https://onlinejudgeimages.s3-ap-northeast-1.amazonaws.com/problem/11729/hanoi.png\"></img>"
      ],
      "metadata": {
        "id": "i3NsfJ61i2_Z"
      }
    },
    {
      "cell_type": "code",
      "source": [
        "N = int(input())"
      ],
      "metadata": {
        "id": "2rMKwxa2jE4_"
      },
      "execution_count": null,
      "outputs": []
    }
  ]
}