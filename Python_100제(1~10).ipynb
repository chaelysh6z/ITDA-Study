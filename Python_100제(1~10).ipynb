{
  "nbformat": 4,
  "nbformat_minor": 0,
  "metadata": {
    "colab": {
      "name": "Python 100제(1~10).ipynb",
      "provenance": [],
      "collapsed_sections": [],
      "authorship_tag": "ABX9TyNtTtTeODIcDzhufAsu7FJQ",
      "include_colab_link": true
    },
    "kernelspec": {
      "name": "python3",
      "display_name": "Python 3"
    },
    "language_info": {
      "name": "python"
    }
  },
  "cells": [
    {
      "cell_type": "markdown",
      "metadata": {
        "id": "view-in-github",
        "colab_type": "text"
      },
      "source": [
        "<a href=\"https://colab.research.google.com/github/chaelysh6z/Python-100/blob/main/Python_100%EC%A0%9C(1~10).ipynb\" target=\"_parent\"><img src=\"https://colab.research.google.com/assets/colab-badge.svg\" alt=\"Open In Colab\"/></a>"
      ]
    },
    {
      "cell_type": "markdown",
      "metadata": {
        "id": "_LokGpWYOwW3"
      },
      "source": [
        "# **Python 100제**"
      ]
    },
    {
      "cell_type": "markdown",
      "metadata": {
        "id": "gq12MSUYPMBy"
      },
      "source": [
        "## 문제1 : 리스트의 삭제\n",
        "다음 리스트에서 400, 500를 삭제하는 code를 입력하세요."
      ]
    },
    {
      "cell_type": "code",
      "metadata": {
        "colab": {
          "base_uri": "https://localhost:8080/"
        },
        "id": "OlbeUfSHOfZA",
        "outputId": "23090cd2-b36a-48a3-f93d-97d12ee37e53"
      },
      "source": [
        "nums = [100, 200, 300, 400, 500]\n",
        "nums.pop()\n",
        "nums.pop()\n",
        "print(nums)"
      ],
      "execution_count": null,
      "outputs": [
        {
          "output_type": "stream",
          "name": "stdout",
          "text": [
            "[100, 200, 300]\n"
          ]
        }
      ]
    },
    {
      "cell_type": "markdown",
      "metadata": {
        "id": "UEzY8ePAPpgq"
      },
      "source": [
        "## 문제2 : 리스트의 내장함수\n",
        "<pass>부분에 리스트 내장함수를 insert를 이용하여 코드를 입력하고 다음과 같이 출력되게 하세요.\n"
      ]
    },
    {
      "cell_type": "code",
      "metadata": {
        "colab": {
          "base_uri": "https://localhost:8080/"
        },
        "id": "mrwnJgd2P9Xa",
        "outputId": "929e9f26-e802-4830-f6c0-db044d755f71"
      },
      "source": [
        "l = [200, 100, 300]\n",
        "l.insert(2, 10000)\n",
        "print(l)"
      ],
      "execution_count": null,
      "outputs": [
        {
          "output_type": "stream",
          "name": "stdout",
          "text": [
            "[200, 100, 10000, 300]\n"
          ]
        }
      ]
    },
    {
      "cell_type": "markdown",
      "metadata": {
        "id": "hKVFLjhCQP_i"
      },
      "source": [
        "## 문제3 : 변수의 타입\n",
        "다음 출력 값으로 올바른 것은?"
      ]
    },
    {
      "cell_type": "code",
      "metadata": {
        "colab": {
          "base_uri": "https://localhost:8080/"
        },
        "id": "dStbdQ2VQVk1",
        "outputId": "f2c08ded-e949-4f81-ab34-09b244667504"
      },
      "source": [
        "ㅣ = [100, 200, 300]\n",
        "print(type(l))"
      ],
      "execution_count": null,
      "outputs": [
        {
          "output_type": "stream",
          "name": "stdout",
          "text": [
            "<class 'list'>\n"
          ]
        }
      ]
    },
    {
      "cell_type": "markdown",
      "metadata": {
        "id": "TfWZHwONQtLH"
      },
      "source": [
        "## 문제4 : 변수의 타입2\n",
        "다음 변수 a를 print(type(a))로 넣었을 때 출력될 값과의 연결이 알맞지 않은 것은?"
      ]
    },
    {
      "cell_type": "code",
      "metadata": {
        "colab": {
          "base_uri": "https://localhost:8080/"
        },
        "id": "XtoIuylKQ0Ld",
        "outputId": "6aacd7ab-1064-4ba1-c7ea-e5634115c98e"
      },
      "source": [
        "a = 1\n",
        "print(type(a))"
      ],
      "execution_count": null,
      "outputs": [
        {
          "output_type": "stream",
          "name": "stdout",
          "text": [
            "<class 'int'>\n"
          ]
        }
      ]
    },
    {
      "cell_type": "code",
      "metadata": {
        "colab": {
          "base_uri": "https://localhost:8080/"
        },
        "id": "Y3YI8EgIQ5s6",
        "outputId": "89b26208-47e5-4e3c-9c06-e01176392885"
      },
      "source": [
        "a = 2.22\n",
        "print(type(a))"
      ],
      "execution_count": null,
      "outputs": [
        {
          "output_type": "stream",
          "name": "stdout",
          "text": [
            "<class 'float'>\n"
          ]
        }
      ]
    },
    {
      "cell_type": "code",
      "metadata": {
        "colab": {
          "base_uri": "https://localhost:8080/"
        },
        "id": "j7V6jjBWQ8AZ",
        "outputId": "80ff7dc3-2d5f-474b-c6ae-2706748c49fe"
      },
      "source": [
        "a = 'p'\n",
        "print(type(a))"
      ],
      "execution_count": null,
      "outputs": [
        {
          "output_type": "stream",
          "name": "stdout",
          "text": [
            "<class 'str'>\n"
          ]
        }
      ]
    },
    {
      "cell_type": "code",
      "metadata": {
        "colab": {
          "base_uri": "https://localhost:8080/"
        },
        "id": "LY93ptnrQ9_S",
        "outputId": "16a5d726-bd95-434c-b041-16c176f4d0ac"
      },
      "source": [
        "a = [1, 2, 3]\n",
        "print(type(a))"
      ],
      "execution_count": null,
      "outputs": [
        {
          "output_type": "stream",
          "name": "stdout",
          "text": [
            "<class 'list'>\n"
          ]
        }
      ]
    },
    {
      "cell_type": "markdown",
      "metadata": {
        "id": "gRPEQScgRGrx"
      },
      "source": [
        "## 문제5 : for문 계산\n",
        "다음 코드의 출력 값으로 알맞은 것은?"
      ]
    },
    {
      "cell_type": "code",
      "metadata": {
        "colab": {
          "base_uri": "https://localhost:8080/"
        },
        "id": "EW3hkLASRROU",
        "outputId": "d5cde3f8-63d7-498d-9796-6c03f9e551b4"
      },
      "source": [
        "a = 10\n",
        "b = 2\n",
        "for i in range(1, 5, 2):\n",
        "  a += i\n",
        "\n",
        "print(a+b)"
      ],
      "execution_count": null,
      "outputs": [
        {
          "output_type": "stream",
          "name": "stdout",
          "text": [
            "16\n"
          ]
        }
      ]
    },
    {
      "cell_type": "markdown",
      "metadata": {
        "id": "S_HRCVAURbDB"
      },
      "source": [
        "## 문제6 : False\n",
        "다음은 파이썬 문법 중에서 False로 취급하는 것들 입니다.\n",
        "앗, False로 취급하지 않는 것이 하나 있네요! True를 찾아주세요."
      ]
    },
    {
      "cell_type": "code",
      "metadata": {
        "id": "zHM59rgbRak6"
      },
      "source": [
        "a = None\n",
        "\n",
        "if a:\n",
        "  print(a)"
      ],
      "execution_count": null,
      "outputs": []
    },
    {
      "cell_type": "code",
      "metadata": {
        "colab": {
          "base_uri": "https://localhost:8080/"
        },
        "id": "Jvt1S1gxSzXj",
        "outputId": "69679eff-8a48-453f-a0b6-9c242a6c9e3f"
      },
      "source": [
        "a = 1\n",
        "\n",
        "if a:\n",
        "  print(a)"
      ],
      "execution_count": null,
      "outputs": [
        {
          "output_type": "stream",
          "name": "stdout",
          "text": [
            "1\n"
          ]
        }
      ]
    },
    {
      "cell_type": "code",
      "metadata": {
        "id": "AztmylqfS2u9"
      },
      "source": [
        "a = \"\"\n",
        "\n",
        "if a:\n",
        "  print(a)"
      ],
      "execution_count": null,
      "outputs": []
    },
    {
      "cell_type": "code",
      "metadata": {
        "id": "AwvjE9caS2qR"
      },
      "source": [
        "a = 0\n",
        "\n",
        "if a:\n",
        "  print(a)"
      ],
      "execution_count": null,
      "outputs": []
    },
    {
      "cell_type": "code",
      "metadata": {
        "id": "BxJagWmsS-iH"
      },
      "source": [
        "a = bool(0)\n",
        "\n",
        "if a:\n",
        "  print(a)"
      ],
      "execution_count": null,
      "outputs": []
    },
    {
      "cell_type": "markdown",
      "metadata": {
        "id": "_Xje6eqvTDYt"
      },
      "source": [
        "## 문제7 : 변수명\n",
        "다음 중 변수명으로 사용할 수 없는 것 2개를 고르시오."
      ]
    },
    {
      "cell_type": "code",
      "metadata": {
        "id": "fhaaym3YTMUa"
      },
      "source": [
        "age = 1\n",
        "a = 1\n",
        "# as = 1\n",
        "_age = 1\n",
        "# 1age = 1"
      ],
      "execution_count": null,
      "outputs": []
    },
    {
      "cell_type": "markdown",
      "metadata": {
        "id": "bKHSIVuYTiQo"
      },
      "source": [
        "## 문제8 : 딕셔너리 키 이름 중복\n",
        "딕셔너리를 다음과 같이 만들었다. \n",
        "출력값을 입력하시오. (출력값은 공백을 넣지 않습니다. )"
      ]
    },
    {
      "cell_type": "code",
      "metadata": {
        "colab": {
          "base_uri": "https://localhost:8080/"
        },
        "id": "dFwwxLlDTnXp",
        "outputId": "37ffb7c4-3a2d-4359-f0e2-dc29df0982bd"
      },
      "source": [
        "d = {'height':180,'weight':78,'weight':84,'temparture':36,'eyesight':1}\n",
        "print(d['weight'])"
      ],
      "execution_count": null,
      "outputs": [
        {
          "output_type": "stream",
          "name": "stdout",
          "text": [
            "84\n"
          ]
        }
      ]
    },
    {
      "cell_type": "markdown",
      "metadata": {
        "id": "KVCqgTJ5Ttbe"
      },
      "source": [
        "## 문제 9 : sep과 end를 활용한 출력방법\n",
        "다음 소스 코드를 완성하여 날짜와 시간을 출력하시오."
      ]
    },
    {
      "cell_type": "code",
      "metadata": {
        "colab": {
          "base_uri": "https://localhost:8080/"
        },
        "id": "thwfVYXuT0YM",
        "outputId": "c499286b-93e6-4519-d46e-f592a9ad8ce8"
      },
      "source": [
        "year = '2019'\n",
        "month = '04'\n",
        "day = '26'\n",
        "hour = '11'\n",
        "minute = '34'\n",
        "second = '27'\n",
        "\n",
        "print(year, month, day, sep='/', end=' ')\n",
        "print(hour, minute, second, sep=':')"
      ],
      "execution_count": null,
      "outputs": [
        {
          "output_type": "stream",
          "name": "stdout",
          "text": [
            "2019/04/26 11:34:27\n"
          ]
        }
      ]
    },
    {
      "cell_type": "markdown",
      "metadata": {
        "id": "bJDo1xRPUaiY"
      },
      "source": [
        "## 문제10 : 별 찍기\n",
        "크리스마스 날, 은비는 친구들과 함께 파티를 하기로 했습니다. 그런데, 크리스마스 트리를 사는 것을 깜빡하고 말았습니다. 온 가게를 돌아다녀 봤지만 크리스마스 트리는 모두 품절이었습니다. \n",
        "하는 수 없이 은비는 프로그래밍으로 트리를 만들기로 합니다. "
      ]
    },
    {
      "cell_type": "code",
      "metadata": {
        "colab": {
          "base_uri": "https://localhost:8080/"
        },
        "id": "f7ZKoFlGUh3-",
        "outputId": "c101dc27-46fd-49d8-f834-54be38af1019"
      },
      "source": [
        "n = int(input())\n",
        "for i in range(1,n+1):\n",
        "\tprint(\" \"*(n-i)+(\"*\"*(2*i-1)))"
      ],
      "execution_count": null,
      "outputs": [
        {
          "output_type": "stream",
          "name": "stdout",
          "text": [
            "5\n",
            "    *\n",
            "   ***\n",
            "  *****\n",
            " *******\n",
            "*********\n"
          ]
        }
      ]
    },
    {
      "cell_type": "code",
      "metadata": {
        "colab": {
          "base_uri": "https://localhost:8080/"
        },
        "id": "fg2681n4pKjs",
        "outputId": "3899d1d1-67ca-4cde-f4fe-ed5546775a34"
      },
      "source": [
        "n = int(input())\n",
        "for i in range(1,n+1):\n",
        "  for j in range(0,n-i):\n",
        "    print(\" \", end=\"\")\n",
        "  for k in range(0,2*i-1):\n",
        "    print(\"*\", end=\"\")\n",
        "  print()"
      ],
      "execution_count": null,
      "outputs": [
        {
          "output_type": "stream",
          "name": "stdout",
          "text": [
            "5\n",
            "    *\n",
            "   ***\n",
            "  *****\n",
            " *******\n",
            "*********\n"
          ]
        }
      ]
    }
  ]
}